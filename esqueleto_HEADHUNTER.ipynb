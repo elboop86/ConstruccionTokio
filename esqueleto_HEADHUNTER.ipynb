{
  "nbformat": 4,
  "nbformat_minor": 0,
  "metadata": {
    "colab": {
      "provenance": [],
      "include_colab_link": true
    },
    "kernelspec": {
      "name": "python3",
      "display_name": "Python 3"
    },
    "language_info": {
      "name": "python"
    }
  },
  "cells": [
    {
      "cell_type": "markdown",
      "metadata": {
        "id": "view-in-github",
        "colab_type": "text"
      },
      "source": [
        "<a href=\"https://colab.research.google.com/github/elboop86/ConstruccionTokio/blob/main/esqueleto_HEADHUNTER.ipynb\" target=\"_parent\"><img src=\"https://colab.research.google.com/assets/colab-badge.svg\" alt=\"Open In Colab\"/></a>"
      ]
    },
    {
      "cell_type": "code",
      "execution_count": null,
      "metadata": {
        "id": "F3UhxuuCQeqs"
      },
      "outputs": [],
      "source": [
        "import pandas as pd\n",
        "import numpy as np\n",
        "import io\n",
        "from google.colab import files\n",
        "pd.set_option('display.float_format', lambda x: '%.2f' % x)"
      ]
    },
    {
      "cell_type": "markdown",
      "source": [
        "# UPLOAD & QUICK OVERVIEW"
      ],
      "metadata": {
        "id": "CnAx6E1ADvdm"
      }
    },
    {
      "cell_type": "markdown",
      "source": [
        "#LINKEDIN"
      ],
      "metadata": {
        "id": "-kwJ8OXd-kBd"
      }
    },
    {
      "cell_type": "markdown",
      "source": [
        "UPLOAD FILES"
      ],
      "metadata": {
        "id": "3BZHZLBSYYgv"
      }
    },
    {
      "cell_type": "code",
      "source": [
        "uploaded = files.upload()"
      ],
      "metadata": {
        "id": "9XMZa0H1QvWj",
        "colab": {
          "base_uri": "https://localhost:8080/",
          "height": 71
        },
        "outputId": "d636ed0f-c094-4826-f52d-5083209c2d51"
      },
      "execution_count": null,
      "outputs": [
        {
          "output_type": "display_data",
          "data": {
            "text/plain": [
              "<IPython.core.display.HTML object>"
            ],
            "text/html": [
              "\n",
              "     <input type=\"file\" id=\"files-0d966e2e-eeba-4665-8250-ff475e197abb\" name=\"files[]\" multiple disabled\n",
              "        style=\"border:none\" />\n",
              "     <output id=\"result-0d966e2e-eeba-4665-8250-ff475e197abb\">\n",
              "      Upload widget is only available when the cell has been executed in the\n",
              "      current browser session. Please rerun this cell to enable.\n",
              "      </output>\n",
              "      <script>// Copyright 2017 Google LLC\n",
              "//\n",
              "// Licensed under the Apache License, Version 2.0 (the \"License\");\n",
              "// you may not use this file except in compliance with the License.\n",
              "// You may obtain a copy of the License at\n",
              "//\n",
              "//      http://www.apache.org/licenses/LICENSE-2.0\n",
              "//\n",
              "// Unless required by applicable law or agreed to in writing, software\n",
              "// distributed under the License is distributed on an \"AS IS\" BASIS,\n",
              "// WITHOUT WARRANTIES OR CONDITIONS OF ANY KIND, either express or implied.\n",
              "// See the License for the specific language governing permissions and\n",
              "// limitations under the License.\n",
              "\n",
              "/**\n",
              " * @fileoverview Helpers for google.colab Python module.\n",
              " */\n",
              "(function(scope) {\n",
              "function span(text, styleAttributes = {}) {\n",
              "  const element = document.createElement('span');\n",
              "  element.textContent = text;\n",
              "  for (const key of Object.keys(styleAttributes)) {\n",
              "    element.style[key] = styleAttributes[key];\n",
              "  }\n",
              "  return element;\n",
              "}\n",
              "\n",
              "// Max number of bytes which will be uploaded at a time.\n",
              "const MAX_PAYLOAD_SIZE = 100 * 1024;\n",
              "\n",
              "function _uploadFiles(inputId, outputId) {\n",
              "  const steps = uploadFilesStep(inputId, outputId);\n",
              "  const outputElement = document.getElementById(outputId);\n",
              "  // Cache steps on the outputElement to make it available for the next call\n",
              "  // to uploadFilesContinue from Python.\n",
              "  outputElement.steps = steps;\n",
              "\n",
              "  return _uploadFilesContinue(outputId);\n",
              "}\n",
              "\n",
              "// This is roughly an async generator (not supported in the browser yet),\n",
              "// where there are multiple asynchronous steps and the Python side is going\n",
              "// to poll for completion of each step.\n",
              "// This uses a Promise to block the python side on completion of each step,\n",
              "// then passes the result of the previous step as the input to the next step.\n",
              "function _uploadFilesContinue(outputId) {\n",
              "  const outputElement = document.getElementById(outputId);\n",
              "  const steps = outputElement.steps;\n",
              "\n",
              "  const next = steps.next(outputElement.lastPromiseValue);\n",
              "  return Promise.resolve(next.value.promise).then((value) => {\n",
              "    // Cache the last promise value to make it available to the next\n",
              "    // step of the generator.\n",
              "    outputElement.lastPromiseValue = value;\n",
              "    return next.value.response;\n",
              "  });\n",
              "}\n",
              "\n",
              "/**\n",
              " * Generator function which is called between each async step of the upload\n",
              " * process.\n",
              " * @param {string} inputId Element ID of the input file picker element.\n",
              " * @param {string} outputId Element ID of the output display.\n",
              " * @return {!Iterable<!Object>} Iterable of next steps.\n",
              " */\n",
              "function* uploadFilesStep(inputId, outputId) {\n",
              "  const inputElement = document.getElementById(inputId);\n",
              "  inputElement.disabled = false;\n",
              "\n",
              "  const outputElement = document.getElementById(outputId);\n",
              "  outputElement.innerHTML = '';\n",
              "\n",
              "  const pickedPromise = new Promise((resolve) => {\n",
              "    inputElement.addEventListener('change', (e) => {\n",
              "      resolve(e.target.files);\n",
              "    });\n",
              "  });\n",
              "\n",
              "  const cancel = document.createElement('button');\n",
              "  inputElement.parentElement.appendChild(cancel);\n",
              "  cancel.textContent = 'Cancel upload';\n",
              "  const cancelPromise = new Promise((resolve) => {\n",
              "    cancel.onclick = () => {\n",
              "      resolve(null);\n",
              "    };\n",
              "  });\n",
              "\n",
              "  // Wait for the user to pick the files.\n",
              "  const files = yield {\n",
              "    promise: Promise.race([pickedPromise, cancelPromise]),\n",
              "    response: {\n",
              "      action: 'starting',\n",
              "    }\n",
              "  };\n",
              "\n",
              "  cancel.remove();\n",
              "\n",
              "  // Disable the input element since further picks are not allowed.\n",
              "  inputElement.disabled = true;\n",
              "\n",
              "  if (!files) {\n",
              "    return {\n",
              "      response: {\n",
              "        action: 'complete',\n",
              "      }\n",
              "    };\n",
              "  }\n",
              "\n",
              "  for (const file of files) {\n",
              "    const li = document.createElement('li');\n",
              "    li.append(span(file.name, {fontWeight: 'bold'}));\n",
              "    li.append(span(\n",
              "        `(${file.type || 'n/a'}) - ${file.size} bytes, ` +\n",
              "        `last modified: ${\n",
              "            file.lastModifiedDate ? file.lastModifiedDate.toLocaleDateString() :\n",
              "                                    'n/a'} - `));\n",
              "    const percent = span('0% done');\n",
              "    li.appendChild(percent);\n",
              "\n",
              "    outputElement.appendChild(li);\n",
              "\n",
              "    const fileDataPromise = new Promise((resolve) => {\n",
              "      const reader = new FileReader();\n",
              "      reader.onload = (e) => {\n",
              "        resolve(e.target.result);\n",
              "      };\n",
              "      reader.readAsArrayBuffer(file);\n",
              "    });\n",
              "    // Wait for the data to be ready.\n",
              "    let fileData = yield {\n",
              "      promise: fileDataPromise,\n",
              "      response: {\n",
              "        action: 'continue',\n",
              "      }\n",
              "    };\n",
              "\n",
              "    // Use a chunked sending to avoid message size limits. See b/62115660.\n",
              "    let position = 0;\n",
              "    do {\n",
              "      const length = Math.min(fileData.byteLength - position, MAX_PAYLOAD_SIZE);\n",
              "      const chunk = new Uint8Array(fileData, position, length);\n",
              "      position += length;\n",
              "\n",
              "      const base64 = btoa(String.fromCharCode.apply(null, chunk));\n",
              "      yield {\n",
              "        response: {\n",
              "          action: 'append',\n",
              "          file: file.name,\n",
              "          data: base64,\n",
              "        },\n",
              "      };\n",
              "\n",
              "      let percentDone = fileData.byteLength === 0 ?\n",
              "          100 :\n",
              "          Math.round((position / fileData.byteLength) * 100);\n",
              "      percent.textContent = `${percentDone}% done`;\n",
              "\n",
              "    } while (position < fileData.byteLength);\n",
              "  }\n",
              "\n",
              "  // All done.\n",
              "  yield {\n",
              "    response: {\n",
              "      action: 'complete',\n",
              "    }\n",
              "  };\n",
              "}\n",
              "\n",
              "scope.google = scope.google || {};\n",
              "scope.google.colab = scope.google.colab || {};\n",
              "scope.google.colab._files = {\n",
              "  _uploadFiles,\n",
              "  _uploadFilesContinue,\n",
              "};\n",
              "})(self);\n",
              "</script> "
            ]
          },
          "metadata": {}
        },
        {
          "output_type": "stream",
          "name": "stdout",
          "text": [
            "Saving Scrap_limpio-6JUNIO_conFecha.csv to Scrap_limpio-6JUNIO_conFecha.csv\n"
          ]
        }
      ]
    },
    {
      "cell_type": "markdown",
      "source": [
        "HEAD, TAIL, SAMPLE & SHAPE"
      ],
      "metadata": {
        "id": "qcrpKOYuAzsv"
      }
    },
    {
      "cell_type": "code",
      "source": [
        "df_scrap  = pd.read_csv('Scrap_limpio-6JUNIO_conFecha.csv')\n",
        "df_scrap.head(2)"
      ],
      "metadata": {
        "id": "VNdR-lbxQ5Zu",
        "colab": {
          "base_uri": "https://localhost:8080/",
          "height": 335
        },
        "outputId": "b91d734a-19b7-4c8b-82ac-77a7971f3ddc"
      },
      "execution_count": null,
      "outputs": [
        {
          "output_type": "execute_result",
          "data": {
            "text/plain": [
              "                                   Job_title               Empresa  \\\n",
              "0                        Junior Data Analyst                  Blue   \n",
              "1  Junior Analista de Procesamiento de Datos  KTI Talent Indicator   \n",
              "\n",
              "                            Ubicacion Tipo de Contrato     Mode  \\\n",
              "0          Marbella, Andalusia, Spain              NaN  On-site   \n",
              "1  Madrid, Community of Madrid, Spain              NaN   Remote   \n",
              "\n",
              "            Recruiting First_offered  \\\n",
              "0  Actively recruiting    2 days ago   \n",
              "1                  NaN    1 week ago   \n",
              "\n",
              "                                            Link How_to_apply  \\\n",
              "0  https://www.linkedin.com/jobs/view/3924394979   Easy Apply   \n",
              "1  https://www.linkedin.com/jobs/view/3916072323          NaN   \n",
              "\n",
              "                                            Job_TEXT  ...  Unnamed: 11  \\\n",
              "0  About the job Applicants must have a Spanish w...  ...          NaN   \n",
              "1  About the job ¡Únete a KTI Key Talent Indicato...  ...          NaN   \n",
              "\n",
              "    Idioma  Experiencia                                             Skills  \\\n",
              "0  English  Entry-level  ['Trafficking, organizing, and optimizing ad c...   \n",
              "1  Spanish       Junior  Conocimientos en Control-M Enterprise Manager ...   \n",
              "\n",
              "          Herramientas Lenguaje de Programación Agile Lenguajes que piden  \\\n",
              "0  ['Blue ́s systems']                      NaN   NaN             Spanish   \n",
              "1                  NaN                      NaN   NaN                 NaN   \n",
              "\n",
              "                             Resumen de lo que piden Fecha_publicacion  \n",
              "0  Organized, Number-oriented, Good with deadline...        17-05-2024  \n",
              "1  Conocimientos en Control-M Enterprise Manager ...        12-05-2024  \n",
              "\n",
              "[2 rows x 21 columns]"
            ],
            "text/html": [
              "\n",
              "  <div id=\"df-6509a6fd-6ade-479d-b2b1-bd4856460c34\" class=\"colab-df-container\">\n",
              "    <div>\n",
              "<style scoped>\n",
              "    .dataframe tbody tr th:only-of-type {\n",
              "        vertical-align: middle;\n",
              "    }\n",
              "\n",
              "    .dataframe tbody tr th {\n",
              "        vertical-align: top;\n",
              "    }\n",
              "\n",
              "    .dataframe thead th {\n",
              "        text-align: right;\n",
              "    }\n",
              "</style>\n",
              "<table border=\"1\" class=\"dataframe\">\n",
              "  <thead>\n",
              "    <tr style=\"text-align: right;\">\n",
              "      <th></th>\n",
              "      <th>Job_title</th>\n",
              "      <th>Empresa</th>\n",
              "      <th>Ubicacion</th>\n",
              "      <th>Tipo de Contrato</th>\n",
              "      <th>Mode</th>\n",
              "      <th>Recruiting</th>\n",
              "      <th>First_offered</th>\n",
              "      <th>Link</th>\n",
              "      <th>How_to_apply</th>\n",
              "      <th>Job_TEXT</th>\n",
              "      <th>...</th>\n",
              "      <th>Unnamed: 11</th>\n",
              "      <th>Idioma</th>\n",
              "      <th>Experiencia</th>\n",
              "      <th>Skills</th>\n",
              "      <th>Herramientas</th>\n",
              "      <th>Lenguaje de Programación</th>\n",
              "      <th>Agile</th>\n",
              "      <th>Lenguajes que piden</th>\n",
              "      <th>Resumen de lo que piden</th>\n",
              "      <th>Fecha_publicacion</th>\n",
              "    </tr>\n",
              "  </thead>\n",
              "  <tbody>\n",
              "    <tr>\n",
              "      <th>0</th>\n",
              "      <td>Junior Data Analyst</td>\n",
              "      <td>Blue</td>\n",
              "      <td>Marbella, Andalusia, Spain</td>\n",
              "      <td>NaN</td>\n",
              "      <td>On-site</td>\n",
              "      <td>Actively recruiting</td>\n",
              "      <td>2 days ago</td>\n",
              "      <td>https://www.linkedin.com/jobs/view/3924394979</td>\n",
              "      <td>Easy Apply</td>\n",
              "      <td>About the job Applicants must have a Spanish w...</td>\n",
              "      <td>...</td>\n",
              "      <td>NaN</td>\n",
              "      <td>English</td>\n",
              "      <td>Entry-level</td>\n",
              "      <td>['Trafficking, organizing, and optimizing ad c...</td>\n",
              "      <td>['Blue ́s systems']</td>\n",
              "      <td>NaN</td>\n",
              "      <td>NaN</td>\n",
              "      <td>Spanish</td>\n",
              "      <td>Organized, Number-oriented, Good with deadline...</td>\n",
              "      <td>17-05-2024</td>\n",
              "    </tr>\n",
              "    <tr>\n",
              "      <th>1</th>\n",
              "      <td>Junior Analista de Procesamiento de Datos</td>\n",
              "      <td>KTI Talent Indicator</td>\n",
              "      <td>Madrid, Community of Madrid, Spain</td>\n",
              "      <td>NaN</td>\n",
              "      <td>Remote</td>\n",
              "      <td>NaN</td>\n",
              "      <td>1 week ago</td>\n",
              "      <td>https://www.linkedin.com/jobs/view/3916072323</td>\n",
              "      <td>NaN</td>\n",
              "      <td>About the job ¡Únete a KTI Key Talent Indicato...</td>\n",
              "      <td>...</td>\n",
              "      <td>NaN</td>\n",
              "      <td>Spanish</td>\n",
              "      <td>Junior</td>\n",
              "      <td>Conocimientos en Control-M Enterprise Manager ...</td>\n",
              "      <td>NaN</td>\n",
              "      <td>NaN</td>\n",
              "      <td>NaN</td>\n",
              "      <td>NaN</td>\n",
              "      <td>Conocimientos en Control-M Enterprise Manager ...</td>\n",
              "      <td>12-05-2024</td>\n",
              "    </tr>\n",
              "  </tbody>\n",
              "</table>\n",
              "<p>2 rows × 21 columns</p>\n",
              "</div>\n",
              "    <div class=\"colab-df-buttons\">\n",
              "\n",
              "  <div class=\"colab-df-container\">\n",
              "    <button class=\"colab-df-convert\" onclick=\"convertToInteractive('df-6509a6fd-6ade-479d-b2b1-bd4856460c34')\"\n",
              "            title=\"Convert this dataframe to an interactive table.\"\n",
              "            style=\"display:none;\">\n",
              "\n",
              "  <svg xmlns=\"http://www.w3.org/2000/svg\" height=\"24px\" viewBox=\"0 -960 960 960\">\n",
              "    <path d=\"M120-120v-720h720v720H120Zm60-500h600v-160H180v160Zm220 220h160v-160H400v160Zm0 220h160v-160H400v160ZM180-400h160v-160H180v160Zm440 0h160v-160H620v160ZM180-180h160v-160H180v160Zm440 0h160v-160H620v160Z\"/>\n",
              "  </svg>\n",
              "    </button>\n",
              "\n",
              "  <style>\n",
              "    .colab-df-container {\n",
              "      display:flex;\n",
              "      gap: 12px;\n",
              "    }\n",
              "\n",
              "    .colab-df-convert {\n",
              "      background-color: #E8F0FE;\n",
              "      border: none;\n",
              "      border-radius: 50%;\n",
              "      cursor: pointer;\n",
              "      display: none;\n",
              "      fill: #1967D2;\n",
              "      height: 32px;\n",
              "      padding: 0 0 0 0;\n",
              "      width: 32px;\n",
              "    }\n",
              "\n",
              "    .colab-df-convert:hover {\n",
              "      background-color: #E2EBFA;\n",
              "      box-shadow: 0px 1px 2px rgba(60, 64, 67, 0.3), 0px 1px 3px 1px rgba(60, 64, 67, 0.15);\n",
              "      fill: #174EA6;\n",
              "    }\n",
              "\n",
              "    .colab-df-buttons div {\n",
              "      margin-bottom: 4px;\n",
              "    }\n",
              "\n",
              "    [theme=dark] .colab-df-convert {\n",
              "      background-color: #3B4455;\n",
              "      fill: #D2E3FC;\n",
              "    }\n",
              "\n",
              "    [theme=dark] .colab-df-convert:hover {\n",
              "      background-color: #434B5C;\n",
              "      box-shadow: 0px 1px 3px 1px rgba(0, 0, 0, 0.15);\n",
              "      filter: drop-shadow(0px 1px 2px rgba(0, 0, 0, 0.3));\n",
              "      fill: #FFFFFF;\n",
              "    }\n",
              "  </style>\n",
              "\n",
              "    <script>\n",
              "      const buttonEl =\n",
              "        document.querySelector('#df-6509a6fd-6ade-479d-b2b1-bd4856460c34 button.colab-df-convert');\n",
              "      buttonEl.style.display =\n",
              "        google.colab.kernel.accessAllowed ? 'block' : 'none';\n",
              "\n",
              "      async function convertToInteractive(key) {\n",
              "        const element = document.querySelector('#df-6509a6fd-6ade-479d-b2b1-bd4856460c34');\n",
              "        const dataTable =\n",
              "          await google.colab.kernel.invokeFunction('convertToInteractive',\n",
              "                                                    [key], {});\n",
              "        if (!dataTable) return;\n",
              "\n",
              "        const docLinkHtml = 'Like what you see? Visit the ' +\n",
              "          '<a target=\"_blank\" href=https://colab.research.google.com/notebooks/data_table.ipynb>data table notebook</a>'\n",
              "          + ' to learn more about interactive tables.';\n",
              "        element.innerHTML = '';\n",
              "        dataTable['output_type'] = 'display_data';\n",
              "        await google.colab.output.renderOutput(dataTable, element);\n",
              "        const docLink = document.createElement('div');\n",
              "        docLink.innerHTML = docLinkHtml;\n",
              "        element.appendChild(docLink);\n",
              "      }\n",
              "    </script>\n",
              "  </div>\n",
              "\n",
              "\n",
              "<div id=\"df-47dba2ce-c846-499d-a445-add2c5a1f134\">\n",
              "  <button class=\"colab-df-quickchart\" onclick=\"quickchart('df-47dba2ce-c846-499d-a445-add2c5a1f134')\"\n",
              "            title=\"Suggest charts\"\n",
              "            style=\"display:none;\">\n",
              "\n",
              "<svg xmlns=\"http://www.w3.org/2000/svg\" height=\"24px\"viewBox=\"0 0 24 24\"\n",
              "     width=\"24px\">\n",
              "    <g>\n",
              "        <path d=\"M19 3H5c-1.1 0-2 .9-2 2v14c0 1.1.9 2 2 2h14c1.1 0 2-.9 2-2V5c0-1.1-.9-2-2-2zM9 17H7v-7h2v7zm4 0h-2V7h2v10zm4 0h-2v-4h2v4z\"/>\n",
              "    </g>\n",
              "</svg>\n",
              "  </button>\n",
              "\n",
              "<style>\n",
              "  .colab-df-quickchart {\n",
              "      --bg-color: #E8F0FE;\n",
              "      --fill-color: #1967D2;\n",
              "      --hover-bg-color: #E2EBFA;\n",
              "      --hover-fill-color: #174EA6;\n",
              "      --disabled-fill-color: #AAA;\n",
              "      --disabled-bg-color: #DDD;\n",
              "  }\n",
              "\n",
              "  [theme=dark] .colab-df-quickchart {\n",
              "      --bg-color: #3B4455;\n",
              "      --fill-color: #D2E3FC;\n",
              "      --hover-bg-color: #434B5C;\n",
              "      --hover-fill-color: #FFFFFF;\n",
              "      --disabled-bg-color: #3B4455;\n",
              "      --disabled-fill-color: #666;\n",
              "  }\n",
              "\n",
              "  .colab-df-quickchart {\n",
              "    background-color: var(--bg-color);\n",
              "    border: none;\n",
              "    border-radius: 50%;\n",
              "    cursor: pointer;\n",
              "    display: none;\n",
              "    fill: var(--fill-color);\n",
              "    height: 32px;\n",
              "    padding: 0;\n",
              "    width: 32px;\n",
              "  }\n",
              "\n",
              "  .colab-df-quickchart:hover {\n",
              "    background-color: var(--hover-bg-color);\n",
              "    box-shadow: 0 1px 2px rgba(60, 64, 67, 0.3), 0 1px 3px 1px rgba(60, 64, 67, 0.15);\n",
              "    fill: var(--button-hover-fill-color);\n",
              "  }\n",
              "\n",
              "  .colab-df-quickchart-complete:disabled,\n",
              "  .colab-df-quickchart-complete:disabled:hover {\n",
              "    background-color: var(--disabled-bg-color);\n",
              "    fill: var(--disabled-fill-color);\n",
              "    box-shadow: none;\n",
              "  }\n",
              "\n",
              "  .colab-df-spinner {\n",
              "    border: 2px solid var(--fill-color);\n",
              "    border-color: transparent;\n",
              "    border-bottom-color: var(--fill-color);\n",
              "    animation:\n",
              "      spin 1s steps(1) infinite;\n",
              "  }\n",
              "\n",
              "  @keyframes spin {\n",
              "    0% {\n",
              "      border-color: transparent;\n",
              "      border-bottom-color: var(--fill-color);\n",
              "      border-left-color: var(--fill-color);\n",
              "    }\n",
              "    20% {\n",
              "      border-color: transparent;\n",
              "      border-left-color: var(--fill-color);\n",
              "      border-top-color: var(--fill-color);\n",
              "    }\n",
              "    30% {\n",
              "      border-color: transparent;\n",
              "      border-left-color: var(--fill-color);\n",
              "      border-top-color: var(--fill-color);\n",
              "      border-right-color: var(--fill-color);\n",
              "    }\n",
              "    40% {\n",
              "      border-color: transparent;\n",
              "      border-right-color: var(--fill-color);\n",
              "      border-top-color: var(--fill-color);\n",
              "    }\n",
              "    60% {\n",
              "      border-color: transparent;\n",
              "      border-right-color: var(--fill-color);\n",
              "    }\n",
              "    80% {\n",
              "      border-color: transparent;\n",
              "      border-right-color: var(--fill-color);\n",
              "      border-bottom-color: var(--fill-color);\n",
              "    }\n",
              "    90% {\n",
              "      border-color: transparent;\n",
              "      border-bottom-color: var(--fill-color);\n",
              "    }\n",
              "  }\n",
              "</style>\n",
              "\n",
              "  <script>\n",
              "    async function quickchart(key) {\n",
              "      const quickchartButtonEl =\n",
              "        document.querySelector('#' + key + ' button');\n",
              "      quickchartButtonEl.disabled = true;  // To prevent multiple clicks.\n",
              "      quickchartButtonEl.classList.add('colab-df-spinner');\n",
              "      try {\n",
              "        const charts = await google.colab.kernel.invokeFunction(\n",
              "            'suggestCharts', [key], {});\n",
              "      } catch (error) {\n",
              "        console.error('Error during call to suggestCharts:', error);\n",
              "      }\n",
              "      quickchartButtonEl.classList.remove('colab-df-spinner');\n",
              "      quickchartButtonEl.classList.add('colab-df-quickchart-complete');\n",
              "    }\n",
              "    (() => {\n",
              "      let quickchartButtonEl =\n",
              "        document.querySelector('#df-47dba2ce-c846-499d-a445-add2c5a1f134 button');\n",
              "      quickchartButtonEl.style.display =\n",
              "        google.colab.kernel.accessAllowed ? 'block' : 'none';\n",
              "    })();\n",
              "  </script>\n",
              "</div>\n",
              "    </div>\n",
              "  </div>\n"
            ],
            "application/vnd.google.colaboratory.intrinsic+json": {
              "type": "dataframe",
              "variable_name": "df_scrap"
            }
          },
          "metadata": {},
          "execution_count": 3
        }
      ]
    },
    {
      "cell_type": "code",
      "source": [
        "df_scrap.tail(2)"
      ],
      "metadata": {
        "id": "MV-5S-R6j0Q9"
      },
      "execution_count": null,
      "outputs": []
    },
    {
      "cell_type": "code",
      "source": [
        "#aleatorio\n",
        "df.sample()"
      ],
      "metadata": {
        "id": "mdJpYj24j3SB"
      },
      "execution_count": null,
      "outputs": []
    },
    {
      "cell_type": "code",
      "source": [
        "df_scrap.shape"
      ],
      "metadata": {
        "id": "FEgAQgCxQ_b1",
        "colab": {
          "base_uri": "https://localhost:8080/"
        },
        "outputId": "b57cc99e-5a77-498e-a0bc-91a18f4c0850"
      },
      "execution_count": null,
      "outputs": [
        {
          "output_type": "execute_result",
          "data": {
            "text/plain": [
              "(1616, 21)"
            ]
          },
          "metadata": {},
          "execution_count": 4
        }
      ]
    },
    {
      "cell_type": "code",
      "source": [
        "#print(f\">>> Shape del df: {df.shape}\\n\")"
      ],
      "metadata": {
        "id": "StiNvnHTTUT4"
      },
      "execution_count": null,
      "outputs": []
    },
    {
      "cell_type": "markdown",
      "source": [
        "DESCRIBE (Vista rápida del DF)"
      ],
      "metadata": {
        "id": "611yj4OTBfQB"
      }
    },
    {
      "cell_type": "code",
      "source": [
        "df_scrap.describe()"
      ],
      "metadata": {
        "id": "Nlnkrl5MQ_ZH"
      },
      "execution_count": null,
      "outputs": []
    },
    {
      "cell_type": "markdown",
      "source": [
        "# COLUMNAS"
      ],
      "metadata": {
        "id": "BRaGbqGrD4-f"
      }
    },
    {
      "cell_type": "code",
      "source": [
        "df_scrap.columns"
      ],
      "metadata": {
        "id": "M8UR2UuujmUK",
        "colab": {
          "base_uri": "https://localhost:8080/"
        },
        "outputId": "cf00684d-1ac4-49db-923a-091badbb08e6"
      },
      "execution_count": null,
      "outputs": [
        {
          "output_type": "execute_result",
          "data": {
            "text/plain": [
              "Index(['Job_title', 'Empresa', 'Ubicacion', 'Tipo de Contrato', 'Mode',\n",
              "       'Recruiting', 'First_offered', 'Link', 'How_to_apply', 'Job_TEXT',\n",
              "       'Unnamed: 10', 'Unnamed: 11', 'Idioma', 'Experiencia', 'Skills',\n",
              "       'Herramientas', 'Lenguaje de Programación', 'Agile',\n",
              "       'Lenguajes que piden', 'Resumen de lo que piden', 'Fecha_publicacion'],\n",
              "      dtype='object')"
            ]
          },
          "metadata": {},
          "execution_count": 121
        }
      ]
    },
    {
      "cell_type": "code",
      "source": [
        "df_scrap.dtypes"
      ],
      "metadata": {
        "id": "MBFvQkpdQ_WY"
      },
      "execution_count": null,
      "outputs": []
    },
    {
      "cell_type": "code",
      "source": [
        "df_scrap.info()"
      ],
      "metadata": {
        "id": "WlWRnTqIkCZ_"
      },
      "execution_count": null,
      "outputs": []
    },
    {
      "cell_type": "code",
      "source": [
        "#VER UNA COLUMNA X\n",
        "df_scrap[\"Recruiting\"]"
      ],
      "metadata": {
        "id": "ih-oZGGvYoiv"
      },
      "execution_count": null,
      "outputs": []
    },
    {
      "cell_type": "markdown",
      "source": [
        "ELIMINAR COLUMNAS"
      ],
      "metadata": {
        "id": "41ft7Q18Tk2n"
      }
    },
    {
      "cell_type": "code",
      "source": [
        "#Eliminar las columnas con información innecesaria\n",
        "df_linkedIn = df_scrap.drop(['Recruiting','How_to_apply','Unnamed: 10','Unnamed: 11', 'First_offered', 'Link'], axis=1)"
      ],
      "metadata": {
        "id": "XvB6VYsaTkPh"
      },
      "execution_count": null,
      "outputs": []
    },
    {
      "cell_type": "markdown",
      "source": [
        "AGREGAR COLUMNAS"
      ],
      "metadata": {
        "id": "CK_CIKqYT-N4"
      }
    },
    {
      "cell_type": "code",
      "source": [
        "df_linkedIn['Salario_minimo']= np.nan #rellenar con nulos\n",
        "df_linkedIn['Salario_maximo']= np.nan #rellenar con nulos\n",
        "df_linkedIn['Periodo salarial']= np.nan #rellenar con nulos\n",
        "df_linkedIn['Jornada'] = np.nan #rellenar con nulos\n"
      ],
      "metadata": {
        "id": "XrLOHZjoTkMp"
      },
      "execution_count": null,
      "outputs": []
    },
    {
      "cell_type": "code",
      "source": [
        "#RENOMBRAR COLUMNAS\n",
        "df_linkedIn_renombrado=df_linkedIn.rename(columns={'Job_title':'Titulo', 'Empresa': 'Nombre_empresa', 'Ubicacion': 'Ciudad', 'Mode': 'Tipo de trabajo', 'Job_TEXT': 'Descripcion', 'Idioma': 'Idioma_aviso', 'Lenguajes que piden':'Idiomas', 'Skills': 'Tech_skills', 'Herramientas': 'Herramientas de software'})"
      ],
      "metadata": {
        "id": "9fwuddhOfaf8"
      },
      "execution_count": null,
      "outputs": []
    },
    {
      "cell_type": "code",
      "source": [
        "df_linkedIn_renombrado.columns"
      ],
      "metadata": {
        "colab": {
          "base_uri": "https://localhost:8080/"
        },
        "id": "2EoqPbmvP09K",
        "outputId": "2c677716-ae7d-4439-e92c-4dea196f61b2"
      },
      "execution_count": null,
      "outputs": [
        {
          "output_type": "execute_result",
          "data": {
            "text/plain": [
              "Index(['Titulo', 'Nombre_empresa', 'Ciudad', 'Tipo de Contrato',\n",
              "       'Tipo de trabajo', 'Descripcion', 'Idioma_aviso', 'Experiencia',\n",
              "       'Tech_skills', 'Herramientas de software', 'Lenguaje de Programación',\n",
              "       'Agile', 'Idiomas', 'Resumen de lo que piden', 'Fecha_publicacion',\n",
              "       'Salario_minimo', 'Salario_maximo', 'Periodo salarial', 'Jornada'],\n",
              "      dtype='object')"
            ]
          },
          "metadata": {},
          "execution_count": 125
        }
      ]
    },
    {
      "cell_type": "code",
      "source": [
        "#de string a date\n",
        "#df['Fecha_scrap']=pd.to_datetime(df['Fecha_scrap'], dayfirst=True)"
      ],
      "metadata": {
        "id": "0IE3WxdO88Au"
      },
      "execution_count": null,
      "outputs": []
    },
    {
      "cell_type": "code",
      "source": [
        "#Calcular la fecha de publicacion a partir de la fecha de scrapping! <-- Ver guion que dio de resultado la columna fecha_publicacion"
      ],
      "metadata": {
        "id": "vMZBHa1AVSRt"
      },
      "execution_count": null,
      "outputs": []
    },
    {
      "cell_type": "markdown",
      "source": [
        "LISTAR LAS COLUMNAS"
      ],
      "metadata": {
        "id": "OEk-84BFSezD"
      }
    },
    {
      "cell_type": "code",
      "source": [
        "df_linkedIn_renombrado.columns.values.tolist()"
      ],
      "metadata": {
        "id": "FaEF913pQ-4a",
        "colab": {
          "base_uri": "https://localhost:8080/"
        },
        "outputId": "357ab143-a21a-446d-d8f7-38d2d6d3f14f"
      },
      "execution_count": null,
      "outputs": [
        {
          "output_type": "execute_result",
          "data": {
            "text/plain": [
              "['Titulo',\n",
              " 'Nombre_empresa',\n",
              " 'Ciudad',\n",
              " 'Tipo de Contrato',\n",
              " 'Tipo de trabajo',\n",
              " 'Descripcion',\n",
              " 'Idioma_aviso',\n",
              " 'Experiencia',\n",
              " 'Tech_skills',\n",
              " 'Herramientas de software',\n",
              " 'Lenguaje de Programación',\n",
              " 'Agile',\n",
              " 'Idiomas',\n",
              " 'Resumen de lo que piden',\n",
              " 'Fecha_publicacion',\n",
              " 'Salario_minimo',\n",
              " 'Salario_maximo',\n",
              " 'Periodo salarial',\n",
              " 'Jornada']"
            ]
          },
          "metadata": {},
          "execution_count": 97
        }
      ]
    },
    {
      "cell_type": "markdown",
      "source": [
        "REORDENAR COLUMNAS"
      ],
      "metadata": {
        "id": "mG5kekwySGO_"
      }
    },
    {
      "cell_type": "code",
      "source": [
        "df_linkedIn_reordenado = df_linkedIn_renombrado.reindex(['Fecha_publicacion','Titulo','Nombre_empresa','Ciudad','Tipo de trabajo','Tipo de contrato','Descripcion','Resumen de lo que piden','Idioma_aviso','Experiencia','Idiomas','Tech_skills','Agile','Herramientas_software','Lenguajes de programación', 'Salario_minimo',\n",
        " 'Salario_maximo','Periodo salarial','Jornada'], axis=1)"
      ],
      "metadata": {
        "id": "-SwSVVOogBbV"
      },
      "execution_count": null,
      "outputs": []
    },
    {
      "cell_type": "code",
      "source": [
        "df_linkedIn_reordenado.columns"
      ],
      "metadata": {
        "colab": {
          "base_uri": "https://localhost:8080/"
        },
        "id": "uEu1SD6Dh4E6",
        "outputId": "e1477c77-03f3-4522-c221-601f8f327ecc"
      },
      "execution_count": null,
      "outputs": [
        {
          "output_type": "execute_result",
          "data": {
            "text/plain": [
              "Index(['Fecha_publicacion', 'Titulo', 'Nombre_empresa', 'Ciudad',\n",
              "       'Tipo de trabajo', 'Tipo de contrato', 'Descripcion',\n",
              "       'Resumen de lo que piden', 'Idioma_aviso', 'Experiencia', 'Idiomas',\n",
              "       'Tech_skills', 'Agile', 'Herramientas_software',\n",
              "       'Lenguajes de programación', 'Salario_minimo', 'Salario_maximo',\n",
              "       'Periodo salarial', 'Jornada'],\n",
              "      dtype='object')"
            ]
          },
          "metadata": {},
          "execution_count": 198
        }
      ]
    },
    {
      "cell_type": "code",
      "source": [
        "#capitalizar los titulos de las columnas\n",
        "df_linkedIn_reordenado.columns = df_linkedIn_reordenado.columns.str.capitalize()"
      ],
      "metadata": {
        "id": "MSD5Nw--6k5q"
      },
      "execution_count": null,
      "outputs": []
    },
    {
      "cell_type": "code",
      "source": [
        "# X mas repetido en dataset\n",
        "df.X.value_counts()"
      ],
      "metadata": {
        "id": "-XSoJ0p0Q_Tx"
      },
      "execution_count": null,
      "outputs": []
    },
    {
      "cell_type": "code",
      "source": [
        "df_linkedIn_reordenado['Fecha_publicacion'] = pd.to_datetime(df_linkedIn_reordenado.Fecha_publicacion, dayfirst=True)"
      ],
      "metadata": {
        "id": "SfDR_-Q1wwOv"
      },
      "execution_count": null,
      "outputs": []
    },
    {
      "cell_type": "code",
      "source": [
        "df_linkedIn_reordenado['Fecha_publicacion']= df_linkedIn_reordenado['Fecha_publicacion'].dt.strftime('%d/%m/%Y')"
      ],
      "metadata": {
        "id": "7r0JbloIwnBT"
      },
      "execution_count": null,
      "outputs": []
    },
    {
      "cell_type": "code",
      "source": [
        "df_linkedIn_reordenado.shape"
      ],
      "metadata": {
        "colab": {
          "base_uri": "https://localhost:8080/"
        },
        "id": "P3IfPKr0AaYB",
        "outputId": "26274659-3ab1-4927-c077-5dbc6c615bc4"
      },
      "execution_count": null,
      "outputs": [
        {
          "output_type": "execute_result",
          "data": {
            "text/plain": [
              "(1616, 19)"
            ]
          },
          "metadata": {},
          "execution_count": 201
        }
      ]
    },
    {
      "cell_type": "code",
      "source": [
        "df_linkedIn_reordenado.head(2)"
      ],
      "metadata": {
        "colab": {
          "base_uri": "https://localhost:8080/",
          "height": 271
        },
        "id": "RutOcO0HAcnJ",
        "outputId": "be8b3f8f-2727-4b73-d399-ae951d4c859a"
      },
      "execution_count": null,
      "outputs": [
        {
          "output_type": "execute_result",
          "data": {
            "text/plain": [
              "  Fecha_publicacion                                     Titulo  \\\n",
              "0        17/05/2024                        Junior Data Analyst   \n",
              "1        12/05/2024  Junior Analista de Procesamiento de Datos   \n",
              "\n",
              "         Nombre_empresa                              Ciudad Tipo de trabajo  \\\n",
              "0                  Blue          Marbella, Andalusia, Spain         On-site   \n",
              "1  KTI Talent Indicator  Madrid, Community of Madrid, Spain          Remote   \n",
              "\n",
              "   Tipo de contrato                                        Descripcion  \\\n",
              "0               NaN  About the job Applicants must have a Spanish w...   \n",
              "1               NaN  About the job ¡Únete a KTI Key Talent Indicato...   \n",
              "\n",
              "                             Resumen de lo que piden Idioma_aviso  \\\n",
              "0  Organized, Number-oriented, Good with deadline...      English   \n",
              "1  Conocimientos en Control-M Enterprise Manager ...      Spanish   \n",
              "\n",
              "   Experiencia  Idiomas                                        Tech_skills  \\\n",
              "0  Entry-level  Spanish  ['Trafficking, organizing, and optimizing ad c...   \n",
              "1       Junior      NaN  Conocimientos en Control-M Enterprise Manager ...   \n",
              "\n",
              "  Agile  Herramientas_software  Lenguajes de programación  Salario_minimo  \\\n",
              "0   NaN                    NaN                        NaN             NaN   \n",
              "1   NaN                    NaN                        NaN             NaN   \n",
              "\n",
              "   Salario_maximo  Periodo salarial  Jornada  \n",
              "0             NaN               NaN      NaN  \n",
              "1             NaN               NaN      NaN  "
            ],
            "text/html": [
              "\n",
              "  <div id=\"df-f9bd862e-c731-486b-9e53-3602e0c73d20\" class=\"colab-df-container\">\n",
              "    <div>\n",
              "<style scoped>\n",
              "    .dataframe tbody tr th:only-of-type {\n",
              "        vertical-align: middle;\n",
              "    }\n",
              "\n",
              "    .dataframe tbody tr th {\n",
              "        vertical-align: top;\n",
              "    }\n",
              "\n",
              "    .dataframe thead th {\n",
              "        text-align: right;\n",
              "    }\n",
              "</style>\n",
              "<table border=\"1\" class=\"dataframe\">\n",
              "  <thead>\n",
              "    <tr style=\"text-align: right;\">\n",
              "      <th></th>\n",
              "      <th>Fecha_publicacion</th>\n",
              "      <th>Titulo</th>\n",
              "      <th>Nombre_empresa</th>\n",
              "      <th>Ciudad</th>\n",
              "      <th>Tipo de trabajo</th>\n",
              "      <th>Tipo de contrato</th>\n",
              "      <th>Descripcion</th>\n",
              "      <th>Resumen de lo que piden</th>\n",
              "      <th>Idioma_aviso</th>\n",
              "      <th>Experiencia</th>\n",
              "      <th>Idiomas</th>\n",
              "      <th>Tech_skills</th>\n",
              "      <th>Agile</th>\n",
              "      <th>Herramientas_software</th>\n",
              "      <th>Lenguajes de programación</th>\n",
              "      <th>Salario_minimo</th>\n",
              "      <th>Salario_maximo</th>\n",
              "      <th>Periodo salarial</th>\n",
              "      <th>Jornada</th>\n",
              "    </tr>\n",
              "  </thead>\n",
              "  <tbody>\n",
              "    <tr>\n",
              "      <th>0</th>\n",
              "      <td>17/05/2024</td>\n",
              "      <td>Junior Data Analyst</td>\n",
              "      <td>Blue</td>\n",
              "      <td>Marbella, Andalusia, Spain</td>\n",
              "      <td>On-site</td>\n",
              "      <td>NaN</td>\n",
              "      <td>About the job Applicants must have a Spanish w...</td>\n",
              "      <td>Organized, Number-oriented, Good with deadline...</td>\n",
              "      <td>English</td>\n",
              "      <td>Entry-level</td>\n",
              "      <td>Spanish</td>\n",
              "      <td>['Trafficking, organizing, and optimizing ad c...</td>\n",
              "      <td>NaN</td>\n",
              "      <td>NaN</td>\n",
              "      <td>NaN</td>\n",
              "      <td>NaN</td>\n",
              "      <td>NaN</td>\n",
              "      <td>NaN</td>\n",
              "      <td>NaN</td>\n",
              "    </tr>\n",
              "    <tr>\n",
              "      <th>1</th>\n",
              "      <td>12/05/2024</td>\n",
              "      <td>Junior Analista de Procesamiento de Datos</td>\n",
              "      <td>KTI Talent Indicator</td>\n",
              "      <td>Madrid, Community of Madrid, Spain</td>\n",
              "      <td>Remote</td>\n",
              "      <td>NaN</td>\n",
              "      <td>About the job ¡Únete a KTI Key Talent Indicato...</td>\n",
              "      <td>Conocimientos en Control-M Enterprise Manager ...</td>\n",
              "      <td>Spanish</td>\n",
              "      <td>Junior</td>\n",
              "      <td>NaN</td>\n",
              "      <td>Conocimientos en Control-M Enterprise Manager ...</td>\n",
              "      <td>NaN</td>\n",
              "      <td>NaN</td>\n",
              "      <td>NaN</td>\n",
              "      <td>NaN</td>\n",
              "      <td>NaN</td>\n",
              "      <td>NaN</td>\n",
              "      <td>NaN</td>\n",
              "    </tr>\n",
              "  </tbody>\n",
              "</table>\n",
              "</div>\n",
              "    <div class=\"colab-df-buttons\">\n",
              "\n",
              "  <div class=\"colab-df-container\">\n",
              "    <button class=\"colab-df-convert\" onclick=\"convertToInteractive('df-f9bd862e-c731-486b-9e53-3602e0c73d20')\"\n",
              "            title=\"Convert this dataframe to an interactive table.\"\n",
              "            style=\"display:none;\">\n",
              "\n",
              "  <svg xmlns=\"http://www.w3.org/2000/svg\" height=\"24px\" viewBox=\"0 -960 960 960\">\n",
              "    <path d=\"M120-120v-720h720v720H120Zm60-500h600v-160H180v160Zm220 220h160v-160H400v160Zm0 220h160v-160H400v160ZM180-400h160v-160H180v160Zm440 0h160v-160H620v160ZM180-180h160v-160H180v160Zm440 0h160v-160H620v160Z\"/>\n",
              "  </svg>\n",
              "    </button>\n",
              "\n",
              "  <style>\n",
              "    .colab-df-container {\n",
              "      display:flex;\n",
              "      gap: 12px;\n",
              "    }\n",
              "\n",
              "    .colab-df-convert {\n",
              "      background-color: #E8F0FE;\n",
              "      border: none;\n",
              "      border-radius: 50%;\n",
              "      cursor: pointer;\n",
              "      display: none;\n",
              "      fill: #1967D2;\n",
              "      height: 32px;\n",
              "      padding: 0 0 0 0;\n",
              "      width: 32px;\n",
              "    }\n",
              "\n",
              "    .colab-df-convert:hover {\n",
              "      background-color: #E2EBFA;\n",
              "      box-shadow: 0px 1px 2px rgba(60, 64, 67, 0.3), 0px 1px 3px 1px rgba(60, 64, 67, 0.15);\n",
              "      fill: #174EA6;\n",
              "    }\n",
              "\n",
              "    .colab-df-buttons div {\n",
              "      margin-bottom: 4px;\n",
              "    }\n",
              "\n",
              "    [theme=dark] .colab-df-convert {\n",
              "      background-color: #3B4455;\n",
              "      fill: #D2E3FC;\n",
              "    }\n",
              "\n",
              "    [theme=dark] .colab-df-convert:hover {\n",
              "      background-color: #434B5C;\n",
              "      box-shadow: 0px 1px 3px 1px rgba(0, 0, 0, 0.15);\n",
              "      filter: drop-shadow(0px 1px 2px rgba(0, 0, 0, 0.3));\n",
              "      fill: #FFFFFF;\n",
              "    }\n",
              "  </style>\n",
              "\n",
              "    <script>\n",
              "      const buttonEl =\n",
              "        document.querySelector('#df-f9bd862e-c731-486b-9e53-3602e0c73d20 button.colab-df-convert');\n",
              "      buttonEl.style.display =\n",
              "        google.colab.kernel.accessAllowed ? 'block' : 'none';\n",
              "\n",
              "      async function convertToInteractive(key) {\n",
              "        const element = document.querySelector('#df-f9bd862e-c731-486b-9e53-3602e0c73d20');\n",
              "        const dataTable =\n",
              "          await google.colab.kernel.invokeFunction('convertToInteractive',\n",
              "                                                    [key], {});\n",
              "        if (!dataTable) return;\n",
              "\n",
              "        const docLinkHtml = 'Like what you see? Visit the ' +\n",
              "          '<a target=\"_blank\" href=https://colab.research.google.com/notebooks/data_table.ipynb>data table notebook</a>'\n",
              "          + ' to learn more about interactive tables.';\n",
              "        element.innerHTML = '';\n",
              "        dataTable['output_type'] = 'display_data';\n",
              "        await google.colab.output.renderOutput(dataTable, element);\n",
              "        const docLink = document.createElement('div');\n",
              "        docLink.innerHTML = docLinkHtml;\n",
              "        element.appendChild(docLink);\n",
              "      }\n",
              "    </script>\n",
              "  </div>\n",
              "\n",
              "\n",
              "<div id=\"df-0f4b575c-e1e3-4b9e-95d0-1bb6f3e5bffd\">\n",
              "  <button class=\"colab-df-quickchart\" onclick=\"quickchart('df-0f4b575c-e1e3-4b9e-95d0-1bb6f3e5bffd')\"\n",
              "            title=\"Suggest charts\"\n",
              "            style=\"display:none;\">\n",
              "\n",
              "<svg xmlns=\"http://www.w3.org/2000/svg\" height=\"24px\"viewBox=\"0 0 24 24\"\n",
              "     width=\"24px\">\n",
              "    <g>\n",
              "        <path d=\"M19 3H5c-1.1 0-2 .9-2 2v14c0 1.1.9 2 2 2h14c1.1 0 2-.9 2-2V5c0-1.1-.9-2-2-2zM9 17H7v-7h2v7zm4 0h-2V7h2v10zm4 0h-2v-4h2v4z\"/>\n",
              "    </g>\n",
              "</svg>\n",
              "  </button>\n",
              "\n",
              "<style>\n",
              "  .colab-df-quickchart {\n",
              "      --bg-color: #E8F0FE;\n",
              "      --fill-color: #1967D2;\n",
              "      --hover-bg-color: #E2EBFA;\n",
              "      --hover-fill-color: #174EA6;\n",
              "      --disabled-fill-color: #AAA;\n",
              "      --disabled-bg-color: #DDD;\n",
              "  }\n",
              "\n",
              "  [theme=dark] .colab-df-quickchart {\n",
              "      --bg-color: #3B4455;\n",
              "      --fill-color: #D2E3FC;\n",
              "      --hover-bg-color: #434B5C;\n",
              "      --hover-fill-color: #FFFFFF;\n",
              "      --disabled-bg-color: #3B4455;\n",
              "      --disabled-fill-color: #666;\n",
              "  }\n",
              "\n",
              "  .colab-df-quickchart {\n",
              "    background-color: var(--bg-color);\n",
              "    border: none;\n",
              "    border-radius: 50%;\n",
              "    cursor: pointer;\n",
              "    display: none;\n",
              "    fill: var(--fill-color);\n",
              "    height: 32px;\n",
              "    padding: 0;\n",
              "    width: 32px;\n",
              "  }\n",
              "\n",
              "  .colab-df-quickchart:hover {\n",
              "    background-color: var(--hover-bg-color);\n",
              "    box-shadow: 0 1px 2px rgba(60, 64, 67, 0.3), 0 1px 3px 1px rgba(60, 64, 67, 0.15);\n",
              "    fill: var(--button-hover-fill-color);\n",
              "  }\n",
              "\n",
              "  .colab-df-quickchart-complete:disabled,\n",
              "  .colab-df-quickchart-complete:disabled:hover {\n",
              "    background-color: var(--disabled-bg-color);\n",
              "    fill: var(--disabled-fill-color);\n",
              "    box-shadow: none;\n",
              "  }\n",
              "\n",
              "  .colab-df-spinner {\n",
              "    border: 2px solid var(--fill-color);\n",
              "    border-color: transparent;\n",
              "    border-bottom-color: var(--fill-color);\n",
              "    animation:\n",
              "      spin 1s steps(1) infinite;\n",
              "  }\n",
              "\n",
              "  @keyframes spin {\n",
              "    0% {\n",
              "      border-color: transparent;\n",
              "      border-bottom-color: var(--fill-color);\n",
              "      border-left-color: var(--fill-color);\n",
              "    }\n",
              "    20% {\n",
              "      border-color: transparent;\n",
              "      border-left-color: var(--fill-color);\n",
              "      border-top-color: var(--fill-color);\n",
              "    }\n",
              "    30% {\n",
              "      border-color: transparent;\n",
              "      border-left-color: var(--fill-color);\n",
              "      border-top-color: var(--fill-color);\n",
              "      border-right-color: var(--fill-color);\n",
              "    }\n",
              "    40% {\n",
              "      border-color: transparent;\n",
              "      border-right-color: var(--fill-color);\n",
              "      border-top-color: var(--fill-color);\n",
              "    }\n",
              "    60% {\n",
              "      border-color: transparent;\n",
              "      border-right-color: var(--fill-color);\n",
              "    }\n",
              "    80% {\n",
              "      border-color: transparent;\n",
              "      border-right-color: var(--fill-color);\n",
              "      border-bottom-color: var(--fill-color);\n",
              "    }\n",
              "    90% {\n",
              "      border-color: transparent;\n",
              "      border-bottom-color: var(--fill-color);\n",
              "    }\n",
              "  }\n",
              "</style>\n",
              "\n",
              "  <script>\n",
              "    async function quickchart(key) {\n",
              "      const quickchartButtonEl =\n",
              "        document.querySelector('#' + key + ' button');\n",
              "      quickchartButtonEl.disabled = true;  // To prevent multiple clicks.\n",
              "      quickchartButtonEl.classList.add('colab-df-spinner');\n",
              "      try {\n",
              "        const charts = await google.colab.kernel.invokeFunction(\n",
              "            'suggestCharts', [key], {});\n",
              "      } catch (error) {\n",
              "        console.error('Error during call to suggestCharts:', error);\n",
              "      }\n",
              "      quickchartButtonEl.classList.remove('colab-df-spinner');\n",
              "      quickchartButtonEl.classList.add('colab-df-quickchart-complete');\n",
              "    }\n",
              "    (() => {\n",
              "      let quickchartButtonEl =\n",
              "        document.querySelector('#df-0f4b575c-e1e3-4b9e-95d0-1bb6f3e5bffd button');\n",
              "      quickchartButtonEl.style.display =\n",
              "        google.colab.kernel.accessAllowed ? 'block' : 'none';\n",
              "    })();\n",
              "  </script>\n",
              "</div>\n",
              "    </div>\n",
              "  </div>\n"
            ],
            "application/vnd.google.colaboratory.intrinsic+json": {
              "type": "dataframe",
              "variable_name": "df_linkedIn_reordenado",
              "summary": "{\n  \"name\": \"df_linkedIn_reordenado\",\n  \"rows\": 1616,\n  \"fields\": [\n    {\n      \"column\": \"Fecha_publicacion\",\n      \"properties\": {\n        \"dtype\": \"object\",\n        \"num_unique_values\": 22,\n        \"samples\": [\n          \"17/05/2024\",\n          \"21/12/2023\",\n          \"18/05/2024\"\n        ],\n        \"semantic_type\": \"\",\n        \"description\": \"\"\n      }\n    },\n    {\n      \"column\": \"Titulo\",\n      \"properties\": {\n        \"dtype\": \"string\",\n        \"num_unique_values\": 889,\n        \"samples\": [\n          \"Language Data Analyst\",\n          \"Cloud Data Scientist \",\n          \"Pr\\u00e1cticas Profesionales Data Analyst ALLIANZ TECH IBEROLATAM\"\n        ],\n        \"semantic_type\": \"\",\n        \"description\": \"\"\n      }\n    },\n    {\n      \"column\": \"Nombre_empresa\",\n      \"properties\": {\n        \"dtype\": \"category\",\n        \"num_unique_values\": 773,\n        \"samples\": [\n          \"ENGIE Espa\\u00f1a\",\n          \"Neurored TMS & SCM\",\n          \"Tata Consultancy Services\"\n        ],\n        \"semantic_type\": \"\",\n        \"description\": \"\"\n      }\n    },\n    {\n      \"column\": \"Ciudad\",\n      \"properties\": {\n        \"dtype\": \"category\",\n        \"num_unique_values\": 150,\n        \"samples\": [\n          \"Abu Dhabi, Abu Dhabi Emirate, United Arab Emirates\",\n          \"Pozuelo de Alarc\\u00f3n, Community of Madrid, Spain\",\n          \"Tortosa, Catalonia, Spain\"\n        ],\n        \"semantic_type\": \"\",\n        \"description\": \"\"\n      }\n    },\n    {\n      \"column\": \"Tipo de trabajo\",\n      \"properties\": {\n        \"dtype\": \"category\",\n        \"num_unique_values\": 4,\n        \"samples\": [\n          \"Remote\",\n          \"On-site (100% remote in Europe)\",\n          \"On-site\"\n        ],\n        \"semantic_type\": \"\",\n        \"description\": \"\"\n      }\n    },\n    {\n      \"column\": \"Tipo de contrato\",\n      \"properties\": {\n        \"dtype\": \"number\",\n        \"std\": null,\n        \"min\": null,\n        \"max\": null,\n        \"num_unique_values\": 0,\n        \"samples\": [],\n        \"semantic_type\": \"\",\n        \"description\": \"\"\n      }\n    },\n    {\n      \"column\": \"Descripcion\",\n      \"properties\": {\n        \"dtype\": \"string\",\n        \"num_unique_values\": 1375,\n        \"samples\": [],\n        \"semantic_type\": \"\",\n        \"description\": \"\"\n      }\n    },\n    {\n      \"column\": \"Resumen de lo que piden\",\n      \"properties\": {\n        \"dtype\": \"string\",\n        \"num_unique_values\": 1530,\n        \"samples\": [],\n        \"semantic_type\": \"\",\n        \"description\": \"\"\n      }\n    },\n    {\n      \"column\": \"Idioma_aviso\",\n      \"properties\": {\n        \"dtype\": \"category\",\n        \"num_unique_values\": 11,\n        \"samples\": [],\n        \"semantic_type\": \"\",\n        \"description\": \"\"\n      }\n    },\n    {\n      \"column\": \"Experiencia\",\n      \"properties\": {\n        \"dtype\": \"category\",\n        \"num_unique_values\": 592,\n        \"samples\": [],\n        \"semantic_type\": \"\",\n        \"description\": \"\"\n      }\n    },\n    {\n      \"column\": \"Idiomas\",\n      \"properties\": {\n        \"dtype\": \"category\",\n        \"num_unique_values\": 230,\n        \"samples\": [],\n        \"semantic_type\": \"\",\n        \"description\": \"\"\n      }\n    },\n    {\n      \"column\": \"Tech_skills\",\n      \"properties\": {\n        \"dtype\": \"string\",\n        \"num_unique_values\": 1481,\n        \"samples\": [],\n        \"semantic_type\": \"\",\n        \"description\": \"\"\n      }\n    },\n    {\n      \"column\": \"Agile\",\n      \"properties\": {\n        \"dtype\": \"category\",\n        \"num_unique_values\": 92,\n        \"samples\": [],\n        \"semantic_type\": \"\",\n        \"description\": \"\"\n      }\n    },\n    {\n      \"column\": \"Herramientas_software\",\n      \"properties\": {\n        \"dtype\": \"number\",\n        \"std\": null,\n        \"min\": null,\n        \"max\": null,\n        \"num_unique_values\": 0,\n        \"samples\": [],\n        \"semantic_type\": \"\",\n        \"description\": \"\"\n      }\n    },\n    {\n      \"column\": \"Lenguajes de programaci\\u00f3n\",\n      \"properties\": {\n        \"dtype\": \"number\",\n        \"std\": null,\n        \"min\": null,\n        \"max\": null,\n        \"num_unique_values\": 0,\n        \"samples\": [],\n        \"semantic_type\": \"\",\n        \"description\": \"\"\n      }\n    },\n    {\n      \"column\": \"Salario_minimo\",\n      \"properties\": {\n        \"dtype\": \"number\",\n        \"std\": null,\n        \"min\": null,\n        \"max\": null,\n        \"num_unique_values\": 0,\n        \"samples\": [],\n        \"semantic_type\": \"\",\n        \"description\": \"\"\n      }\n    },\n    {\n      \"column\": \"Salario_maximo\",\n      \"properties\": {\n        \"dtype\": \"number\",\n        \"std\": null,\n        \"min\": null,\n        \"max\": null,\n        \"num_unique_values\": 0,\n        \"samples\": [],\n        \"semantic_type\": \"\",\n        \"description\": \"\"\n      }\n    },\n    {\n      \"column\": \"Periodo salarial\",\n      \"properties\": {\n        \"dtype\": \"number\",\n        \"std\": null,\n        \"min\": null,\n        \"max\": null,\n        \"num_unique_values\": 0,\n        \"samples\": [],\n        \"semantic_type\": \"\",\n        \"description\": \"\"\n      }\n    },\n    {\n      \"column\": \"Jornada\",\n      \"properties\": {\n        \"dtype\": \"number\",\n        \"std\": null,\n        \"min\": null,\n        \"max\": null,\n        \"num_unique_values\": 0,\n        \"samples\": [],\n        \"semantic_type\": \"\",\n        \"description\": \"\"\n      }\n    }\n  ]\n}"
            }
          },
          "metadata": {},
          "execution_count": 203
        }
      ]
    },
    {
      "cell_type": "markdown",
      "source": [
        "#HEADHUNTERDATASET_FIXED"
      ],
      "metadata": {
        "id": "ddOHPdtbMCpa"
      }
    },
    {
      "cell_type": "code",
      "source": [
        "#cargar .xlsx de Pontia, pasado por José\n",
        "uploaded = files.upload()"
      ],
      "metadata": {
        "colab": {
          "base_uri": "https://localhost:8080/",
          "height": 71
        },
        "id": "oWqDgO5D10_W",
        "outputId": "a051ca8b-4555-4c5a-eb45-125dc2045081"
      },
      "execution_count": null,
      "outputs": [
        {
          "output_type": "display_data",
          "data": {
            "text/plain": [
              "<IPython.core.display.HTML object>"
            ],
            "text/html": [
              "\n",
              "     <input type=\"file\" id=\"files-19f9c01e-a04a-40d0-9066-a148849b6753\" name=\"files[]\" multiple disabled\n",
              "        style=\"border:none\" />\n",
              "     <output id=\"result-19f9c01e-a04a-40d0-9066-a148849b6753\">\n",
              "      Upload widget is only available when the cell has been executed in the\n",
              "      current browser session. Please rerun this cell to enable.\n",
              "      </output>\n",
              "      <script>// Copyright 2017 Google LLC\n",
              "//\n",
              "// Licensed under the Apache License, Version 2.0 (the \"License\");\n",
              "// you may not use this file except in compliance with the License.\n",
              "// You may obtain a copy of the License at\n",
              "//\n",
              "//      http://www.apache.org/licenses/LICENSE-2.0\n",
              "//\n",
              "// Unless required by applicable law or agreed to in writing, software\n",
              "// distributed under the License is distributed on an \"AS IS\" BASIS,\n",
              "// WITHOUT WARRANTIES OR CONDITIONS OF ANY KIND, either express or implied.\n",
              "// See the License for the specific language governing permissions and\n",
              "// limitations under the License.\n",
              "\n",
              "/**\n",
              " * @fileoverview Helpers for google.colab Python module.\n",
              " */\n",
              "(function(scope) {\n",
              "function span(text, styleAttributes = {}) {\n",
              "  const element = document.createElement('span');\n",
              "  element.textContent = text;\n",
              "  for (const key of Object.keys(styleAttributes)) {\n",
              "    element.style[key] = styleAttributes[key];\n",
              "  }\n",
              "  return element;\n",
              "}\n",
              "\n",
              "// Max number of bytes which will be uploaded at a time.\n",
              "const MAX_PAYLOAD_SIZE = 100 * 1024;\n",
              "\n",
              "function _uploadFiles(inputId, outputId) {\n",
              "  const steps = uploadFilesStep(inputId, outputId);\n",
              "  const outputElement = document.getElementById(outputId);\n",
              "  // Cache steps on the outputElement to make it available for the next call\n",
              "  // to uploadFilesContinue from Python.\n",
              "  outputElement.steps = steps;\n",
              "\n",
              "  return _uploadFilesContinue(outputId);\n",
              "}\n",
              "\n",
              "// This is roughly an async generator (not supported in the browser yet),\n",
              "// where there are multiple asynchronous steps and the Python side is going\n",
              "// to poll for completion of each step.\n",
              "// This uses a Promise to block the python side on completion of each step,\n",
              "// then passes the result of the previous step as the input to the next step.\n",
              "function _uploadFilesContinue(outputId) {\n",
              "  const outputElement = document.getElementById(outputId);\n",
              "  const steps = outputElement.steps;\n",
              "\n",
              "  const next = steps.next(outputElement.lastPromiseValue);\n",
              "  return Promise.resolve(next.value.promise).then((value) => {\n",
              "    // Cache the last promise value to make it available to the next\n",
              "    // step of the generator.\n",
              "    outputElement.lastPromiseValue = value;\n",
              "    return next.value.response;\n",
              "  });\n",
              "}\n",
              "\n",
              "/**\n",
              " * Generator function which is called between each async step of the upload\n",
              " * process.\n",
              " * @param {string} inputId Element ID of the input file picker element.\n",
              " * @param {string} outputId Element ID of the output display.\n",
              " * @return {!Iterable<!Object>} Iterable of next steps.\n",
              " */\n",
              "function* uploadFilesStep(inputId, outputId) {\n",
              "  const inputElement = document.getElementById(inputId);\n",
              "  inputElement.disabled = false;\n",
              "\n",
              "  const outputElement = document.getElementById(outputId);\n",
              "  outputElement.innerHTML = '';\n",
              "\n",
              "  const pickedPromise = new Promise((resolve) => {\n",
              "    inputElement.addEventListener('change', (e) => {\n",
              "      resolve(e.target.files);\n",
              "    });\n",
              "  });\n",
              "\n",
              "  const cancel = document.createElement('button');\n",
              "  inputElement.parentElement.appendChild(cancel);\n",
              "  cancel.textContent = 'Cancel upload';\n",
              "  const cancelPromise = new Promise((resolve) => {\n",
              "    cancel.onclick = () => {\n",
              "      resolve(null);\n",
              "    };\n",
              "  });\n",
              "\n",
              "  // Wait for the user to pick the files.\n",
              "  const files = yield {\n",
              "    promise: Promise.race([pickedPromise, cancelPromise]),\n",
              "    response: {\n",
              "      action: 'starting',\n",
              "    }\n",
              "  };\n",
              "\n",
              "  cancel.remove();\n",
              "\n",
              "  // Disable the input element since further picks are not allowed.\n",
              "  inputElement.disabled = true;\n",
              "\n",
              "  if (!files) {\n",
              "    return {\n",
              "      response: {\n",
              "        action: 'complete',\n",
              "      }\n",
              "    };\n",
              "  }\n",
              "\n",
              "  for (const file of files) {\n",
              "    const li = document.createElement('li');\n",
              "    li.append(span(file.name, {fontWeight: 'bold'}));\n",
              "    li.append(span(\n",
              "        `(${file.type || 'n/a'}) - ${file.size} bytes, ` +\n",
              "        `last modified: ${\n",
              "            file.lastModifiedDate ? file.lastModifiedDate.toLocaleDateString() :\n",
              "                                    'n/a'} - `));\n",
              "    const percent = span('0% done');\n",
              "    li.appendChild(percent);\n",
              "\n",
              "    outputElement.appendChild(li);\n",
              "\n",
              "    const fileDataPromise = new Promise((resolve) => {\n",
              "      const reader = new FileReader();\n",
              "      reader.onload = (e) => {\n",
              "        resolve(e.target.result);\n",
              "      };\n",
              "      reader.readAsArrayBuffer(file);\n",
              "    });\n",
              "    // Wait for the data to be ready.\n",
              "    let fileData = yield {\n",
              "      promise: fileDataPromise,\n",
              "      response: {\n",
              "        action: 'continue',\n",
              "      }\n",
              "    };\n",
              "\n",
              "    // Use a chunked sending to avoid message size limits. See b/62115660.\n",
              "    let position = 0;\n",
              "    do {\n",
              "      const length = Math.min(fileData.byteLength - position, MAX_PAYLOAD_SIZE);\n",
              "      const chunk = new Uint8Array(fileData, position, length);\n",
              "      position += length;\n",
              "\n",
              "      const base64 = btoa(String.fromCharCode.apply(null, chunk));\n",
              "      yield {\n",
              "        response: {\n",
              "          action: 'append',\n",
              "          file: file.name,\n",
              "          data: base64,\n",
              "        },\n",
              "      };\n",
              "\n",
              "      let percentDone = fileData.byteLength === 0 ?\n",
              "          100 :\n",
              "          Math.round((position / fileData.byteLength) * 100);\n",
              "      percent.textContent = `${percentDone}% done`;\n",
              "\n",
              "    } while (position < fileData.byteLength);\n",
              "  }\n",
              "\n",
              "  // All done.\n",
              "  yield {\n",
              "    response: {\n",
              "      action: 'complete',\n",
              "    }\n",
              "  };\n",
              "}\n",
              "\n",
              "scope.google = scope.google || {};\n",
              "scope.google.colab = scope.google.colab || {};\n",
              "scope.google.colab._files = {\n",
              "  _uploadFiles,\n",
              "  _uploadFilesContinue,\n",
              "};\n",
              "})(self);\n",
              "</script> "
            ]
          },
          "metadata": {}
        },
        {
          "output_type": "stream",
          "name": "stdout",
          "text": [
            "Saving HeadHunterDataSet_fixed.xlsx to HeadHunterDataSet_fixed (3).xlsx\n"
          ]
        }
      ]
    },
    {
      "cell_type": "code",
      "source": [
        "df_pontia = pd.read_excel('HeadHunterDataSet_fixed.xlsx')\n",
        "df_pontia.head(2)"
      ],
      "metadata": {
        "colab": {
          "base_uri": "https://localhost:8080/",
          "height": 318
        },
        "id": "fX3JOANU101d",
        "outputId": "305f4a4c-3814-4f3e-921f-bdc92b89e94e"
      },
      "execution_count": null,
      "outputs": [
        {
          "output_type": "execute_result",
          "data": {
            "text/plain": [
              "  fecha de publicacion                                             titulo  \\\n",
              "0           2022-07-12                      Técnico Gestión de la Demanda   \n",
              "1           2022-07-12  Java - SpringBoot - Proyecto estable - Teletra...   \n",
              "\n",
              "                                         descripcion  \\\n",
              "0  -Definición de roles y escenarios\\n      - Doc...   \n",
              "1  Desde AgioGlobal Technology, nos encontramos e...   \n",
              "\n",
              "               nombre_empresa  ciudad cod_pais           jornada  \\\n",
              "0  Atento España - Estructura  Madrid       es  Jornada completa   \n",
              "1      AGIO GLOBAL TECHNOLOGY  Madrid       es  Jornada completa   \n",
              "\n",
              "    tipo de trabajo                           cluster     tipo de contrato  \\\n",
              "0           Híbrido  Informática y telecomunicaciones  Contrato indefinido   \n",
              "1  Solo teletrabajo  Informática y telecomunicaciones  Contrato indefinido   \n",
              "\n",
              "   ...  moneda  hour   idioma             experiencia  \\\n",
              "0  ...     NaN   NaN  Spanish  Experiencia intermedia   \n",
              "1  ...     EUR  YEAR  Español                  Senior   \n",
              "\n",
              "                                         tech_skills herramientas_software  \\\n",
              "0  Definición de roles y escenarios, Documentació...                   NaN   \n",
              "1  Java, SpringBoot, Microservicios, RestFull, AP...                   NaN   \n",
              "\n",
              "  linguages_programacion                       Agile  \\\n",
              "0                    NaN  No mencionado en la oferta   \n",
              "1                    NaN            Valorable, Scrum   \n",
              "\n",
              "                    linguages  \\\n",
              "0  No mencionado en la oferta   \n",
              "1                         NaN   \n",
              "\n",
              "                                              resumo  \n",
              "0  Experiencia intermedia, Definición de roles, D...  \n",
              "1  Java, SpringBoot, Microservicios, RestFull, AP...  \n",
              "\n",
              "[2 rows x 23 columns]"
            ],
            "text/html": [
              "\n",
              "  <div id=\"df-d010dc86-fe8e-46dc-84f3-b53e8334893d\" class=\"colab-df-container\">\n",
              "    <div>\n",
              "<style scoped>\n",
              "    .dataframe tbody tr th:only-of-type {\n",
              "        vertical-align: middle;\n",
              "    }\n",
              "\n",
              "    .dataframe tbody tr th {\n",
              "        vertical-align: top;\n",
              "    }\n",
              "\n",
              "    .dataframe thead th {\n",
              "        text-align: right;\n",
              "    }\n",
              "</style>\n",
              "<table border=\"1\" class=\"dataframe\">\n",
              "  <thead>\n",
              "    <tr style=\"text-align: right;\">\n",
              "      <th></th>\n",
              "      <th>fecha de publicacion</th>\n",
              "      <th>titulo</th>\n",
              "      <th>descripcion</th>\n",
              "      <th>nombre_empresa</th>\n",
              "      <th>ciudad</th>\n",
              "      <th>cod_pais</th>\n",
              "      <th>jornada</th>\n",
              "      <th>tipo de trabajo</th>\n",
              "      <th>cluster</th>\n",
              "      <th>tipo de contrato</th>\n",
              "      <th>...</th>\n",
              "      <th>moneda</th>\n",
              "      <th>hour</th>\n",
              "      <th>idioma</th>\n",
              "      <th>experiencia</th>\n",
              "      <th>tech_skills</th>\n",
              "      <th>herramientas_software</th>\n",
              "      <th>linguages_programacion</th>\n",
              "      <th>Agile</th>\n",
              "      <th>linguages</th>\n",
              "      <th>resumo</th>\n",
              "    </tr>\n",
              "  </thead>\n",
              "  <tbody>\n",
              "    <tr>\n",
              "      <th>0</th>\n",
              "      <td>2022-07-12</td>\n",
              "      <td>Técnico Gestión de la Demanda</td>\n",
              "      <td>-Definición de roles y escenarios\\n      - Doc...</td>\n",
              "      <td>Atento España - Estructura</td>\n",
              "      <td>Madrid</td>\n",
              "      <td>es</td>\n",
              "      <td>Jornada completa</td>\n",
              "      <td>Híbrido</td>\n",
              "      <td>Informática y telecomunicaciones</td>\n",
              "      <td>Contrato indefinido</td>\n",
              "      <td>...</td>\n",
              "      <td>NaN</td>\n",
              "      <td>NaN</td>\n",
              "      <td>Spanish</td>\n",
              "      <td>Experiencia intermedia</td>\n",
              "      <td>Definición de roles y escenarios, Documentació...</td>\n",
              "      <td>NaN</td>\n",
              "      <td>NaN</td>\n",
              "      <td>No mencionado en la oferta</td>\n",
              "      <td>No mencionado en la oferta</td>\n",
              "      <td>Experiencia intermedia, Definición de roles, D...</td>\n",
              "    </tr>\n",
              "    <tr>\n",
              "      <th>1</th>\n",
              "      <td>2022-07-12</td>\n",
              "      <td>Java - SpringBoot - Proyecto estable - Teletra...</td>\n",
              "      <td>Desde AgioGlobal Technology, nos encontramos e...</td>\n",
              "      <td>AGIO GLOBAL TECHNOLOGY</td>\n",
              "      <td>Madrid</td>\n",
              "      <td>es</td>\n",
              "      <td>Jornada completa</td>\n",
              "      <td>Solo teletrabajo</td>\n",
              "      <td>Informática y telecomunicaciones</td>\n",
              "      <td>Contrato indefinido</td>\n",
              "      <td>...</td>\n",
              "      <td>EUR</td>\n",
              "      <td>YEAR</td>\n",
              "      <td>Español</td>\n",
              "      <td>Senior</td>\n",
              "      <td>Java, SpringBoot, Microservicios, RestFull, AP...</td>\n",
              "      <td>NaN</td>\n",
              "      <td>NaN</td>\n",
              "      <td>Valorable, Scrum</td>\n",
              "      <td>NaN</td>\n",
              "      <td>Java, SpringBoot, Microservicios, RestFull, AP...</td>\n",
              "    </tr>\n",
              "  </tbody>\n",
              "</table>\n",
              "<p>2 rows × 23 columns</p>\n",
              "</div>\n",
              "    <div class=\"colab-df-buttons\">\n",
              "\n",
              "  <div class=\"colab-df-container\">\n",
              "    <button class=\"colab-df-convert\" onclick=\"convertToInteractive('df-d010dc86-fe8e-46dc-84f3-b53e8334893d')\"\n",
              "            title=\"Convert this dataframe to an interactive table.\"\n",
              "            style=\"display:none;\">\n",
              "\n",
              "  <svg xmlns=\"http://www.w3.org/2000/svg\" height=\"24px\" viewBox=\"0 -960 960 960\">\n",
              "    <path d=\"M120-120v-720h720v720H120Zm60-500h600v-160H180v160Zm220 220h160v-160H400v160Zm0 220h160v-160H400v160ZM180-400h160v-160H180v160Zm440 0h160v-160H620v160ZM180-180h160v-160H180v160Zm440 0h160v-160H620v160Z\"/>\n",
              "  </svg>\n",
              "    </button>\n",
              "\n",
              "  <style>\n",
              "    .colab-df-container {\n",
              "      display:flex;\n",
              "      gap: 12px;\n",
              "    }\n",
              "\n",
              "    .colab-df-convert {\n",
              "      background-color: #E8F0FE;\n",
              "      border: none;\n",
              "      border-radius: 50%;\n",
              "      cursor: pointer;\n",
              "      display: none;\n",
              "      fill: #1967D2;\n",
              "      height: 32px;\n",
              "      padding: 0 0 0 0;\n",
              "      width: 32px;\n",
              "    }\n",
              "\n",
              "    .colab-df-convert:hover {\n",
              "      background-color: #E2EBFA;\n",
              "      box-shadow: 0px 1px 2px rgba(60, 64, 67, 0.3), 0px 1px 3px 1px rgba(60, 64, 67, 0.15);\n",
              "      fill: #174EA6;\n",
              "    }\n",
              "\n",
              "    .colab-df-buttons div {\n",
              "      margin-bottom: 4px;\n",
              "    }\n",
              "\n",
              "    [theme=dark] .colab-df-convert {\n",
              "      background-color: #3B4455;\n",
              "      fill: #D2E3FC;\n",
              "    }\n",
              "\n",
              "    [theme=dark] .colab-df-convert:hover {\n",
              "      background-color: #434B5C;\n",
              "      box-shadow: 0px 1px 3px 1px rgba(0, 0, 0, 0.15);\n",
              "      filter: drop-shadow(0px 1px 2px rgba(0, 0, 0, 0.3));\n",
              "      fill: #FFFFFF;\n",
              "    }\n",
              "  </style>\n",
              "\n",
              "    <script>\n",
              "      const buttonEl =\n",
              "        document.querySelector('#df-d010dc86-fe8e-46dc-84f3-b53e8334893d button.colab-df-convert');\n",
              "      buttonEl.style.display =\n",
              "        google.colab.kernel.accessAllowed ? 'block' : 'none';\n",
              "\n",
              "      async function convertToInteractive(key) {\n",
              "        const element = document.querySelector('#df-d010dc86-fe8e-46dc-84f3-b53e8334893d');\n",
              "        const dataTable =\n",
              "          await google.colab.kernel.invokeFunction('convertToInteractive',\n",
              "                                                    [key], {});\n",
              "        if (!dataTable) return;\n",
              "\n",
              "        const docLinkHtml = 'Like what you see? Visit the ' +\n",
              "          '<a target=\"_blank\" href=https://colab.research.google.com/notebooks/data_table.ipynb>data table notebook</a>'\n",
              "          + ' to learn more about interactive tables.';\n",
              "        element.innerHTML = '';\n",
              "        dataTable['output_type'] = 'display_data';\n",
              "        await google.colab.output.renderOutput(dataTable, element);\n",
              "        const docLink = document.createElement('div');\n",
              "        docLink.innerHTML = docLinkHtml;\n",
              "        element.appendChild(docLink);\n",
              "      }\n",
              "    </script>\n",
              "  </div>\n",
              "\n",
              "\n",
              "<div id=\"df-f1baafc6-4db5-4063-bacd-60a54b9d4f3c\">\n",
              "  <button class=\"colab-df-quickchart\" onclick=\"quickchart('df-f1baafc6-4db5-4063-bacd-60a54b9d4f3c')\"\n",
              "            title=\"Suggest charts\"\n",
              "            style=\"display:none;\">\n",
              "\n",
              "<svg xmlns=\"http://www.w3.org/2000/svg\" height=\"24px\"viewBox=\"0 0 24 24\"\n",
              "     width=\"24px\">\n",
              "    <g>\n",
              "        <path d=\"M19 3H5c-1.1 0-2 .9-2 2v14c0 1.1.9 2 2 2h14c1.1 0 2-.9 2-2V5c0-1.1-.9-2-2-2zM9 17H7v-7h2v7zm4 0h-2V7h2v10zm4 0h-2v-4h2v4z\"/>\n",
              "    </g>\n",
              "</svg>\n",
              "  </button>\n",
              "\n",
              "<style>\n",
              "  .colab-df-quickchart {\n",
              "      --bg-color: #E8F0FE;\n",
              "      --fill-color: #1967D2;\n",
              "      --hover-bg-color: #E2EBFA;\n",
              "      --hover-fill-color: #174EA6;\n",
              "      --disabled-fill-color: #AAA;\n",
              "      --disabled-bg-color: #DDD;\n",
              "  }\n",
              "\n",
              "  [theme=dark] .colab-df-quickchart {\n",
              "      --bg-color: #3B4455;\n",
              "      --fill-color: #D2E3FC;\n",
              "      --hover-bg-color: #434B5C;\n",
              "      --hover-fill-color: #FFFFFF;\n",
              "      --disabled-bg-color: #3B4455;\n",
              "      --disabled-fill-color: #666;\n",
              "  }\n",
              "\n",
              "  .colab-df-quickchart {\n",
              "    background-color: var(--bg-color);\n",
              "    border: none;\n",
              "    border-radius: 50%;\n",
              "    cursor: pointer;\n",
              "    display: none;\n",
              "    fill: var(--fill-color);\n",
              "    height: 32px;\n",
              "    padding: 0;\n",
              "    width: 32px;\n",
              "  }\n",
              "\n",
              "  .colab-df-quickchart:hover {\n",
              "    background-color: var(--hover-bg-color);\n",
              "    box-shadow: 0 1px 2px rgba(60, 64, 67, 0.3), 0 1px 3px 1px rgba(60, 64, 67, 0.15);\n",
              "    fill: var(--button-hover-fill-color);\n",
              "  }\n",
              "\n",
              "  .colab-df-quickchart-complete:disabled,\n",
              "  .colab-df-quickchart-complete:disabled:hover {\n",
              "    background-color: var(--disabled-bg-color);\n",
              "    fill: var(--disabled-fill-color);\n",
              "    box-shadow: none;\n",
              "  }\n",
              "\n",
              "  .colab-df-spinner {\n",
              "    border: 2px solid var(--fill-color);\n",
              "    border-color: transparent;\n",
              "    border-bottom-color: var(--fill-color);\n",
              "    animation:\n",
              "      spin 1s steps(1) infinite;\n",
              "  }\n",
              "\n",
              "  @keyframes spin {\n",
              "    0% {\n",
              "      border-color: transparent;\n",
              "      border-bottom-color: var(--fill-color);\n",
              "      border-left-color: var(--fill-color);\n",
              "    }\n",
              "    20% {\n",
              "      border-color: transparent;\n",
              "      border-left-color: var(--fill-color);\n",
              "      border-top-color: var(--fill-color);\n",
              "    }\n",
              "    30% {\n",
              "      border-color: transparent;\n",
              "      border-left-color: var(--fill-color);\n",
              "      border-top-color: var(--fill-color);\n",
              "      border-right-color: var(--fill-color);\n",
              "    }\n",
              "    40% {\n",
              "      border-color: transparent;\n",
              "      border-right-color: var(--fill-color);\n",
              "      border-top-color: var(--fill-color);\n",
              "    }\n",
              "    60% {\n",
              "      border-color: transparent;\n",
              "      border-right-color: var(--fill-color);\n",
              "    }\n",
              "    80% {\n",
              "      border-color: transparent;\n",
              "      border-right-color: var(--fill-color);\n",
              "      border-bottom-color: var(--fill-color);\n",
              "    }\n",
              "    90% {\n",
              "      border-color: transparent;\n",
              "      border-bottom-color: var(--fill-color);\n",
              "    }\n",
              "  }\n",
              "</style>\n",
              "\n",
              "  <script>\n",
              "    async function quickchart(key) {\n",
              "      const quickchartButtonEl =\n",
              "        document.querySelector('#' + key + ' button');\n",
              "      quickchartButtonEl.disabled = true;  // To prevent multiple clicks.\n",
              "      quickchartButtonEl.classList.add('colab-df-spinner');\n",
              "      try {\n",
              "        const charts = await google.colab.kernel.invokeFunction(\n",
              "            'suggestCharts', [key], {});\n",
              "      } catch (error) {\n",
              "        console.error('Error during call to suggestCharts:', error);\n",
              "      }\n",
              "      quickchartButtonEl.classList.remove('colab-df-spinner');\n",
              "      quickchartButtonEl.classList.add('colab-df-quickchart-complete');\n",
              "    }\n",
              "    (() => {\n",
              "      let quickchartButtonEl =\n",
              "        document.querySelector('#df-f1baafc6-4db5-4063-bacd-60a54b9d4f3c button');\n",
              "      quickchartButtonEl.style.display =\n",
              "        google.colab.kernel.accessAllowed ? 'block' : 'none';\n",
              "    })();\n",
              "  </script>\n",
              "</div>\n",
              "    </div>\n",
              "  </div>\n"
            ],
            "application/vnd.google.colaboratory.intrinsic+json": {
              "type": "dataframe",
              "variable_name": "df_pontia"
            }
          },
          "metadata": {},
          "execution_count": 205
        }
      ]
    },
    {
      "cell_type": "markdown",
      "source": [
        "#FORMATO COLUMNAS DE PONTIA NUEVO"
      ],
      "metadata": {
        "id": "hJMmNEScVUtE"
      }
    },
    {
      "cell_type": "code",
      "source": [
        "df_pontia.columns"
      ],
      "metadata": {
        "colab": {
          "base_uri": "https://localhost:8080/"
        },
        "id": "xaK8l073U4K_",
        "outputId": "d1a5d54d-186f-439e-ce99-26b2a6a479e4"
      },
      "execution_count": null,
      "outputs": [
        {
          "output_type": "execute_result",
          "data": {
            "text/plain": [
              "Index(['fecha de publicacion', 'titulo', 'descripcion', 'nombre_empresa',\n",
              "       'ciudad', 'cod_pais', 'jornada', 'tipo de trabajo', 'cluster',\n",
              "       'tipo de contrato', 'salario_minimo', 'salario_maximo',\n",
              "       'periodo salarial', 'moneda', 'hour', 'idioma', 'experiencia',\n",
              "       'tech_skills', 'herramientas_software', 'linguages_programacion',\n",
              "       'Agile', 'linguages', 'resumo'],\n",
              "      dtype='object')"
            ]
          },
          "metadata": {},
          "execution_count": 206
        }
      ]
    },
    {
      "cell_type": "code",
      "source": [
        "df_pontia.head(1)"
      ],
      "metadata": {
        "colab": {
          "base_uri": "https://localhost:8080/",
          "height": 217
        },
        "id": "7QHAE714WALk",
        "outputId": "f7bec828-3424-4068-8169-b2b728378753"
      },
      "execution_count": null,
      "outputs": [
        {
          "output_type": "execute_result",
          "data": {
            "text/plain": [
              "  fecha de publicacion                         titulo  \\\n",
              "0           2022-07-12  Técnico Gestión de la Demanda   \n",
              "\n",
              "                                         descripcion  \\\n",
              "0  -Definición de roles y escenarios\\n      - Doc...   \n",
              "\n",
              "               nombre_empresa  ciudad cod_pais           jornada  \\\n",
              "0  Atento España - Estructura  Madrid       es  Jornada completa   \n",
              "\n",
              "  tipo de trabajo                           cluster     tipo de contrato  ...  \\\n",
              "0         Híbrido  Informática y telecomunicaciones  Contrato indefinido  ...   \n",
              "\n",
              "   moneda  hour   idioma             experiencia  \\\n",
              "0     NaN   NaN  Spanish  Experiencia intermedia   \n",
              "\n",
              "                                         tech_skills herramientas_software  \\\n",
              "0  Definición de roles y escenarios, Documentació...                   NaN   \n",
              "\n",
              "  linguages_programacion                       Agile  \\\n",
              "0                    NaN  No mencionado en la oferta   \n",
              "\n",
              "                    linguages  \\\n",
              "0  No mencionado en la oferta   \n",
              "\n",
              "                                              resumo  \n",
              "0  Experiencia intermedia, Definición de roles, D...  \n",
              "\n",
              "[1 rows x 23 columns]"
            ],
            "text/html": [
              "\n",
              "  <div id=\"df-f954ab09-a6c9-4d5c-8ee7-c3ea34261dd2\" class=\"colab-df-container\">\n",
              "    <div>\n",
              "<style scoped>\n",
              "    .dataframe tbody tr th:only-of-type {\n",
              "        vertical-align: middle;\n",
              "    }\n",
              "\n",
              "    .dataframe tbody tr th {\n",
              "        vertical-align: top;\n",
              "    }\n",
              "\n",
              "    .dataframe thead th {\n",
              "        text-align: right;\n",
              "    }\n",
              "</style>\n",
              "<table border=\"1\" class=\"dataframe\">\n",
              "  <thead>\n",
              "    <tr style=\"text-align: right;\">\n",
              "      <th></th>\n",
              "      <th>fecha de publicacion</th>\n",
              "      <th>titulo</th>\n",
              "      <th>descripcion</th>\n",
              "      <th>nombre_empresa</th>\n",
              "      <th>ciudad</th>\n",
              "      <th>cod_pais</th>\n",
              "      <th>jornada</th>\n",
              "      <th>tipo de trabajo</th>\n",
              "      <th>cluster</th>\n",
              "      <th>tipo de contrato</th>\n",
              "      <th>...</th>\n",
              "      <th>moneda</th>\n",
              "      <th>hour</th>\n",
              "      <th>idioma</th>\n",
              "      <th>experiencia</th>\n",
              "      <th>tech_skills</th>\n",
              "      <th>herramientas_software</th>\n",
              "      <th>linguages_programacion</th>\n",
              "      <th>Agile</th>\n",
              "      <th>linguages</th>\n",
              "      <th>resumo</th>\n",
              "    </tr>\n",
              "  </thead>\n",
              "  <tbody>\n",
              "    <tr>\n",
              "      <th>0</th>\n",
              "      <td>2022-07-12</td>\n",
              "      <td>Técnico Gestión de la Demanda</td>\n",
              "      <td>-Definición de roles y escenarios\\n      - Doc...</td>\n",
              "      <td>Atento España - Estructura</td>\n",
              "      <td>Madrid</td>\n",
              "      <td>es</td>\n",
              "      <td>Jornada completa</td>\n",
              "      <td>Híbrido</td>\n",
              "      <td>Informática y telecomunicaciones</td>\n",
              "      <td>Contrato indefinido</td>\n",
              "      <td>...</td>\n",
              "      <td>NaN</td>\n",
              "      <td>NaN</td>\n",
              "      <td>Spanish</td>\n",
              "      <td>Experiencia intermedia</td>\n",
              "      <td>Definición de roles y escenarios, Documentació...</td>\n",
              "      <td>NaN</td>\n",
              "      <td>NaN</td>\n",
              "      <td>No mencionado en la oferta</td>\n",
              "      <td>No mencionado en la oferta</td>\n",
              "      <td>Experiencia intermedia, Definición de roles, D...</td>\n",
              "    </tr>\n",
              "  </tbody>\n",
              "</table>\n",
              "<p>1 rows × 23 columns</p>\n",
              "</div>\n",
              "    <div class=\"colab-df-buttons\">\n",
              "\n",
              "  <div class=\"colab-df-container\">\n",
              "    <button class=\"colab-df-convert\" onclick=\"convertToInteractive('df-f954ab09-a6c9-4d5c-8ee7-c3ea34261dd2')\"\n",
              "            title=\"Convert this dataframe to an interactive table.\"\n",
              "            style=\"display:none;\">\n",
              "\n",
              "  <svg xmlns=\"http://www.w3.org/2000/svg\" height=\"24px\" viewBox=\"0 -960 960 960\">\n",
              "    <path d=\"M120-120v-720h720v720H120Zm60-500h600v-160H180v160Zm220 220h160v-160H400v160Zm0 220h160v-160H400v160ZM180-400h160v-160H180v160Zm440 0h160v-160H620v160ZM180-180h160v-160H180v160Zm440 0h160v-160H620v160Z\"/>\n",
              "  </svg>\n",
              "    </button>\n",
              "\n",
              "  <style>\n",
              "    .colab-df-container {\n",
              "      display:flex;\n",
              "      gap: 12px;\n",
              "    }\n",
              "\n",
              "    .colab-df-convert {\n",
              "      background-color: #E8F0FE;\n",
              "      border: none;\n",
              "      border-radius: 50%;\n",
              "      cursor: pointer;\n",
              "      display: none;\n",
              "      fill: #1967D2;\n",
              "      height: 32px;\n",
              "      padding: 0 0 0 0;\n",
              "      width: 32px;\n",
              "    }\n",
              "\n",
              "    .colab-df-convert:hover {\n",
              "      background-color: #E2EBFA;\n",
              "      box-shadow: 0px 1px 2px rgba(60, 64, 67, 0.3), 0px 1px 3px 1px rgba(60, 64, 67, 0.15);\n",
              "      fill: #174EA6;\n",
              "    }\n",
              "\n",
              "    .colab-df-buttons div {\n",
              "      margin-bottom: 4px;\n",
              "    }\n",
              "\n",
              "    [theme=dark] .colab-df-convert {\n",
              "      background-color: #3B4455;\n",
              "      fill: #D2E3FC;\n",
              "    }\n",
              "\n",
              "    [theme=dark] .colab-df-convert:hover {\n",
              "      background-color: #434B5C;\n",
              "      box-shadow: 0px 1px 3px 1px rgba(0, 0, 0, 0.15);\n",
              "      filter: drop-shadow(0px 1px 2px rgba(0, 0, 0, 0.3));\n",
              "      fill: #FFFFFF;\n",
              "    }\n",
              "  </style>\n",
              "\n",
              "    <script>\n",
              "      const buttonEl =\n",
              "        document.querySelector('#df-f954ab09-a6c9-4d5c-8ee7-c3ea34261dd2 button.colab-df-convert');\n",
              "      buttonEl.style.display =\n",
              "        google.colab.kernel.accessAllowed ? 'block' : 'none';\n",
              "\n",
              "      async function convertToInteractive(key) {\n",
              "        const element = document.querySelector('#df-f954ab09-a6c9-4d5c-8ee7-c3ea34261dd2');\n",
              "        const dataTable =\n",
              "          await google.colab.kernel.invokeFunction('convertToInteractive',\n",
              "                                                    [key], {});\n",
              "        if (!dataTable) return;\n",
              "\n",
              "        const docLinkHtml = 'Like what you see? Visit the ' +\n",
              "          '<a target=\"_blank\" href=https://colab.research.google.com/notebooks/data_table.ipynb>data table notebook</a>'\n",
              "          + ' to learn more about interactive tables.';\n",
              "        element.innerHTML = '';\n",
              "        dataTable['output_type'] = 'display_data';\n",
              "        await google.colab.output.renderOutput(dataTable, element);\n",
              "        const docLink = document.createElement('div');\n",
              "        docLink.innerHTML = docLinkHtml;\n",
              "        element.appendChild(docLink);\n",
              "      }\n",
              "    </script>\n",
              "  </div>\n",
              "\n",
              "    </div>\n",
              "  </div>\n"
            ],
            "application/vnd.google.colaboratory.intrinsic+json": {
              "type": "dataframe",
              "variable_name": "df_pontia"
            }
          },
          "metadata": {},
          "execution_count": 207
        }
      ]
    },
    {
      "cell_type": "code",
      "source": [
        "#capitalizar los titulos de las columnas\n",
        "df_pontia.columns = df_pontia.columns.str.capitalize()"
      ],
      "metadata": {
        "id": "sl768jZ-Vxm0"
      },
      "execution_count": null,
      "outputs": []
    },
    {
      "cell_type": "code",
      "source": [
        "df_pontia.columns"
      ],
      "metadata": {
        "colab": {
          "base_uri": "https://localhost:8080/"
        },
        "id": "NBKeW3slWR3l",
        "outputId": "6fb17034-983d-4f1a-d788-364bf53b5bd2"
      },
      "execution_count": null,
      "outputs": [
        {
          "output_type": "execute_result",
          "data": {
            "text/plain": [
              "Index(['Fecha de publicacion', 'Titulo', 'Descripcion', 'Nombre_empresa',\n",
              "       'Ciudad', 'Cod_pais', 'Jornada', 'Tipo de trabajo', 'Cluster',\n",
              "       'Tipo de contrato', 'Salario_minimo', 'Salario_maximo',\n",
              "       'Periodo salarial', 'Moneda', 'Hour', 'Idioma', 'Experiencia',\n",
              "       'Tech_skills', 'Herramientas_software', 'Linguages_programacion',\n",
              "       'Agile', 'Linguages', 'Resumo'],\n",
              "      dtype='object')"
            ]
          },
          "metadata": {},
          "execution_count": 209
        }
      ]
    },
    {
      "cell_type": "code",
      "source": [
        "#borrar columnas: 'cod_pais', 'moneda', 'hour', 'cluster'\n",
        "df_pontia= df_pontia.drop(['Cod_pais', 'Moneda', 'Hour', 'Cluster'], axis=1)"
      ],
      "metadata": {
        "id": "_7ZrVyg09dHR"
      },
      "execution_count": null,
      "outputs": []
    },
    {
      "cell_type": "code",
      "source": [
        "df_pontia.columns"
      ],
      "metadata": {
        "colab": {
          "base_uri": "https://localhost:8080/"
        },
        "id": "WOAT9cUTZFu1",
        "outputId": "0e5f1cd4-9c50-4feb-aa01-9ada3ee842cf"
      },
      "execution_count": null,
      "outputs": [
        {
          "output_type": "execute_result",
          "data": {
            "text/plain": [
              "Index(['Fecha de publicacion', 'Titulo', 'Descripcion', 'Nombre_empresa',\n",
              "       'Ciudad', 'Jornada', 'Tipo de trabajo', 'Tipo de contrato',\n",
              "       'Salario_minimo', 'Salario_maximo', 'Periodo salarial', 'Idioma',\n",
              "       'Experiencia', 'Tech_skills', 'Herramientas_software',\n",
              "       'Linguages_programacion', 'Agile', 'Linguages', 'Resumo'],\n",
              "      dtype='object')"
            ]
          },
          "metadata": {},
          "execution_count": 211
        }
      ]
    },
    {
      "cell_type": "code",
      "source": [
        "df_pontia.head(1)"
      ],
      "metadata": {
        "id": "FC4t93YJCRbw"
      },
      "execution_count": null,
      "outputs": []
    },
    {
      "cell_type": "code",
      "source": [
        "#Renombrar columnas\n",
        "df_pontia_renombrado=df_pontia.rename(columns={'Fecha de publicacion': 'Fecha_publicacion','Idioma': 'Idioma_aviso','Linguages':'Idiomas','Resumo':'Resumen de lo que piden','Linguages_programacion':'Lenguajes de programacion'})"
      ],
      "metadata": {
        "id": "mIMRMzv5VOdk"
      },
      "execution_count": null,
      "outputs": []
    },
    {
      "cell_type": "code",
      "source": [
        "df_pontia_renombrado.head(1)"
      ],
      "metadata": {
        "colab": {
          "base_uri": "https://localhost:8080/",
          "height": 205
        },
        "id": "b3sxJSsgCsMe",
        "outputId": "51cce5f4-a0bc-45e9-dc20-528d94faae7a"
      },
      "execution_count": null,
      "outputs": [
        {
          "output_type": "execute_result",
          "data": {
            "text/plain": [
              "  Fecha_publicacion                         Titulo  \\\n",
              "0        2022-07-12  Técnico Gestión de la Demanda   \n",
              "\n",
              "                                         Descripcion  \\\n",
              "0  -Definición de roles y escenarios\\n      - Doc...   \n",
              "\n",
              "               Nombre_empresa  Ciudad           Jornada Tipo de trabajo  \\\n",
              "0  Atento España - Estructura  Madrid  Jornada completa         Híbrido   \n",
              "\n",
              "      Tipo de contrato  Salario_minimo  Salario_maximo Periodo salarial  \\\n",
              "0  Contrato indefinido             NaN             NaN              NaN   \n",
              "\n",
              "  Idioma_aviso             Experiencia  \\\n",
              "0      Spanish  Experiencia intermedia   \n",
              "\n",
              "                                         Tech_skills Herramientas_software  \\\n",
              "0  Definición de roles y escenarios, Documentació...                   NaN   \n",
              "\n",
              "  Lenguajes de programacion                       Agile  \\\n",
              "0                       NaN  No mencionado en la oferta   \n",
              "\n",
              "                      Idiomas  \\\n",
              "0  No mencionado en la oferta   \n",
              "\n",
              "                             Resumen de lo que piden  \n",
              "0  Experiencia intermedia, Definición de roles, D...  "
            ],
            "text/html": [
              "\n",
              "  <div id=\"df-041202b4-93d8-45d0-a0f7-9130731a2ce2\" class=\"colab-df-container\">\n",
              "    <div>\n",
              "<style scoped>\n",
              "    .dataframe tbody tr th:only-of-type {\n",
              "        vertical-align: middle;\n",
              "    }\n",
              "\n",
              "    .dataframe tbody tr th {\n",
              "        vertical-align: top;\n",
              "    }\n",
              "\n",
              "    .dataframe thead th {\n",
              "        text-align: right;\n",
              "    }\n",
              "</style>\n",
              "<table border=\"1\" class=\"dataframe\">\n",
              "  <thead>\n",
              "    <tr style=\"text-align: right;\">\n",
              "      <th></th>\n",
              "      <th>Fecha_publicacion</th>\n",
              "      <th>Titulo</th>\n",
              "      <th>Descripcion</th>\n",
              "      <th>Nombre_empresa</th>\n",
              "      <th>Ciudad</th>\n",
              "      <th>Jornada</th>\n",
              "      <th>Tipo de trabajo</th>\n",
              "      <th>Tipo de contrato</th>\n",
              "      <th>Salario_minimo</th>\n",
              "      <th>Salario_maximo</th>\n",
              "      <th>Periodo salarial</th>\n",
              "      <th>Idioma_aviso</th>\n",
              "      <th>Experiencia</th>\n",
              "      <th>Tech_skills</th>\n",
              "      <th>Herramientas_software</th>\n",
              "      <th>Lenguajes de programacion</th>\n",
              "      <th>Agile</th>\n",
              "      <th>Idiomas</th>\n",
              "      <th>Resumen de lo que piden</th>\n",
              "    </tr>\n",
              "  </thead>\n",
              "  <tbody>\n",
              "    <tr>\n",
              "      <th>0</th>\n",
              "      <td>2022-07-12</td>\n",
              "      <td>Técnico Gestión de la Demanda</td>\n",
              "      <td>-Definición de roles y escenarios\\n      - Doc...</td>\n",
              "      <td>Atento España - Estructura</td>\n",
              "      <td>Madrid</td>\n",
              "      <td>Jornada completa</td>\n",
              "      <td>Híbrido</td>\n",
              "      <td>Contrato indefinido</td>\n",
              "      <td>NaN</td>\n",
              "      <td>NaN</td>\n",
              "      <td>NaN</td>\n",
              "      <td>Spanish</td>\n",
              "      <td>Experiencia intermedia</td>\n",
              "      <td>Definición de roles y escenarios, Documentació...</td>\n",
              "      <td>NaN</td>\n",
              "      <td>NaN</td>\n",
              "      <td>No mencionado en la oferta</td>\n",
              "      <td>No mencionado en la oferta</td>\n",
              "      <td>Experiencia intermedia, Definición de roles, D...</td>\n",
              "    </tr>\n",
              "  </tbody>\n",
              "</table>\n",
              "</div>\n",
              "    <div class=\"colab-df-buttons\">\n",
              "\n",
              "  <div class=\"colab-df-container\">\n",
              "    <button class=\"colab-df-convert\" onclick=\"convertToInteractive('df-041202b4-93d8-45d0-a0f7-9130731a2ce2')\"\n",
              "            title=\"Convert this dataframe to an interactive table.\"\n",
              "            style=\"display:none;\">\n",
              "\n",
              "  <svg xmlns=\"http://www.w3.org/2000/svg\" height=\"24px\" viewBox=\"0 -960 960 960\">\n",
              "    <path d=\"M120-120v-720h720v720H120Zm60-500h600v-160H180v160Zm220 220h160v-160H400v160Zm0 220h160v-160H400v160ZM180-400h160v-160H180v160Zm440 0h160v-160H620v160ZM180-180h160v-160H180v160Zm440 0h160v-160H620v160Z\"/>\n",
              "  </svg>\n",
              "    </button>\n",
              "\n",
              "  <style>\n",
              "    .colab-df-container {\n",
              "      display:flex;\n",
              "      gap: 12px;\n",
              "    }\n",
              "\n",
              "    .colab-df-convert {\n",
              "      background-color: #E8F0FE;\n",
              "      border: none;\n",
              "      border-radius: 50%;\n",
              "      cursor: pointer;\n",
              "      display: none;\n",
              "      fill: #1967D2;\n",
              "      height: 32px;\n",
              "      padding: 0 0 0 0;\n",
              "      width: 32px;\n",
              "    }\n",
              "\n",
              "    .colab-df-convert:hover {\n",
              "      background-color: #E2EBFA;\n",
              "      box-shadow: 0px 1px 2px rgba(60, 64, 67, 0.3), 0px 1px 3px 1px rgba(60, 64, 67, 0.15);\n",
              "      fill: #174EA6;\n",
              "    }\n",
              "\n",
              "    .colab-df-buttons div {\n",
              "      margin-bottom: 4px;\n",
              "    }\n",
              "\n",
              "    [theme=dark] .colab-df-convert {\n",
              "      background-color: #3B4455;\n",
              "      fill: #D2E3FC;\n",
              "    }\n",
              "\n",
              "    [theme=dark] .colab-df-convert:hover {\n",
              "      background-color: #434B5C;\n",
              "      box-shadow: 0px 1px 3px 1px rgba(0, 0, 0, 0.15);\n",
              "      filter: drop-shadow(0px 1px 2px rgba(0, 0, 0, 0.3));\n",
              "      fill: #FFFFFF;\n",
              "    }\n",
              "  </style>\n",
              "\n",
              "    <script>\n",
              "      const buttonEl =\n",
              "        document.querySelector('#df-041202b4-93d8-45d0-a0f7-9130731a2ce2 button.colab-df-convert');\n",
              "      buttonEl.style.display =\n",
              "        google.colab.kernel.accessAllowed ? 'block' : 'none';\n",
              "\n",
              "      async function convertToInteractive(key) {\n",
              "        const element = document.querySelector('#df-041202b4-93d8-45d0-a0f7-9130731a2ce2');\n",
              "        const dataTable =\n",
              "          await google.colab.kernel.invokeFunction('convertToInteractive',\n",
              "                                                    [key], {});\n",
              "        if (!dataTable) return;\n",
              "\n",
              "        const docLinkHtml = 'Like what you see? Visit the ' +\n",
              "          '<a target=\"_blank\" href=https://colab.research.google.com/notebooks/data_table.ipynb>data table notebook</a>'\n",
              "          + ' to learn more about interactive tables.';\n",
              "        element.innerHTML = '';\n",
              "        dataTable['output_type'] = 'display_data';\n",
              "        await google.colab.output.renderOutput(dataTable, element);\n",
              "        const docLink = document.createElement('div');\n",
              "        docLink.innerHTML = docLinkHtml;\n",
              "        element.appendChild(docLink);\n",
              "      }\n",
              "    </script>\n",
              "  </div>\n",
              "\n",
              "    </div>\n",
              "  </div>\n"
            ],
            "application/vnd.google.colaboratory.intrinsic+json": {
              "type": "dataframe",
              "variable_name": "df_pontia_renombrado",
              "summary": "{\n  \"name\": \"df_pontia_renombrado\",\n  \"rows\": 6175,\n  \"fields\": [\n    {\n      \"column\": \"Fecha_publicacion\",\n      \"properties\": {\n        \"dtype\": \"object\",\n        \"num_unique_values\": 62,\n        \"samples\": [\n          \"2022-08-25\",\n          \"2022-07-05\",\n          \"2022-07-12\"\n        ],\n        \"semantic_type\": \"\",\n        \"description\": \"\"\n      }\n    },\n    {\n      \"column\": \"Titulo\",\n      \"properties\": {\n        \"dtype\": \"string\",\n        \"num_unique_values\": 5589,\n        \"samples\": [\n          \"Se\\u00f1alista - Lugo\",\n          \"Ingeniero de procesos WTE agua vapor\",\n          \"Responsable Comercial /BM- zona Este\"\n        ],\n        \"semantic_type\": \"\",\n        \"description\": \"\"\n      }\n    },\n    {\n      \"column\": \"Descripcion\",\n      \"properties\": {\n        \"dtype\": \"string\",\n        \"num_unique_values\": 5517,\n        \"samples\": [\n          \"You will take responsibility for the conception and design of web-based solutions in the digital marketing domain, designing, testing and launching the\\u2026\",\n          \"\\u00bfTienes experiencia en soporte t\\u00e9cnico? \\n\\u00bfEres una persona con ganas de seguirte formando?\\n\\u00bfTienes habilidades comunicativas, eres resolutivo/a y est\\u00e1s en busca de un puesto laboral estable?\\nSi es as\\u00ed, te estamos buscando.\\nEn Cas Training estamos seleccionando un t\\u00e9cnico/a inform\\u00e1tico que brinde soporte a tanto a nuestro personal interno como a nuestros clientes.\\n\\u00bfQu\\u00e9 te ofrecemos? \\nUna posici\\u00f3n estable con posibilidad de crecer, formarte y desarrollarte con nosotros.\\n\\u00bfQu\\u00e9 esperamos de ti? \\nQue seas una persona con iniciativa, anal\\u00edtica y comprometida con el logro de los objetivos de la empresa.\\nLas responsabilidades principales de tu puesto ser\\u00e1n, entre otras:\\n\\u00b7\\tAtender las necesidades inform\\u00e1ticas de nuestro personal interno y de nuestros clientes.\\n\\u00b7\\tAdministrar nuestra red y la seguridad.\\n\\u00b7\\tAdministrar usuarios.\\n\\u00b7\\tRealizar soporte t\\u00e9cnico y funcional de primer nivel.\\n\\u00b7\\tRealizar mantenimientos preventivos.\\n\\u00b7\\tResoluci\\u00f3n, registro y seguimiento de incidencias inform\\u00e1ticas.\\n\\u00b7\\tFormaci\\u00f3n t\\u00e9cnica a usuarios.\\n\\u00b7\\tIdentificar \\u00e1reas de mejora en materia tecnol\\u00f3gica.\\n\\nComo beneficio, entre otros te ofrecemos:\\n\\u00b7\\tFormaci\\u00f3n oficial de fabricantes a cargo de la empresa con posibilidad de certificaci\\u00f3n\\n\\u00b7\\tPlaza de garaje\",\n          \"Actualmente en Grupo Zelenza estamos seleccionando T\\u00e9cnicos/as reci\\u00e9n titulados en Inform\\u00e1tica y/o Telecomunicaciones, con o sin discapacidad, para reforzar el equipo de un importante proyecto en la zona de Valladolid.\\n\\nLas funciones a desempe\\u00f1ar ser\\u00e1n las siguientes:\\n\\n- Conducci\\u00f3n de veh\\u00edculo por el territorio demarcado para realizar:\\n    \\u00b7Medici\\u00f3n de cobertura.\\n    \\u00b7An\\u00e1lisis de la red m\\u00f3vil.\\n    \\u00b7Uso de TEMS para las medidas de campo.\\n    \\u00b7Uso de Excel y Google Maps.\\n\\nOfrecemos:\\n\\n*Incorporaci\\u00f3n inmediata.\\n*Desarrollo profesional.\\n*Formaci\\u00f3n continua.\\n\\n\\n\\u00bfQuieres conocernos un poquito m\\u00e1s?\\n\\nEn Zelenza somos l\\u00edder en la prestaci\\u00f3n de servicios TIC con altas capacidades en redes, sistemas y ciberseguridad, as\\u00ed como en externalizaciones de procesos de negocio o soporte (bpo).\\n\\nTenemos m\\u00e1s de 30 a\\u00f1os de experiencia en ingenier\\u00eda de redes e infraestructuras para el sector de las telecomunicaciones y trabajamos con las principales tecnolog\\u00edas del mercado en pr\\u00e1cticamente todas las actividades de la cadena de valor, lo cual nos permite tener hoy un posicionamiento muy serio en grandes \\u00e1reas tecnol\\u00f3gicas en las que nuestras capacidades crecen conforme evoluciona la tecnolog\\u00eda.\"\n        ],\n        \"semantic_type\": \"\",\n        \"description\": \"\"\n      }\n    },\n    {\n      \"column\": \"Nombre_empresa\",\n      \"properties\": {\n        \"dtype\": \"category\",\n        \"num_unique_values\": 1642,\n        \"samples\": [\n          \"GRUPO SIFU\",\n          \"Bilba\",\n          \"BIMBO\"\n        ],\n        \"semantic_type\": \"\",\n        \"description\": \"\"\n      }\n    },\n    {\n      \"column\": \"Ciudad\",\n      \"properties\": {\n        \"dtype\": \"category\",\n        \"num_unique_values\": 452,\n        \"samples\": [\n          \"Vandell\\u00f2s i l'Hospitalet de l'Infant\",\n          \"Cuarte de Huerva\",\n          \"Talavera de la Reina\"\n        ],\n        \"semantic_type\": \"\",\n        \"description\": \"\"\n      }\n    },\n    {\n      \"column\": \"Jornada\",\n      \"properties\": {\n        \"dtype\": \"category\",\n        \"num_unique_values\": 9,\n        \"samples\": [\n          \"Jornada parcial - tarde\",\n          \"Jornada indiferente\",\n          \"Jornada intensiva - noche\"\n        ],\n        \"semantic_type\": \"\",\n        \"description\": \"\"\n      }\n    },\n    {\n      \"column\": \"Tipo de trabajo\",\n      \"properties\": {\n        \"dtype\": \"category\",\n        \"num_unique_values\": 4,\n        \"samples\": [\n          \"Solo teletrabajo\",\n          \"Trabajo solo presencial\",\n          \"H\\u00edbrido\"\n        ],\n        \"semantic_type\": \"\",\n        \"description\": \"\"\n      }\n    },\n    {\n      \"column\": \"Tipo de contrato\",\n      \"properties\": {\n        \"dtype\": \"category\",\n        \"num_unique_values\": 8,\n        \"samples\": [\n          \"Contrato otros contratos\",\n          \"Contrato a tiempo parcial\",\n          \"Contrato indefinido\"\n        ],\n        \"semantic_type\": \"\",\n        \"description\": \"\"\n      }\n    },\n    {\n      \"column\": \"Salario_minimo\",\n      \"properties\": {\n        \"dtype\": \"number\",\n        \"std\": 10396.270860209946,\n        \"min\": 12.0,\n        \"max\": 70000.0,\n        \"num_unique_values\": 54,\n        \"samples\": [\n          6000.0,\n          65000.0,\n          16320.0\n        ],\n        \"semantic_type\": \"\",\n        \"description\": \"\"\n      }\n    },\n    {\n      \"column\": \"Salario_maximo\",\n      \"properties\": {\n        \"dtype\": \"number\",\n        \"std\": 13289.049584349968,\n        \"min\": 12.0,\n        \"max\": 100000.0,\n        \"num_unique_values\": 63,\n        \"samples\": [\n          35000.0,\n          4000.0,\n          45000.0\n        ],\n        \"semantic_type\": \"\",\n        \"description\": \"\"\n      }\n    },\n    {\n      \"column\": \"Periodo salarial\",\n      \"properties\": {\n        \"dtype\": \"category\",\n        \"num_unique_values\": 3,\n        \"samples\": [\n          \"YEAR\",\n          \"MONTH\",\n          \"HOUR\"\n        ],\n        \"semantic_type\": \"\",\n        \"description\": \"\"\n      }\n    },\n    {\n      \"column\": \"Idioma_aviso\",\n      \"properties\": {\n        \"dtype\": \"category\",\n        \"num_unique_values\": 27,\n        \"samples\": [\n          \"No especificado\",\n          \"Mixto (Ingl\\u00e9s y Espa\\u00f1ol)\",\n          \"Portugu\\u00e9s\"\n        ],\n        \"semantic_type\": \"\",\n        \"description\": \"\"\n      }\n    },\n    {\n      \"column\": \"Experiencia\",\n      \"properties\": {\n        \"dtype\": \"category\",\n        \"num_unique_values\": 1322,\n        \"samples\": [\n          \"Experiencia de al menos 2 a\\u00f1os desarrollando tareas de puesto administraci\\u00f3n de sistemas o similar.\",\n          \"J\\u00fanior (reci\\u00e9n titulado)\",\n          \"Experiencia m\\u00ednima de 3 a\\u00f1os espec\\u00edficamente en la posici\\u00f3n de Desarrollo o Arquitectura (seg\\u00fan expertise) en Java Back con Spring boot y Microservicios.\"\n        ],\n        \"semantic_type\": \"\",\n        \"description\": \"\"\n      }\n    },\n    {\n      \"column\": \"Tech_skills\",\n      \"properties\": {\n        \"dtype\": \"string\",\n        \"num_unique_values\": 5429,\n        \"samples\": [\n          \"Operaci\\u00f3n de entornos distribuidos, Control-M.\",\n          \"Data Engineer con experiencia en Azure DevOps\",\n          \"Instalaci\\u00f3n, fusionado, cableado y configuraci\\u00f3n de equipos finales, mantenimiento y desinstalaci\\u00f3n del equipamiento, configuraci\\u00f3n de redes y ordenadores de cliente.\"\n        ],\n        \"semantic_type\": \"\",\n        \"description\": \"\"\n      }\n    },\n    {\n      \"column\": \"Herramientas_software\",\n      \"properties\": {\n        \"dtype\": \"category\",\n        \"num_unique_values\": 967,\n        \"samples\": [\n          \"Herramientas de monitorizaci\\u00f3n, herramientas de ticketing, herramientas de gesti\\u00f3n\",\n          \"Entornos web para registro y reporte de informaci\\u00f3n diaria, App en entorno Android, Paquete Office y conocimientos de software GMAO.\",\n          \"Real-time analytics tool\"\n        ],\n        \"semantic_type\": \"\",\n        \"description\": \"\"\n      }\n    },\n    {\n      \"column\": \"Lenguajes de programacion\",\n      \"properties\": {\n        \"dtype\": \"category\",\n        \"num_unique_values\": 293,\n        \"samples\": [\n          \"No se especifican lenguajes de programaci\\u00f3n en la oferta\",\n          \"Puppet, Ruby\",\n          \"Bash, Python\"\n        ],\n        \"semantic_type\": \"\",\n        \"description\": \"\"\n      }\n    },\n    {\n      \"column\": \"Agile\",\n      \"properties\": {\n        \"dtype\": \"category\",\n        \"num_unique_values\": 388,\n        \"samples\": [\n          \"No se menciona nada sobre Agile\",\n          \"S\\u00ed, se requiere Agile\",\n          \"No se menciona la requerimiento de Agile\"\n        ],\n        \"semantic_type\": \"\",\n        \"description\": \"\"\n      }\n    },\n    {\n      \"column\": \"Idiomas\",\n      \"properties\": {\n        \"dtype\": \"category\",\n        \"num_unique_values\": 522,\n        \"samples\": [\n          \"Ingl\\u00e9s (nivel medio-alto) B2\",\n          \"Se valorar\\u00e1 el conocimiento del ingl\\u00e9s y/o franc\\u00e9s.\",\n          \"Ingl\\u00e9s nivel intermedio\"\n        ],\n        \"semantic_type\": \"\",\n        \"description\": \"\"\n      }\n    },\n    {\n      \"column\": \"Resumen de lo que piden\",\n      \"properties\": {\n        \"dtype\": \"string\",\n        \"num_unique_values\": 5778,\n        \"samples\": [\n          \"Conocimientos de machine learning, Python y R son requeridos para el desarrollo de modelos de Machine Learning, obtenci\\u00f3n de datos, puesta en producci\\u00f3n y monitorizaci\\u00f3n.\",\n          \"Experiencia como t\\u00e9cnico de ServiceDesk o de Campo, conocimientos en Windows 7/10, Paquete Office, Antivirus, Conectividad de red LAN, Maquetaci\\u00f3n de equipos, Instalaci\\u00f3n de equipos, Despliegue de aplicaciones, Telefon\\u00eda IP, Permisos y estructuras de carpetas, Control remoto\",\n          \"Ingeniero especialista en Sistemas de Protecci\\u00f3n Contra Incendios (PCI), Planificaci\\u00f3n y gesti\\u00f3n de mantenimiento, Coordinaci\\u00f3n de equipo t\\u00e9cnico, Relaci\\u00f3n t\\u00e9cnica con cliente, Normativas de prevenci\\u00f3n, calidad y medio ambiente\"\n        ],\n        \"semantic_type\": \"\",\n        \"description\": \"\"\n      }\n    }\n  ]\n}"
            }
          },
          "metadata": {},
          "execution_count": 214
        }
      ]
    },
    {
      "cell_type": "code",
      "source": [
        "df_pontia_renombrado.columns"
      ],
      "metadata": {
        "colab": {
          "base_uri": "https://localhost:8080/"
        },
        "id": "suX7UNtkbsMz",
        "outputId": "66dff3e2-eacb-4090-b309-2748a9ad78c6"
      },
      "execution_count": null,
      "outputs": [
        {
          "output_type": "execute_result",
          "data": {
            "text/plain": [
              "Index(['Fecha_publicacion', 'Titulo', 'Descripcion', 'Nombre_empresa',\n",
              "       'Ciudad', 'Jornada', 'Tipo de trabajo', 'Tipo de contrato',\n",
              "       'Salario_minimo', 'Salario_maximo', 'Periodo salarial', 'Idioma_aviso',\n",
              "       'Experiencia', 'Tech_skills', 'Herramientas_software',\n",
              "       'Lenguajes de programacion', 'Agile', 'Idiomas',\n",
              "       'Resumen de lo que piden'],\n",
              "      dtype='object')"
            ]
          },
          "metadata": {},
          "execution_count": 160
        }
      ]
    },
    {
      "cell_type": "code",
      "source": [
        "df_pontia_renombrado.shape"
      ],
      "metadata": {
        "colab": {
          "base_uri": "https://localhost:8080/"
        },
        "id": "76MiwmFJEDSK",
        "outputId": "40343891-0884-4c31-d36a-a3c47fc8896b"
      },
      "execution_count": null,
      "outputs": [
        {
          "output_type": "execute_result",
          "data": {
            "text/plain": [
              "(6175, 19)"
            ]
          },
          "metadata": {},
          "execution_count": 215
        }
      ]
    },
    {
      "cell_type": "code",
      "source": [
        "#reordenar columnas como DF de LinkedIn\n",
        "df_pontia_reordenado = df_pontia_renombrado.reindex(['Fecha_publicacion','Titulo','Nombre_empresa','Ciudad','Tipo de trabajo','Tipo de contrato','Descripcion','Resumen de lo que piden','Idioma_aviso','Experiencia','Idiomas','Tech_skills','Agile','Herramientas_software','Lenguajes de programación', 'Salario_minimo',\n",
        " 'Salario_maximo','Periodo salarial','Jornada'], axis=1)"
      ],
      "metadata": {
        "id": "sfFFJfukUuAJ"
      },
      "execution_count": null,
      "outputs": []
    },
    {
      "cell_type": "code",
      "source": [
        "df_pontia_reordenado.columns"
      ],
      "metadata": {
        "colab": {
          "base_uri": "https://localhost:8080/"
        },
        "id": "pA4wsDKEcxQj",
        "outputId": "fa6321b0-a9ad-4080-b88d-b63927abce3f"
      },
      "execution_count": null,
      "outputs": [
        {
          "output_type": "execute_result",
          "data": {
            "text/plain": [
              "Index(['Fecha_publicacion', 'Titulo', 'Nombre_empresa', 'Ciudad',\n",
              "       'Tipo de trabajo', 'Tipo de contrato', 'Descripcion',\n",
              "       'Resumen de lo que piden', 'Idioma_aviso', 'Experiencia', 'Idiomas',\n",
              "       'Tech_skills', 'Agile', 'Herramientas_software',\n",
              "       'Lenguajes de programación', 'Salario_minimo', 'Salario_maximo',\n",
              "       'Periodo salarial', 'Jornada'],\n",
              "      dtype='object')"
            ]
          },
          "metadata": {},
          "execution_count": 217
        }
      ]
    },
    {
      "cell_type": "code",
      "source": [
        "df_pontia_reordenado.head(1)"
      ],
      "metadata": {
        "id": "AaSpZA_Q-Tyj"
      },
      "execution_count": null,
      "outputs": []
    },
    {
      "cell_type": "code",
      "source": [
        "df_pontia_reordenado.dtypes"
      ],
      "metadata": {
        "id": "KArmBEgHBiqc"
      },
      "execution_count": null,
      "outputs": []
    },
    {
      "cell_type": "code",
      "source": [
        "df_pontia_reordenado.head(1)"
      ],
      "metadata": {
        "id": "hooIYg3IAU6P"
      },
      "execution_count": null,
      "outputs": []
    },
    {
      "cell_type": "markdown",
      "source": [
        "##FORMATO FECHA"
      ],
      "metadata": {
        "id": "TfeR6APgAKTD"
      }
    },
    {
      "cell_type": "code",
      "source": [
        "df_pontia_reordenado['Fecha_publicacion']"
      ],
      "metadata": {
        "colab": {
          "base_uri": "https://localhost:8080/"
        },
        "id": "qvUAp0ODsWyp",
        "outputId": "a4460ffe-08e9-4d77-a8af-924d3daca681"
      },
      "execution_count": null,
      "outputs": [
        {
          "output_type": "execute_result",
          "data": {
            "text/plain": [
              "0       2022-07-12\n",
              "1       2022-07-12\n",
              "2       2022-07-12\n",
              "3       2022-07-12\n",
              "4       2022-07-12\n",
              "           ...    \n",
              "6170    2022-08-08\n",
              "6171    2022-03-28\n",
              "6172    2022-03-28\n",
              "6173    2022-03-28\n",
              "6174    2022-03-28\n",
              "Name: Fecha_publicacion, Length: 6175, dtype: object"
            ]
          },
          "metadata": {},
          "execution_count": 218
        }
      ]
    },
    {
      "cell_type": "code",
      "source": [
        "#cambiar formato de la fecha\n",
        "import datetime\n",
        "import pandas as pd\n",
        "\n",
        "df_pontia_reordenado['Fecha_publicacion'] = pd.to_datetime(df_pontia_reordenado.Fecha_publicacion)"
      ],
      "metadata": {
        "id": "UOXsCxc7AVN2"
      },
      "execution_count": null,
      "outputs": []
    },
    {
      "cell_type": "code",
      "source": [
        "df_pontia_reordenado['Fecha_publicacion']= df_pontia_reordenado['Fecha_publicacion'].dt.strftime('%d/%m/%Y')"
      ],
      "metadata": {
        "id": "3ijOYebXty1q"
      },
      "execution_count": null,
      "outputs": []
    },
    {
      "cell_type": "code",
      "source": [
        "df_pontia_reordenado['Fecha_publicacion']"
      ],
      "metadata": {
        "colab": {
          "base_uri": "https://localhost:8080/"
        },
        "id": "hn7MBtRdv-QY",
        "outputId": "bcc04adb-3348-4ac3-a57a-30f7814cf4b2"
      },
      "execution_count": null,
      "outputs": [
        {
          "output_type": "execute_result",
          "data": {
            "text/plain": [
              "0       12/07/2022\n",
              "1       12/07/2022\n",
              "2       12/07/2022\n",
              "3       12/07/2022\n",
              "4       12/07/2022\n",
              "           ...    \n",
              "6170    08/08/2022\n",
              "6171    28/03/2022\n",
              "6172    28/03/2022\n",
              "6173    28/03/2022\n",
              "6174    28/03/2022\n",
              "Name: Fecha_publicacion, Length: 6175, dtype: object"
            ]
          },
          "metadata": {},
          "execution_count": 221
        }
      ]
    },
    {
      "cell_type": "code",
      "source": [
        "df_pontia_reordenado['Tipo de trabajo'].unique()"
      ],
      "metadata": {
        "id": "2r1xtV32I9tw",
        "colab": {
          "base_uri": "https://localhost:8080/"
        },
        "outputId": "e4e82aea-6139-40ec-8ba3-efe2c0de8d21"
      },
      "execution_count": null,
      "outputs": [
        {
          "output_type": "execute_result",
          "data": {
            "text/plain": [
              "array(['Híbrido', 'Solo teletrabajo', 'Presencial', nan,\n",
              "       'Trabajo solo presencial'], dtype=object)"
            ]
          },
          "metadata": {},
          "execution_count": 222
        }
      ]
    },
    {
      "cell_type": "code",
      "source": [
        "df_pontia_reordenado['Tipo de trabajo'] = df_pontia_reordenado['Tipo de trabajo'].replace({'Solo teletrabajo': 'Teletrabajo', 'Trabajo solo presencial': 'Presencial'})"
      ],
      "metadata": {
        "id": "hYBPiOPdLity"
      },
      "execution_count": null,
      "outputs": []
    },
    {
      "cell_type": "code",
      "source": [
        "df_pontia_reordenado.shape"
      ],
      "metadata": {
        "colab": {
          "base_uri": "https://localhost:8080/"
        },
        "id": "TPs59S5ijh8b",
        "outputId": "877ab480-27c5-4b50-9d1f-db41adf86e31"
      },
      "execution_count": null,
      "outputs": [
        {
          "output_type": "execute_result",
          "data": {
            "text/plain": [
              "(6175, 19)"
            ]
          },
          "metadata": {},
          "execution_count": 224
        }
      ]
    },
    {
      "cell_type": "code",
      "source": [
        "df_pontia_reordenado.head(2)"
      ],
      "metadata": {
        "colab": {
          "base_uri": "https://localhost:8080/",
          "height": 289
        },
        "id": "hQ36Fxj7wIRT",
        "outputId": "70a373b6-0207-4065-cf7a-5a6c8d180dbb"
      },
      "execution_count": null,
      "outputs": [
        {
          "output_type": "execute_result",
          "data": {
            "text/plain": [
              "  Fecha_publicacion                                             Titulo  \\\n",
              "0        12/07/2022                      Técnico Gestión de la Demanda   \n",
              "1        12/07/2022  Java - SpringBoot - Proyecto estable - Teletra...   \n",
              "\n",
              "               Nombre_empresa  Ciudad Tipo de trabajo     Tipo de contrato  \\\n",
              "0  Atento España - Estructura  Madrid         Híbrido  Contrato indefinido   \n",
              "1      AGIO GLOBAL TECHNOLOGY  Madrid     Teletrabajo  Contrato indefinido   \n",
              "\n",
              "                                         Descripcion  \\\n",
              "0  -Definición de roles y escenarios\\n      - Doc...   \n",
              "1  Desde AgioGlobal Technology, nos encontramos e...   \n",
              "\n",
              "                             Resumen de lo que piden Idioma_aviso  \\\n",
              "0  Experiencia intermedia, Definición de roles, D...      Spanish   \n",
              "1  Java, SpringBoot, Microservicios, RestFull, AP...      Español   \n",
              "\n",
              "              Experiencia                     Idiomas  \\\n",
              "0  Experiencia intermedia  No mencionado en la oferta   \n",
              "1                  Senior                         NaN   \n",
              "\n",
              "                                         Tech_skills  \\\n",
              "0  Definición de roles y escenarios, Documentació...   \n",
              "1  Java, SpringBoot, Microservicios, RestFull, AP...   \n",
              "\n",
              "                        Agile Herramientas_software  \\\n",
              "0  No mencionado en la oferta                   NaN   \n",
              "1            Valorable, Scrum                   NaN   \n",
              "\n",
              "   Lenguajes de programación  Salario_minimo  Salario_maximo Periodo salarial  \\\n",
              "0                        NaN             NaN             NaN              NaN   \n",
              "1                        NaN        40000.00        45000.00             YEAR   \n",
              "\n",
              "            Jornada  \n",
              "0  Jornada completa  \n",
              "1  Jornada completa  "
            ],
            "text/html": [
              "\n",
              "  <div id=\"df-56c7a748-c32e-41ed-930d-3d9523a5ab88\" class=\"colab-df-container\">\n",
              "    <div>\n",
              "<style scoped>\n",
              "    .dataframe tbody tr th:only-of-type {\n",
              "        vertical-align: middle;\n",
              "    }\n",
              "\n",
              "    .dataframe tbody tr th {\n",
              "        vertical-align: top;\n",
              "    }\n",
              "\n",
              "    .dataframe thead th {\n",
              "        text-align: right;\n",
              "    }\n",
              "</style>\n",
              "<table border=\"1\" class=\"dataframe\">\n",
              "  <thead>\n",
              "    <tr style=\"text-align: right;\">\n",
              "      <th></th>\n",
              "      <th>Fecha_publicacion</th>\n",
              "      <th>Titulo</th>\n",
              "      <th>Nombre_empresa</th>\n",
              "      <th>Ciudad</th>\n",
              "      <th>Tipo de trabajo</th>\n",
              "      <th>Tipo de contrato</th>\n",
              "      <th>Descripcion</th>\n",
              "      <th>Resumen de lo que piden</th>\n",
              "      <th>Idioma_aviso</th>\n",
              "      <th>Experiencia</th>\n",
              "      <th>Idiomas</th>\n",
              "      <th>Tech_skills</th>\n",
              "      <th>Agile</th>\n",
              "      <th>Herramientas_software</th>\n",
              "      <th>Lenguajes de programación</th>\n",
              "      <th>Salario_minimo</th>\n",
              "      <th>Salario_maximo</th>\n",
              "      <th>Periodo salarial</th>\n",
              "      <th>Jornada</th>\n",
              "    </tr>\n",
              "  </thead>\n",
              "  <tbody>\n",
              "    <tr>\n",
              "      <th>0</th>\n",
              "      <td>12/07/2022</td>\n",
              "      <td>Técnico Gestión de la Demanda</td>\n",
              "      <td>Atento España - Estructura</td>\n",
              "      <td>Madrid</td>\n",
              "      <td>Híbrido</td>\n",
              "      <td>Contrato indefinido</td>\n",
              "      <td>-Definición de roles y escenarios\\n      - Doc...</td>\n",
              "      <td>Experiencia intermedia, Definición de roles, D...</td>\n",
              "      <td>Spanish</td>\n",
              "      <td>Experiencia intermedia</td>\n",
              "      <td>No mencionado en la oferta</td>\n",
              "      <td>Definición de roles y escenarios, Documentació...</td>\n",
              "      <td>No mencionado en la oferta</td>\n",
              "      <td>NaN</td>\n",
              "      <td>NaN</td>\n",
              "      <td>NaN</td>\n",
              "      <td>NaN</td>\n",
              "      <td>NaN</td>\n",
              "      <td>Jornada completa</td>\n",
              "    </tr>\n",
              "    <tr>\n",
              "      <th>1</th>\n",
              "      <td>12/07/2022</td>\n",
              "      <td>Java - SpringBoot - Proyecto estable - Teletra...</td>\n",
              "      <td>AGIO GLOBAL TECHNOLOGY</td>\n",
              "      <td>Madrid</td>\n",
              "      <td>Teletrabajo</td>\n",
              "      <td>Contrato indefinido</td>\n",
              "      <td>Desde AgioGlobal Technology, nos encontramos e...</td>\n",
              "      <td>Java, SpringBoot, Microservicios, RestFull, AP...</td>\n",
              "      <td>Español</td>\n",
              "      <td>Senior</td>\n",
              "      <td>NaN</td>\n",
              "      <td>Java, SpringBoot, Microservicios, RestFull, AP...</td>\n",
              "      <td>Valorable, Scrum</td>\n",
              "      <td>NaN</td>\n",
              "      <td>NaN</td>\n",
              "      <td>40000.00</td>\n",
              "      <td>45000.00</td>\n",
              "      <td>YEAR</td>\n",
              "      <td>Jornada completa</td>\n",
              "    </tr>\n",
              "  </tbody>\n",
              "</table>\n",
              "</div>\n",
              "    <div class=\"colab-df-buttons\">\n",
              "\n",
              "  <div class=\"colab-df-container\">\n",
              "    <button class=\"colab-df-convert\" onclick=\"convertToInteractive('df-56c7a748-c32e-41ed-930d-3d9523a5ab88')\"\n",
              "            title=\"Convert this dataframe to an interactive table.\"\n",
              "            style=\"display:none;\">\n",
              "\n",
              "  <svg xmlns=\"http://www.w3.org/2000/svg\" height=\"24px\" viewBox=\"0 -960 960 960\">\n",
              "    <path d=\"M120-120v-720h720v720H120Zm60-500h600v-160H180v160Zm220 220h160v-160H400v160Zm0 220h160v-160H400v160ZM180-400h160v-160H180v160Zm440 0h160v-160H620v160ZM180-180h160v-160H180v160Zm440 0h160v-160H620v160Z\"/>\n",
              "  </svg>\n",
              "    </button>\n",
              "\n",
              "  <style>\n",
              "    .colab-df-container {\n",
              "      display:flex;\n",
              "      gap: 12px;\n",
              "    }\n",
              "\n",
              "    .colab-df-convert {\n",
              "      background-color: #E8F0FE;\n",
              "      border: none;\n",
              "      border-radius: 50%;\n",
              "      cursor: pointer;\n",
              "      display: none;\n",
              "      fill: #1967D2;\n",
              "      height: 32px;\n",
              "      padding: 0 0 0 0;\n",
              "      width: 32px;\n",
              "    }\n",
              "\n",
              "    .colab-df-convert:hover {\n",
              "      background-color: #E2EBFA;\n",
              "      box-shadow: 0px 1px 2px rgba(60, 64, 67, 0.3), 0px 1px 3px 1px rgba(60, 64, 67, 0.15);\n",
              "      fill: #174EA6;\n",
              "    }\n",
              "\n",
              "    .colab-df-buttons div {\n",
              "      margin-bottom: 4px;\n",
              "    }\n",
              "\n",
              "    [theme=dark] .colab-df-convert {\n",
              "      background-color: #3B4455;\n",
              "      fill: #D2E3FC;\n",
              "    }\n",
              "\n",
              "    [theme=dark] .colab-df-convert:hover {\n",
              "      background-color: #434B5C;\n",
              "      box-shadow: 0px 1px 3px 1px rgba(0, 0, 0, 0.15);\n",
              "      filter: drop-shadow(0px 1px 2px rgba(0, 0, 0, 0.3));\n",
              "      fill: #FFFFFF;\n",
              "    }\n",
              "  </style>\n",
              "\n",
              "    <script>\n",
              "      const buttonEl =\n",
              "        document.querySelector('#df-56c7a748-c32e-41ed-930d-3d9523a5ab88 button.colab-df-convert');\n",
              "      buttonEl.style.display =\n",
              "        google.colab.kernel.accessAllowed ? 'block' : 'none';\n",
              "\n",
              "      async function convertToInteractive(key) {\n",
              "        const element = document.querySelector('#df-56c7a748-c32e-41ed-930d-3d9523a5ab88');\n",
              "        const dataTable =\n",
              "          await google.colab.kernel.invokeFunction('convertToInteractive',\n",
              "                                                    [key], {});\n",
              "        if (!dataTable) return;\n",
              "\n",
              "        const docLinkHtml = 'Like what you see? Visit the ' +\n",
              "          '<a target=\"_blank\" href=https://colab.research.google.com/notebooks/data_table.ipynb>data table notebook</a>'\n",
              "          + ' to learn more about interactive tables.';\n",
              "        element.innerHTML = '';\n",
              "        dataTable['output_type'] = 'display_data';\n",
              "        await google.colab.output.renderOutput(dataTable, element);\n",
              "        const docLink = document.createElement('div');\n",
              "        docLink.innerHTML = docLinkHtml;\n",
              "        element.appendChild(docLink);\n",
              "      }\n",
              "    </script>\n",
              "  </div>\n",
              "\n",
              "\n",
              "<div id=\"df-e1b309cc-fdf3-4a51-8449-8ff79ae37ed1\">\n",
              "  <button class=\"colab-df-quickchart\" onclick=\"quickchart('df-e1b309cc-fdf3-4a51-8449-8ff79ae37ed1')\"\n",
              "            title=\"Suggest charts\"\n",
              "            style=\"display:none;\">\n",
              "\n",
              "<svg xmlns=\"http://www.w3.org/2000/svg\" height=\"24px\"viewBox=\"0 0 24 24\"\n",
              "     width=\"24px\">\n",
              "    <g>\n",
              "        <path d=\"M19 3H5c-1.1 0-2 .9-2 2v14c0 1.1.9 2 2 2h14c1.1 0 2-.9 2-2V5c0-1.1-.9-2-2-2zM9 17H7v-7h2v7zm4 0h-2V7h2v10zm4 0h-2v-4h2v4z\"/>\n",
              "    </g>\n",
              "</svg>\n",
              "  </button>\n",
              "\n",
              "<style>\n",
              "  .colab-df-quickchart {\n",
              "      --bg-color: #E8F0FE;\n",
              "      --fill-color: #1967D2;\n",
              "      --hover-bg-color: #E2EBFA;\n",
              "      --hover-fill-color: #174EA6;\n",
              "      --disabled-fill-color: #AAA;\n",
              "      --disabled-bg-color: #DDD;\n",
              "  }\n",
              "\n",
              "  [theme=dark] .colab-df-quickchart {\n",
              "      --bg-color: #3B4455;\n",
              "      --fill-color: #D2E3FC;\n",
              "      --hover-bg-color: #434B5C;\n",
              "      --hover-fill-color: #FFFFFF;\n",
              "      --disabled-bg-color: #3B4455;\n",
              "      --disabled-fill-color: #666;\n",
              "  }\n",
              "\n",
              "  .colab-df-quickchart {\n",
              "    background-color: var(--bg-color);\n",
              "    border: none;\n",
              "    border-radius: 50%;\n",
              "    cursor: pointer;\n",
              "    display: none;\n",
              "    fill: var(--fill-color);\n",
              "    height: 32px;\n",
              "    padding: 0;\n",
              "    width: 32px;\n",
              "  }\n",
              "\n",
              "  .colab-df-quickchart:hover {\n",
              "    background-color: var(--hover-bg-color);\n",
              "    box-shadow: 0 1px 2px rgba(60, 64, 67, 0.3), 0 1px 3px 1px rgba(60, 64, 67, 0.15);\n",
              "    fill: var(--button-hover-fill-color);\n",
              "  }\n",
              "\n",
              "  .colab-df-quickchart-complete:disabled,\n",
              "  .colab-df-quickchart-complete:disabled:hover {\n",
              "    background-color: var(--disabled-bg-color);\n",
              "    fill: var(--disabled-fill-color);\n",
              "    box-shadow: none;\n",
              "  }\n",
              "\n",
              "  .colab-df-spinner {\n",
              "    border: 2px solid var(--fill-color);\n",
              "    border-color: transparent;\n",
              "    border-bottom-color: var(--fill-color);\n",
              "    animation:\n",
              "      spin 1s steps(1) infinite;\n",
              "  }\n",
              "\n",
              "  @keyframes spin {\n",
              "    0% {\n",
              "      border-color: transparent;\n",
              "      border-bottom-color: var(--fill-color);\n",
              "      border-left-color: var(--fill-color);\n",
              "    }\n",
              "    20% {\n",
              "      border-color: transparent;\n",
              "      border-left-color: var(--fill-color);\n",
              "      border-top-color: var(--fill-color);\n",
              "    }\n",
              "    30% {\n",
              "      border-color: transparent;\n",
              "      border-left-color: var(--fill-color);\n",
              "      border-top-color: var(--fill-color);\n",
              "      border-right-color: var(--fill-color);\n",
              "    }\n",
              "    40% {\n",
              "      border-color: transparent;\n",
              "      border-right-color: var(--fill-color);\n",
              "      border-top-color: var(--fill-color);\n",
              "    }\n",
              "    60% {\n",
              "      border-color: transparent;\n",
              "      border-right-color: var(--fill-color);\n",
              "    }\n",
              "    80% {\n",
              "      border-color: transparent;\n",
              "      border-right-color: var(--fill-color);\n",
              "      border-bottom-color: var(--fill-color);\n",
              "    }\n",
              "    90% {\n",
              "      border-color: transparent;\n",
              "      border-bottom-color: var(--fill-color);\n",
              "    }\n",
              "  }\n",
              "</style>\n",
              "\n",
              "  <script>\n",
              "    async function quickchart(key) {\n",
              "      const quickchartButtonEl =\n",
              "        document.querySelector('#' + key + ' button');\n",
              "      quickchartButtonEl.disabled = true;  // To prevent multiple clicks.\n",
              "      quickchartButtonEl.classList.add('colab-df-spinner');\n",
              "      try {\n",
              "        const charts = await google.colab.kernel.invokeFunction(\n",
              "            'suggestCharts', [key], {});\n",
              "      } catch (error) {\n",
              "        console.error('Error during call to suggestCharts:', error);\n",
              "      }\n",
              "      quickchartButtonEl.classList.remove('colab-df-spinner');\n",
              "      quickchartButtonEl.classList.add('colab-df-quickchart-complete');\n",
              "    }\n",
              "    (() => {\n",
              "      let quickchartButtonEl =\n",
              "        document.querySelector('#df-e1b309cc-fdf3-4a51-8449-8ff79ae37ed1 button');\n",
              "      quickchartButtonEl.style.display =\n",
              "        google.colab.kernel.accessAllowed ? 'block' : 'none';\n",
              "    })();\n",
              "  </script>\n",
              "</div>\n",
              "    </div>\n",
              "  </div>\n"
            ],
            "application/vnd.google.colaboratory.intrinsic+json": {
              "type": "dataframe",
              "variable_name": "df_pontia_reordenado",
              "summary": "{\n  \"name\": \"df_pontia_reordenado\",\n  \"rows\": 6175,\n  \"fields\": [\n    {\n      \"column\": \"Fecha_publicacion\",\n      \"properties\": {\n        \"dtype\": \"category\",\n        \"num_unique_values\": 62,\n        \"samples\": [\n          \"25/08/2022\",\n          \"05/07/2022\",\n          \"12/07/2022\"\n        ],\n        \"semantic_type\": \"\",\n        \"description\": \"\"\n      }\n    },\n    {\n      \"column\": \"Titulo\",\n      \"properties\": {\n        \"dtype\": \"string\",\n        \"num_unique_values\": 5589,\n        \"samples\": [\n          \"Se\\u00f1alista - Lugo\",\n          \"Ingeniero de procesos WTE agua vapor\",\n          \"Responsable Comercial /BM- zona Este\"\n        ],\n        \"semantic_type\": \"\",\n        \"description\": \"\"\n      }\n    },\n    {\n      \"column\": \"Nombre_empresa\",\n      \"properties\": {\n        \"dtype\": \"category\",\n        \"num_unique_values\": 1642,\n        \"samples\": [\n          \"GRUPO SIFU\",\n          \"Bilba\",\n          \"BIMBO\"\n        ],\n        \"semantic_type\": \"\",\n        \"description\": \"\"\n      }\n    },\n    {\n      \"column\": \"Ciudad\",\n      \"properties\": {\n        \"dtype\": \"category\",\n        \"num_unique_values\": 452,\n        \"samples\": [\n          \"Vandell\\u00f2s i l'Hospitalet de l'Infant\",\n          \"Cuarte de Huerva\",\n          \"Talavera de la Reina\"\n        ],\n        \"semantic_type\": \"\",\n        \"description\": \"\"\n      }\n    },\n    {\n      \"column\": \"Tipo de trabajo\",\n      \"properties\": {\n        \"dtype\": \"category\",\n        \"num_unique_values\": 3,\n        \"samples\": [\n          \"H\\u00edbrido\",\n          \"Teletrabajo\",\n          \"Presencial\"\n        ],\n        \"semantic_type\": \"\",\n        \"description\": \"\"\n      }\n    },\n    {\n      \"column\": \"Tipo de contrato\",\n      \"properties\": {\n        \"dtype\": \"category\",\n        \"num_unique_values\": 8,\n        \"samples\": [\n          \"Contrato otros contratos\",\n          \"Contrato a tiempo parcial\",\n          \"Contrato indefinido\"\n        ],\n        \"semantic_type\": \"\",\n        \"description\": \"\"\n      }\n    },\n    {\n      \"column\": \"Descripcion\",\n      \"properties\": {\n        \"dtype\": \"string\",\n        \"num_unique_values\": 5517,\n        \"samples\": [\n          \"You will take responsibility for the conception and design of web-based solutions in the digital marketing domain, designing, testing and launching the\\u2026\",\n          \"\\u00bfTienes experiencia en soporte t\\u00e9cnico? \\n\\u00bfEres una persona con ganas de seguirte formando?\\n\\u00bfTienes habilidades comunicativas, eres resolutivo/a y est\\u00e1s en busca de un puesto laboral estable?\\nSi es as\\u00ed, te estamos buscando.\\nEn Cas Training estamos seleccionando un t\\u00e9cnico/a inform\\u00e1tico que brinde soporte a tanto a nuestro personal interno como a nuestros clientes.\\n\\u00bfQu\\u00e9 te ofrecemos? \\nUna posici\\u00f3n estable con posibilidad de crecer, formarte y desarrollarte con nosotros.\\n\\u00bfQu\\u00e9 esperamos de ti? \\nQue seas una persona con iniciativa, anal\\u00edtica y comprometida con el logro de los objetivos de la empresa.\\nLas responsabilidades principales de tu puesto ser\\u00e1n, entre otras:\\n\\u00b7\\tAtender las necesidades inform\\u00e1ticas de nuestro personal interno y de nuestros clientes.\\n\\u00b7\\tAdministrar nuestra red y la seguridad.\\n\\u00b7\\tAdministrar usuarios.\\n\\u00b7\\tRealizar soporte t\\u00e9cnico y funcional de primer nivel.\\n\\u00b7\\tRealizar mantenimientos preventivos.\\n\\u00b7\\tResoluci\\u00f3n, registro y seguimiento de incidencias inform\\u00e1ticas.\\n\\u00b7\\tFormaci\\u00f3n t\\u00e9cnica a usuarios.\\n\\u00b7\\tIdentificar \\u00e1reas de mejora en materia tecnol\\u00f3gica.\\n\\nComo beneficio, entre otros te ofrecemos:\\n\\u00b7\\tFormaci\\u00f3n oficial de fabricantes a cargo de la empresa con posibilidad de certificaci\\u00f3n\\n\\u00b7\\tPlaza de garaje\",\n          \"Actualmente en Grupo Zelenza estamos seleccionando T\\u00e9cnicos/as reci\\u00e9n titulados en Inform\\u00e1tica y/o Telecomunicaciones, con o sin discapacidad, para reforzar el equipo de un importante proyecto en la zona de Valladolid.\\n\\nLas funciones a desempe\\u00f1ar ser\\u00e1n las siguientes:\\n\\n- Conducci\\u00f3n de veh\\u00edculo por el territorio demarcado para realizar:\\n    \\u00b7Medici\\u00f3n de cobertura.\\n    \\u00b7An\\u00e1lisis de la red m\\u00f3vil.\\n    \\u00b7Uso de TEMS para las medidas de campo.\\n    \\u00b7Uso de Excel y Google Maps.\\n\\nOfrecemos:\\n\\n*Incorporaci\\u00f3n inmediata.\\n*Desarrollo profesional.\\n*Formaci\\u00f3n continua.\\n\\n\\n\\u00bfQuieres conocernos un poquito m\\u00e1s?\\n\\nEn Zelenza somos l\\u00edder en la prestaci\\u00f3n de servicios TIC con altas capacidades en redes, sistemas y ciberseguridad, as\\u00ed como en externalizaciones de procesos de negocio o soporte (bpo).\\n\\nTenemos m\\u00e1s de 30 a\\u00f1os de experiencia en ingenier\\u00eda de redes e infraestructuras para el sector de las telecomunicaciones y trabajamos con las principales tecnolog\\u00edas del mercado en pr\\u00e1cticamente todas las actividades de la cadena de valor, lo cual nos permite tener hoy un posicionamiento muy serio en grandes \\u00e1reas tecnol\\u00f3gicas en las que nuestras capacidades crecen conforme evoluciona la tecnolog\\u00eda.\"\n        ],\n        \"semantic_type\": \"\",\n        \"description\": \"\"\n      }\n    },\n    {\n      \"column\": \"Resumen de lo que piden\",\n      \"properties\": {\n        \"dtype\": \"string\",\n        \"num_unique_values\": 5778,\n        \"samples\": [\n          \"Conocimientos de machine learning, Python y R son requeridos para el desarrollo de modelos de Machine Learning, obtenci\\u00f3n de datos, puesta en producci\\u00f3n y monitorizaci\\u00f3n.\",\n          \"Experiencia como t\\u00e9cnico de ServiceDesk o de Campo, conocimientos en Windows 7/10, Paquete Office, Antivirus, Conectividad de red LAN, Maquetaci\\u00f3n de equipos, Instalaci\\u00f3n de equipos, Despliegue de aplicaciones, Telefon\\u00eda IP, Permisos y estructuras de carpetas, Control remoto\",\n          \"Ingeniero especialista en Sistemas de Protecci\\u00f3n Contra Incendios (PCI), Planificaci\\u00f3n y gesti\\u00f3n de mantenimiento, Coordinaci\\u00f3n de equipo t\\u00e9cnico, Relaci\\u00f3n t\\u00e9cnica con cliente, Normativas de prevenci\\u00f3n, calidad y medio ambiente\"\n        ],\n        \"semantic_type\": \"\",\n        \"description\": \"\"\n      }\n    },\n    {\n      \"column\": \"Idioma_aviso\",\n      \"properties\": {\n        \"dtype\": \"category\",\n        \"num_unique_values\": 27,\n        \"samples\": [\n          \"No especificado\",\n          \"Mixto (Ingl\\u00e9s y Espa\\u00f1ol)\",\n          \"Portugu\\u00e9s\"\n        ],\n        \"semantic_type\": \"\",\n        \"description\": \"\"\n      }\n    },\n    {\n      \"column\": \"Experiencia\",\n      \"properties\": {\n        \"dtype\": \"category\",\n        \"num_unique_values\": 1322,\n        \"samples\": [\n          \"Experiencia de al menos 2 a\\u00f1os desarrollando tareas de puesto administraci\\u00f3n de sistemas o similar.\",\n          \"J\\u00fanior (reci\\u00e9n titulado)\",\n          \"Experiencia m\\u00ednima de 3 a\\u00f1os espec\\u00edficamente en la posici\\u00f3n de Desarrollo o Arquitectura (seg\\u00fan expertise) en Java Back con Spring boot y Microservicios.\"\n        ],\n        \"semantic_type\": \"\",\n        \"description\": \"\"\n      }\n    },\n    {\n      \"column\": \"Idiomas\",\n      \"properties\": {\n        \"dtype\": \"category\",\n        \"num_unique_values\": 522,\n        \"samples\": [\n          \"Ingl\\u00e9s (nivel medio-alto) B2\",\n          \"Se valorar\\u00e1 el conocimiento del ingl\\u00e9s y/o franc\\u00e9s.\",\n          \"Ingl\\u00e9s nivel intermedio\"\n        ],\n        \"semantic_type\": \"\",\n        \"description\": \"\"\n      }\n    },\n    {\n      \"column\": \"Tech_skills\",\n      \"properties\": {\n        \"dtype\": \"string\",\n        \"num_unique_values\": 5429,\n        \"samples\": [\n          \"Operaci\\u00f3n de entornos distribuidos, Control-M.\",\n          \"Data Engineer con experiencia en Azure DevOps\",\n          \"Instalaci\\u00f3n, fusionado, cableado y configuraci\\u00f3n de equipos finales, mantenimiento y desinstalaci\\u00f3n del equipamiento, configuraci\\u00f3n de redes y ordenadores de cliente.\"\n        ],\n        \"semantic_type\": \"\",\n        \"description\": \"\"\n      }\n    },\n    {\n      \"column\": \"Agile\",\n      \"properties\": {\n        \"dtype\": \"category\",\n        \"num_unique_values\": 388,\n        \"samples\": [\n          \"No se menciona nada sobre Agile\",\n          \"S\\u00ed, se requiere Agile\",\n          \"No se menciona la requerimiento de Agile\"\n        ],\n        \"semantic_type\": \"\",\n        \"description\": \"\"\n      }\n    },\n    {\n      \"column\": \"Herramientas_software\",\n      \"properties\": {\n        \"dtype\": \"category\",\n        \"num_unique_values\": 967,\n        \"samples\": [\n          \"Herramientas de monitorizaci\\u00f3n, herramientas de ticketing, herramientas de gesti\\u00f3n\",\n          \"Entornos web para registro y reporte de informaci\\u00f3n diaria, App en entorno Android, Paquete Office y conocimientos de software GMAO.\",\n          \"Real-time analytics tool\"\n        ],\n        \"semantic_type\": \"\",\n        \"description\": \"\"\n      }\n    },\n    {\n      \"column\": \"Lenguajes de programaci\\u00f3n\",\n      \"properties\": {\n        \"dtype\": \"number\",\n        \"std\": null,\n        \"min\": null,\n        \"max\": null,\n        \"num_unique_values\": 0,\n        \"samples\": [],\n        \"semantic_type\": \"\",\n        \"description\": \"\"\n      }\n    },\n    {\n      \"column\": \"Salario_minimo\",\n      \"properties\": {\n        \"dtype\": \"number\",\n        \"std\": 10396.270860209946,\n        \"min\": 12.0,\n        \"max\": 70000.0,\n        \"num_unique_values\": 54,\n        \"samples\": [],\n        \"semantic_type\": \"\",\n        \"description\": \"\"\n      }\n    },\n    {\n      \"column\": \"Salario_maximo\",\n      \"properties\": {\n        \"dtype\": \"number\",\n        \"std\": 13289.049584349968,\n        \"min\": 12.0,\n        \"max\": 100000.0,\n        \"num_unique_values\": 63,\n        \"samples\": [],\n        \"semantic_type\": \"\",\n        \"description\": \"\"\n      }\n    },\n    {\n      \"column\": \"Periodo salarial\",\n      \"properties\": {\n        \"dtype\": \"category\",\n        \"num_unique_values\": 3,\n        \"samples\": [],\n        \"semantic_type\": \"\",\n        \"description\": \"\"\n      }\n    },\n    {\n      \"column\": \"Jornada\",\n      \"properties\": {\n        \"dtype\": \"category\",\n        \"num_unique_values\": 9,\n        \"samples\": [],\n        \"semantic_type\": \"\",\n        \"description\": \"\"\n      }\n    }\n  ]\n}"
            }
          },
          "metadata": {},
          "execution_count": 225
        }
      ]
    },
    {
      "cell_type": "code",
      "source": [
        "df_pontia_reordenado.columns"
      ],
      "metadata": {
        "colab": {
          "base_uri": "https://localhost:8080/"
        },
        "id": "-hXf9YEO41UT",
        "outputId": "34e0881e-1177-4c8f-a3fe-03e46a1aa038"
      },
      "execution_count": null,
      "outputs": [
        {
          "output_type": "execute_result",
          "data": {
            "text/plain": [
              "Index(['Fecha_publicacion', 'Titulo', 'Nombre_empresa', 'Ciudad',\n",
              "       'Tipo de trabajo', 'Tipo de contrato', 'Descripcion',\n",
              "       'Resumen de lo que piden', 'Idioma_aviso', 'Experiencia', 'Idiomas',\n",
              "       'Tech_skills', 'Agile', 'Herramientas_software',\n",
              "       'Lenguajes de programación', 'Salario_minimo', 'Salario_maximo',\n",
              "       'Periodo salarial', 'Jornada'],\n",
              "      dtype='object')"
            ]
          },
          "metadata": {},
          "execution_count": 226
        }
      ]
    },
    {
      "cell_type": "code",
      "source": [
        "df_linkedIn_reordenado.shape"
      ],
      "metadata": {
        "colab": {
          "base_uri": "https://localhost:8080/"
        },
        "id": "IL6j_4gYjl-M",
        "outputId": "9cb4e6a2-025f-4b89-a099-357c7caa8d19"
      },
      "execution_count": null,
      "outputs": [
        {
          "output_type": "execute_result",
          "data": {
            "text/plain": [
              "(1616, 19)"
            ]
          },
          "metadata": {},
          "execution_count": 227
        }
      ]
    },
    {
      "cell_type": "code",
      "source": [
        "df_linkedIn_reordenado.head(1)"
      ],
      "metadata": {
        "colab": {
          "base_uri": "https://localhost:8080/",
          "height": 222
        },
        "id": "vM3dYzyVwXsL",
        "outputId": "0333757d-89fb-4e84-a3fb-09b83e0c54cf"
      },
      "execution_count": null,
      "outputs": [
        {
          "output_type": "execute_result",
          "data": {
            "text/plain": [
              "  Fecha_publicacion               Titulo Nombre_empresa  \\\n",
              "0        17/05/2024  Junior Data Analyst           Blue   \n",
              "\n",
              "                       Ciudad Tipo de trabajo  Tipo de contrato  \\\n",
              "0  Marbella, Andalusia, Spain         On-site               NaN   \n",
              "\n",
              "                                         Descripcion  \\\n",
              "0  About the job Applicants must have a Spanish w...   \n",
              "\n",
              "                             Resumen de lo que piden Idioma_aviso  \\\n",
              "0  Organized, Number-oriented, Good with deadline...      English   \n",
              "\n",
              "   Experiencia  Idiomas                                        Tech_skills  \\\n",
              "0  Entry-level  Spanish  ['Trafficking, organizing, and optimizing ad c...   \n",
              "\n",
              "  Agile  Herramientas_software  Lenguajes de programación  Salario_minimo  \\\n",
              "0   NaN                    NaN                        NaN             NaN   \n",
              "\n",
              "   Salario_maximo  Periodo salarial  Jornada  \n",
              "0             NaN               NaN      NaN  "
            ],
            "text/html": [
              "\n",
              "  <div id=\"df-b1ccf65a-b286-4585-96df-429916901f47\" class=\"colab-df-container\">\n",
              "    <div>\n",
              "<style scoped>\n",
              "    .dataframe tbody tr th:only-of-type {\n",
              "        vertical-align: middle;\n",
              "    }\n",
              "\n",
              "    .dataframe tbody tr th {\n",
              "        vertical-align: top;\n",
              "    }\n",
              "\n",
              "    .dataframe thead th {\n",
              "        text-align: right;\n",
              "    }\n",
              "</style>\n",
              "<table border=\"1\" class=\"dataframe\">\n",
              "  <thead>\n",
              "    <tr style=\"text-align: right;\">\n",
              "      <th></th>\n",
              "      <th>Fecha_publicacion</th>\n",
              "      <th>Titulo</th>\n",
              "      <th>Nombre_empresa</th>\n",
              "      <th>Ciudad</th>\n",
              "      <th>Tipo de trabajo</th>\n",
              "      <th>Tipo de contrato</th>\n",
              "      <th>Descripcion</th>\n",
              "      <th>Resumen de lo que piden</th>\n",
              "      <th>Idioma_aviso</th>\n",
              "      <th>Experiencia</th>\n",
              "      <th>Idiomas</th>\n",
              "      <th>Tech_skills</th>\n",
              "      <th>Agile</th>\n",
              "      <th>Herramientas_software</th>\n",
              "      <th>Lenguajes de programación</th>\n",
              "      <th>Salario_minimo</th>\n",
              "      <th>Salario_maximo</th>\n",
              "      <th>Periodo salarial</th>\n",
              "      <th>Jornada</th>\n",
              "    </tr>\n",
              "  </thead>\n",
              "  <tbody>\n",
              "    <tr>\n",
              "      <th>0</th>\n",
              "      <td>17/05/2024</td>\n",
              "      <td>Junior Data Analyst</td>\n",
              "      <td>Blue</td>\n",
              "      <td>Marbella, Andalusia, Spain</td>\n",
              "      <td>On-site</td>\n",
              "      <td>NaN</td>\n",
              "      <td>About the job Applicants must have a Spanish w...</td>\n",
              "      <td>Organized, Number-oriented, Good with deadline...</td>\n",
              "      <td>English</td>\n",
              "      <td>Entry-level</td>\n",
              "      <td>Spanish</td>\n",
              "      <td>['Trafficking, organizing, and optimizing ad c...</td>\n",
              "      <td>NaN</td>\n",
              "      <td>NaN</td>\n",
              "      <td>NaN</td>\n",
              "      <td>NaN</td>\n",
              "      <td>NaN</td>\n",
              "      <td>NaN</td>\n",
              "      <td>NaN</td>\n",
              "    </tr>\n",
              "  </tbody>\n",
              "</table>\n",
              "</div>\n",
              "    <div class=\"colab-df-buttons\">\n",
              "\n",
              "  <div class=\"colab-df-container\">\n",
              "    <button class=\"colab-df-convert\" onclick=\"convertToInteractive('df-b1ccf65a-b286-4585-96df-429916901f47')\"\n",
              "            title=\"Convert this dataframe to an interactive table.\"\n",
              "            style=\"display:none;\">\n",
              "\n",
              "  <svg xmlns=\"http://www.w3.org/2000/svg\" height=\"24px\" viewBox=\"0 -960 960 960\">\n",
              "    <path d=\"M120-120v-720h720v720H120Zm60-500h600v-160H180v160Zm220 220h160v-160H400v160Zm0 220h160v-160H400v160ZM180-400h160v-160H180v160Zm440 0h160v-160H620v160ZM180-180h160v-160H180v160Zm440 0h160v-160H620v160Z\"/>\n",
              "  </svg>\n",
              "    </button>\n",
              "\n",
              "  <style>\n",
              "    .colab-df-container {\n",
              "      display:flex;\n",
              "      gap: 12px;\n",
              "    }\n",
              "\n",
              "    .colab-df-convert {\n",
              "      background-color: #E8F0FE;\n",
              "      border: none;\n",
              "      border-radius: 50%;\n",
              "      cursor: pointer;\n",
              "      display: none;\n",
              "      fill: #1967D2;\n",
              "      height: 32px;\n",
              "      padding: 0 0 0 0;\n",
              "      width: 32px;\n",
              "    }\n",
              "\n",
              "    .colab-df-convert:hover {\n",
              "      background-color: #E2EBFA;\n",
              "      box-shadow: 0px 1px 2px rgba(60, 64, 67, 0.3), 0px 1px 3px 1px rgba(60, 64, 67, 0.15);\n",
              "      fill: #174EA6;\n",
              "    }\n",
              "\n",
              "    .colab-df-buttons div {\n",
              "      margin-bottom: 4px;\n",
              "    }\n",
              "\n",
              "    [theme=dark] .colab-df-convert {\n",
              "      background-color: #3B4455;\n",
              "      fill: #D2E3FC;\n",
              "    }\n",
              "\n",
              "    [theme=dark] .colab-df-convert:hover {\n",
              "      background-color: #434B5C;\n",
              "      box-shadow: 0px 1px 3px 1px rgba(0, 0, 0, 0.15);\n",
              "      filter: drop-shadow(0px 1px 2px rgba(0, 0, 0, 0.3));\n",
              "      fill: #FFFFFF;\n",
              "    }\n",
              "  </style>\n",
              "\n",
              "    <script>\n",
              "      const buttonEl =\n",
              "        document.querySelector('#df-b1ccf65a-b286-4585-96df-429916901f47 button.colab-df-convert');\n",
              "      buttonEl.style.display =\n",
              "        google.colab.kernel.accessAllowed ? 'block' : 'none';\n",
              "\n",
              "      async function convertToInteractive(key) {\n",
              "        const element = document.querySelector('#df-b1ccf65a-b286-4585-96df-429916901f47');\n",
              "        const dataTable =\n",
              "          await google.colab.kernel.invokeFunction('convertToInteractive',\n",
              "                                                    [key], {});\n",
              "        if (!dataTable) return;\n",
              "\n",
              "        const docLinkHtml = 'Like what you see? Visit the ' +\n",
              "          '<a target=\"_blank\" href=https://colab.research.google.com/notebooks/data_table.ipynb>data table notebook</a>'\n",
              "          + ' to learn more about interactive tables.';\n",
              "        element.innerHTML = '';\n",
              "        dataTable['output_type'] = 'display_data';\n",
              "        await google.colab.output.renderOutput(dataTable, element);\n",
              "        const docLink = document.createElement('div');\n",
              "        docLink.innerHTML = docLinkHtml;\n",
              "        element.appendChild(docLink);\n",
              "      }\n",
              "    </script>\n",
              "  </div>\n",
              "\n",
              "    </div>\n",
              "  </div>\n"
            ],
            "application/vnd.google.colaboratory.intrinsic+json": {
              "type": "dataframe",
              "variable_name": "df_linkedIn_reordenado",
              "summary": "{\n  \"name\": \"df_linkedIn_reordenado\",\n  \"rows\": 1616,\n  \"fields\": [\n    {\n      \"column\": \"Fecha_publicacion\",\n      \"properties\": {\n        \"dtype\": \"object\",\n        \"num_unique_values\": 22,\n        \"samples\": [\n          \"17/05/2024\",\n          \"21/12/2023\",\n          \"18/05/2024\"\n        ],\n        \"semantic_type\": \"\",\n        \"description\": \"\"\n      }\n    },\n    {\n      \"column\": \"Titulo\",\n      \"properties\": {\n        \"dtype\": \"string\",\n        \"num_unique_values\": 889,\n        \"samples\": [\n          \"Language Data Analyst\",\n          \"Cloud Data Scientist \",\n          \"Pr\\u00e1cticas Profesionales Data Analyst ALLIANZ TECH IBEROLATAM\"\n        ],\n        \"semantic_type\": \"\",\n        \"description\": \"\"\n      }\n    },\n    {\n      \"column\": \"Nombre_empresa\",\n      \"properties\": {\n        \"dtype\": \"category\",\n        \"num_unique_values\": 773,\n        \"samples\": [\n          \"ENGIE Espa\\u00f1a\",\n          \"Neurored TMS & SCM\",\n          \"Tata Consultancy Services\"\n        ],\n        \"semantic_type\": \"\",\n        \"description\": \"\"\n      }\n    },\n    {\n      \"column\": \"Ciudad\",\n      \"properties\": {\n        \"dtype\": \"category\",\n        \"num_unique_values\": 150,\n        \"samples\": [\n          \"Abu Dhabi, Abu Dhabi Emirate, United Arab Emirates\",\n          \"Pozuelo de Alarc\\u00f3n, Community of Madrid, Spain\",\n          \"Tortosa, Catalonia, Spain\"\n        ],\n        \"semantic_type\": \"\",\n        \"description\": \"\"\n      }\n    },\n    {\n      \"column\": \"Tipo de trabajo\",\n      \"properties\": {\n        \"dtype\": \"category\",\n        \"num_unique_values\": 4,\n        \"samples\": [\n          \"Remote\",\n          \"On-site (100% remote in Europe)\",\n          \"On-site\"\n        ],\n        \"semantic_type\": \"\",\n        \"description\": \"\"\n      }\n    },\n    {\n      \"column\": \"Tipo de contrato\",\n      \"properties\": {\n        \"dtype\": \"number\",\n        \"std\": null,\n        \"min\": null,\n        \"max\": null,\n        \"num_unique_values\": 0,\n        \"samples\": [],\n        \"semantic_type\": \"\",\n        \"description\": \"\"\n      }\n    },\n    {\n      \"column\": \"Descripcion\",\n      \"properties\": {\n        \"dtype\": \"string\",\n        \"num_unique_values\": 1375,\n        \"samples\": [],\n        \"semantic_type\": \"\",\n        \"description\": \"\"\n      }\n    },\n    {\n      \"column\": \"Resumen de lo que piden\",\n      \"properties\": {\n        \"dtype\": \"string\",\n        \"num_unique_values\": 1530,\n        \"samples\": [],\n        \"semantic_type\": \"\",\n        \"description\": \"\"\n      }\n    },\n    {\n      \"column\": \"Idioma_aviso\",\n      \"properties\": {\n        \"dtype\": \"category\",\n        \"num_unique_values\": 11,\n        \"samples\": [],\n        \"semantic_type\": \"\",\n        \"description\": \"\"\n      }\n    },\n    {\n      \"column\": \"Experiencia\",\n      \"properties\": {\n        \"dtype\": \"category\",\n        \"num_unique_values\": 592,\n        \"samples\": [],\n        \"semantic_type\": \"\",\n        \"description\": \"\"\n      }\n    },\n    {\n      \"column\": \"Idiomas\",\n      \"properties\": {\n        \"dtype\": \"category\",\n        \"num_unique_values\": 230,\n        \"samples\": [],\n        \"semantic_type\": \"\",\n        \"description\": \"\"\n      }\n    },\n    {\n      \"column\": \"Tech_skills\",\n      \"properties\": {\n        \"dtype\": \"string\",\n        \"num_unique_values\": 1481,\n        \"samples\": [],\n        \"semantic_type\": \"\",\n        \"description\": \"\"\n      }\n    },\n    {\n      \"column\": \"Agile\",\n      \"properties\": {\n        \"dtype\": \"category\",\n        \"num_unique_values\": 92,\n        \"samples\": [],\n        \"semantic_type\": \"\",\n        \"description\": \"\"\n      }\n    },\n    {\n      \"column\": \"Herramientas_software\",\n      \"properties\": {\n        \"dtype\": \"number\",\n        \"std\": null,\n        \"min\": null,\n        \"max\": null,\n        \"num_unique_values\": 0,\n        \"samples\": [],\n        \"semantic_type\": \"\",\n        \"description\": \"\"\n      }\n    },\n    {\n      \"column\": \"Lenguajes de programaci\\u00f3n\",\n      \"properties\": {\n        \"dtype\": \"number\",\n        \"std\": null,\n        \"min\": null,\n        \"max\": null,\n        \"num_unique_values\": 0,\n        \"samples\": [],\n        \"semantic_type\": \"\",\n        \"description\": \"\"\n      }\n    },\n    {\n      \"column\": \"Salario_minimo\",\n      \"properties\": {\n        \"dtype\": \"number\",\n        \"std\": null,\n        \"min\": null,\n        \"max\": null,\n        \"num_unique_values\": 0,\n        \"samples\": [],\n        \"semantic_type\": \"\",\n        \"description\": \"\"\n      }\n    },\n    {\n      \"column\": \"Salario_maximo\",\n      \"properties\": {\n        \"dtype\": \"number\",\n        \"std\": null,\n        \"min\": null,\n        \"max\": null,\n        \"num_unique_values\": 0,\n        \"samples\": [],\n        \"semantic_type\": \"\",\n        \"description\": \"\"\n      }\n    },\n    {\n      \"column\": \"Periodo salarial\",\n      \"properties\": {\n        \"dtype\": \"number\",\n        \"std\": null,\n        \"min\": null,\n        \"max\": null,\n        \"num_unique_values\": 0,\n        \"samples\": [],\n        \"semantic_type\": \"\",\n        \"description\": \"\"\n      }\n    },\n    {\n      \"column\": \"Jornada\",\n      \"properties\": {\n        \"dtype\": \"number\",\n        \"std\": null,\n        \"min\": null,\n        \"max\": null,\n        \"num_unique_values\": 0,\n        \"samples\": [],\n        \"semantic_type\": \"\",\n        \"description\": \"\"\n      }\n    }\n  ]\n}"
            }
          },
          "metadata": {},
          "execution_count": 228
        }
      ]
    },
    {
      "cell_type": "code",
      "source": [
        "df_linkedIn_reordenado.columns"
      ],
      "metadata": {
        "colab": {
          "base_uri": "https://localhost:8080/"
        },
        "id": "H8svxwHh6Dga",
        "outputId": "873f8297-bf0f-4657-9855-e675bfb67249"
      },
      "execution_count": null,
      "outputs": [
        {
          "output_type": "execute_result",
          "data": {
            "text/plain": [
              "Index(['Fecha_publicacion', 'Titulo', 'Nombre_empresa', 'Ciudad',\n",
              "       'Tipo de trabajo', 'Tipo de contrato', 'Descripcion',\n",
              "       'Resumen de lo que piden', 'Idioma_aviso', 'Experiencia', 'Idiomas',\n",
              "       'Tech_kills', 'Agile', 'Herramientas_software',\n",
              "       'Lenguajes de programación', 'Salario_minimo', 'Salario_maximo',\n",
              "       'Periodo salarial', 'Jornada'],\n",
              "      dtype='object')"
            ]
          },
          "metadata": {},
          "execution_count": 92
        }
      ]
    },
    {
      "cell_type": "code",
      "source": [
        "#guardar DF limpio y organizado para MERGE\n",
        "df_linkedIn_reordenado.to_csv('df_linkedIn_10JUN.csv',sep=',', index=False, encoding='utf-8')"
      ],
      "metadata": {
        "id": "J1U2Ny6e0HL3"
      },
      "execution_count": null,
      "outputs": []
    },
    {
      "cell_type": "code",
      "source": [
        "df_pontia_reordenado.to_csv('df_pontia_10JUN.csv',sep=',', index=False, encoding='utf-8')"
      ],
      "metadata": {
        "id": "J_f6Ruqq0Wi1"
      },
      "execution_count": null,
      "outputs": []
    },
    {
      "cell_type": "markdown",
      "source": [
        "#Concatenar DFs"
      ],
      "metadata": {
        "id": "JjsO3NJlN3uZ"
      }
    },
    {
      "cell_type": "code",
      "source": [
        "#concatenar los df\n",
        "# Concatenate the two DataFrames vertically\n",
        "df_total = pd.concat([df_pontia_reordenado, df_linkedIn_reordenado], ignore_index=True)"
      ],
      "metadata": {
        "id": "vJGOq-qiNiyW"
      },
      "execution_count": null,
      "outputs": []
    },
    {
      "cell_type": "code",
      "source": [
        "df_total.shape"
      ],
      "metadata": {
        "colab": {
          "base_uri": "https://localhost:8080/"
        },
        "id": "-7hoFAZnjZgY",
        "outputId": "e3ca8278-2639-4fed-bb7f-2dc88562d6fe"
      },
      "execution_count": null,
      "outputs": [
        {
          "output_type": "execute_result",
          "data": {
            "text/plain": [
              "(7791, 19)"
            ]
          },
          "metadata": {},
          "execution_count": 234
        }
      ]
    },
    {
      "cell_type": "code",
      "source": [
        "df_total.head(3)"
      ],
      "metadata": {
        "colab": {
          "base_uri": "https://localhost:8080/",
          "height": 389
        },
        "id": "o2CBfCfksJY4",
        "outputId": "9373aa49-5620-4cd5-8ce3-24dc4c264136"
      },
      "execution_count": null,
      "outputs": [
        {
          "output_type": "execute_result",
          "data": {
            "text/plain": [
              "  Fecha_publicacion                                             Titulo  \\\n",
              "0        12/07/2022                      Técnico Gestión de la Demanda   \n",
              "1        12/07/2022  Java - SpringBoot - Proyecto estable - Teletra...   \n",
              "2        12/07/2022            Consultor SAP Hana Ingles Alto (Remoto)   \n",
              "\n",
              "               Nombre_empresa  Ciudad Tipo de trabajo     Tipo de contrato  \\\n",
              "0  Atento España - Estructura  Madrid         Híbrido  Contrato indefinido   \n",
              "1      AGIO GLOBAL TECHNOLOGY  Madrid     Teletrabajo  Contrato indefinido   \n",
              "2         AIRON Sistemas S.L.  Madrid     Teletrabajo  Contrato indefinido   \n",
              "\n",
              "                                         Descripcion  \\\n",
              "0  -Definición de roles y escenarios\\n      - Doc...   \n",
              "1  Desde AgioGlobal Technology, nos encontramos e...   \n",
              "2  AirON compañia de innovacion servicios tecnolo...   \n",
              "\n",
              "                             Resumen de lo que piden Idioma_aviso  \\\n",
              "0  Experiencia intermedia, Definición de roles, D...      Spanish   \n",
              "1  Java, SpringBoot, Microservicios, RestFull, AP...      Español   \n",
              "2  Experiencia en implantaciones y migraciones en...      Spanish   \n",
              "\n",
              "              Experiencia                     Idiomas  \\\n",
              "0  Experiencia intermedia  No mencionado en la oferta   \n",
              "1                  Senior                         NaN   \n",
              "2  Experiencia intermedia                  ['Inglés']   \n",
              "\n",
              "                                         Tech_skills  \\\n",
              "0  Definición de roles y escenarios, Documentació...   \n",
              "1  Java, SpringBoot, Microservicios, RestFull, AP...   \n",
              "2  Experiencia en implantaciones y migraciones en...   \n",
              "\n",
              "                        Agile Herramientas_software  \\\n",
              "0  No mencionado en la oferta                   NaN   \n",
              "1            Valorable, Scrum                   NaN   \n",
              "2                         NaN                   NaN   \n",
              "\n",
              "   Lenguajes de programación  Salario_minimo  Salario_maximo Periodo salarial  \\\n",
              "0                        NaN             NaN             NaN              NaN   \n",
              "1                        NaN        40000.00        45000.00             YEAR   \n",
              "2                        NaN        27000.00        30000.00             YEAR   \n",
              "\n",
              "            Jornada  \n",
              "0  Jornada completa  \n",
              "1  Jornada completa  \n",
              "2  Jornada completa  "
            ],
            "text/html": [
              "\n",
              "  <div id=\"df-a83cee4c-7c3d-46d8-9ed5-665ca3b33908\" class=\"colab-df-container\">\n",
              "    <div>\n",
              "<style scoped>\n",
              "    .dataframe tbody tr th:only-of-type {\n",
              "        vertical-align: middle;\n",
              "    }\n",
              "\n",
              "    .dataframe tbody tr th {\n",
              "        vertical-align: top;\n",
              "    }\n",
              "\n",
              "    .dataframe thead th {\n",
              "        text-align: right;\n",
              "    }\n",
              "</style>\n",
              "<table border=\"1\" class=\"dataframe\">\n",
              "  <thead>\n",
              "    <tr style=\"text-align: right;\">\n",
              "      <th></th>\n",
              "      <th>Fecha_publicacion</th>\n",
              "      <th>Titulo</th>\n",
              "      <th>Nombre_empresa</th>\n",
              "      <th>Ciudad</th>\n",
              "      <th>Tipo de trabajo</th>\n",
              "      <th>Tipo de contrato</th>\n",
              "      <th>Descripcion</th>\n",
              "      <th>Resumen de lo que piden</th>\n",
              "      <th>Idioma_aviso</th>\n",
              "      <th>Experiencia</th>\n",
              "      <th>Idiomas</th>\n",
              "      <th>Tech_skills</th>\n",
              "      <th>Agile</th>\n",
              "      <th>Herramientas_software</th>\n",
              "      <th>Lenguajes de programación</th>\n",
              "      <th>Salario_minimo</th>\n",
              "      <th>Salario_maximo</th>\n",
              "      <th>Periodo salarial</th>\n",
              "      <th>Jornada</th>\n",
              "    </tr>\n",
              "  </thead>\n",
              "  <tbody>\n",
              "    <tr>\n",
              "      <th>0</th>\n",
              "      <td>12/07/2022</td>\n",
              "      <td>Técnico Gestión de la Demanda</td>\n",
              "      <td>Atento España - Estructura</td>\n",
              "      <td>Madrid</td>\n",
              "      <td>Híbrido</td>\n",
              "      <td>Contrato indefinido</td>\n",
              "      <td>-Definición de roles y escenarios\\n      - Doc...</td>\n",
              "      <td>Experiencia intermedia, Definición de roles, D...</td>\n",
              "      <td>Spanish</td>\n",
              "      <td>Experiencia intermedia</td>\n",
              "      <td>No mencionado en la oferta</td>\n",
              "      <td>Definición de roles y escenarios, Documentació...</td>\n",
              "      <td>No mencionado en la oferta</td>\n",
              "      <td>NaN</td>\n",
              "      <td>NaN</td>\n",
              "      <td>NaN</td>\n",
              "      <td>NaN</td>\n",
              "      <td>NaN</td>\n",
              "      <td>Jornada completa</td>\n",
              "    </tr>\n",
              "    <tr>\n",
              "      <th>1</th>\n",
              "      <td>12/07/2022</td>\n",
              "      <td>Java - SpringBoot - Proyecto estable - Teletra...</td>\n",
              "      <td>AGIO GLOBAL TECHNOLOGY</td>\n",
              "      <td>Madrid</td>\n",
              "      <td>Teletrabajo</td>\n",
              "      <td>Contrato indefinido</td>\n",
              "      <td>Desde AgioGlobal Technology, nos encontramos e...</td>\n",
              "      <td>Java, SpringBoot, Microservicios, RestFull, AP...</td>\n",
              "      <td>Español</td>\n",
              "      <td>Senior</td>\n",
              "      <td>NaN</td>\n",
              "      <td>Java, SpringBoot, Microservicios, RestFull, AP...</td>\n",
              "      <td>Valorable, Scrum</td>\n",
              "      <td>NaN</td>\n",
              "      <td>NaN</td>\n",
              "      <td>40000.00</td>\n",
              "      <td>45000.00</td>\n",
              "      <td>YEAR</td>\n",
              "      <td>Jornada completa</td>\n",
              "    </tr>\n",
              "    <tr>\n",
              "      <th>2</th>\n",
              "      <td>12/07/2022</td>\n",
              "      <td>Consultor SAP Hana Ingles Alto (Remoto)</td>\n",
              "      <td>AIRON Sistemas S.L.</td>\n",
              "      <td>Madrid</td>\n",
              "      <td>Teletrabajo</td>\n",
              "      <td>Contrato indefinido</td>\n",
              "      <td>AirON compañia de innovacion servicios tecnolo...</td>\n",
              "      <td>Experiencia en implantaciones y migraciones en...</td>\n",
              "      <td>Spanish</td>\n",
              "      <td>Experiencia intermedia</td>\n",
              "      <td>['Inglés']</td>\n",
              "      <td>Experiencia en implantaciones y migraciones en...</td>\n",
              "      <td>NaN</td>\n",
              "      <td>NaN</td>\n",
              "      <td>NaN</td>\n",
              "      <td>27000.00</td>\n",
              "      <td>30000.00</td>\n",
              "      <td>YEAR</td>\n",
              "      <td>Jornada completa</td>\n",
              "    </tr>\n",
              "  </tbody>\n",
              "</table>\n",
              "</div>\n",
              "    <div class=\"colab-df-buttons\">\n",
              "\n",
              "  <div class=\"colab-df-container\">\n",
              "    <button class=\"colab-df-convert\" onclick=\"convertToInteractive('df-a83cee4c-7c3d-46d8-9ed5-665ca3b33908')\"\n",
              "            title=\"Convert this dataframe to an interactive table.\"\n",
              "            style=\"display:none;\">\n",
              "\n",
              "  <svg xmlns=\"http://www.w3.org/2000/svg\" height=\"24px\" viewBox=\"0 -960 960 960\">\n",
              "    <path d=\"M120-120v-720h720v720H120Zm60-500h600v-160H180v160Zm220 220h160v-160H400v160Zm0 220h160v-160H400v160ZM180-400h160v-160H180v160Zm440 0h160v-160H620v160ZM180-180h160v-160H180v160Zm440 0h160v-160H620v160Z\"/>\n",
              "  </svg>\n",
              "    </button>\n",
              "\n",
              "  <style>\n",
              "    .colab-df-container {\n",
              "      display:flex;\n",
              "      gap: 12px;\n",
              "    }\n",
              "\n",
              "    .colab-df-convert {\n",
              "      background-color: #E8F0FE;\n",
              "      border: none;\n",
              "      border-radius: 50%;\n",
              "      cursor: pointer;\n",
              "      display: none;\n",
              "      fill: #1967D2;\n",
              "      height: 32px;\n",
              "      padding: 0 0 0 0;\n",
              "      width: 32px;\n",
              "    }\n",
              "\n",
              "    .colab-df-convert:hover {\n",
              "      background-color: #E2EBFA;\n",
              "      box-shadow: 0px 1px 2px rgba(60, 64, 67, 0.3), 0px 1px 3px 1px rgba(60, 64, 67, 0.15);\n",
              "      fill: #174EA6;\n",
              "    }\n",
              "\n",
              "    .colab-df-buttons div {\n",
              "      margin-bottom: 4px;\n",
              "    }\n",
              "\n",
              "    [theme=dark] .colab-df-convert {\n",
              "      background-color: #3B4455;\n",
              "      fill: #D2E3FC;\n",
              "    }\n",
              "\n",
              "    [theme=dark] .colab-df-convert:hover {\n",
              "      background-color: #434B5C;\n",
              "      box-shadow: 0px 1px 3px 1px rgba(0, 0, 0, 0.15);\n",
              "      filter: drop-shadow(0px 1px 2px rgba(0, 0, 0, 0.3));\n",
              "      fill: #FFFFFF;\n",
              "    }\n",
              "  </style>\n",
              "\n",
              "    <script>\n",
              "      const buttonEl =\n",
              "        document.querySelector('#df-a83cee4c-7c3d-46d8-9ed5-665ca3b33908 button.colab-df-convert');\n",
              "      buttonEl.style.display =\n",
              "        google.colab.kernel.accessAllowed ? 'block' : 'none';\n",
              "\n",
              "      async function convertToInteractive(key) {\n",
              "        const element = document.querySelector('#df-a83cee4c-7c3d-46d8-9ed5-665ca3b33908');\n",
              "        const dataTable =\n",
              "          await google.colab.kernel.invokeFunction('convertToInteractive',\n",
              "                                                    [key], {});\n",
              "        if (!dataTable) return;\n",
              "\n",
              "        const docLinkHtml = 'Like what you see? Visit the ' +\n",
              "          '<a target=\"_blank\" href=https://colab.research.google.com/notebooks/data_table.ipynb>data table notebook</a>'\n",
              "          + ' to learn more about interactive tables.';\n",
              "        element.innerHTML = '';\n",
              "        dataTable['output_type'] = 'display_data';\n",
              "        await google.colab.output.renderOutput(dataTable, element);\n",
              "        const docLink = document.createElement('div');\n",
              "        docLink.innerHTML = docLinkHtml;\n",
              "        element.appendChild(docLink);\n",
              "      }\n",
              "    </script>\n",
              "  </div>\n",
              "\n",
              "\n",
              "<div id=\"df-f7b35d3e-88c6-4f6a-ba00-0d60da0a7566\">\n",
              "  <button class=\"colab-df-quickchart\" onclick=\"quickchart('df-f7b35d3e-88c6-4f6a-ba00-0d60da0a7566')\"\n",
              "            title=\"Suggest charts\"\n",
              "            style=\"display:none;\">\n",
              "\n",
              "<svg xmlns=\"http://www.w3.org/2000/svg\" height=\"24px\"viewBox=\"0 0 24 24\"\n",
              "     width=\"24px\">\n",
              "    <g>\n",
              "        <path d=\"M19 3H5c-1.1 0-2 .9-2 2v14c0 1.1.9 2 2 2h14c1.1 0 2-.9 2-2V5c0-1.1-.9-2-2-2zM9 17H7v-7h2v7zm4 0h-2V7h2v10zm4 0h-2v-4h2v4z\"/>\n",
              "    </g>\n",
              "</svg>\n",
              "  </button>\n",
              "\n",
              "<style>\n",
              "  .colab-df-quickchart {\n",
              "      --bg-color: #E8F0FE;\n",
              "      --fill-color: #1967D2;\n",
              "      --hover-bg-color: #E2EBFA;\n",
              "      --hover-fill-color: #174EA6;\n",
              "      --disabled-fill-color: #AAA;\n",
              "      --disabled-bg-color: #DDD;\n",
              "  }\n",
              "\n",
              "  [theme=dark] .colab-df-quickchart {\n",
              "      --bg-color: #3B4455;\n",
              "      --fill-color: #D2E3FC;\n",
              "      --hover-bg-color: #434B5C;\n",
              "      --hover-fill-color: #FFFFFF;\n",
              "      --disabled-bg-color: #3B4455;\n",
              "      --disabled-fill-color: #666;\n",
              "  }\n",
              "\n",
              "  .colab-df-quickchart {\n",
              "    background-color: var(--bg-color);\n",
              "    border: none;\n",
              "    border-radius: 50%;\n",
              "    cursor: pointer;\n",
              "    display: none;\n",
              "    fill: var(--fill-color);\n",
              "    height: 32px;\n",
              "    padding: 0;\n",
              "    width: 32px;\n",
              "  }\n",
              "\n",
              "  .colab-df-quickchart:hover {\n",
              "    background-color: var(--hover-bg-color);\n",
              "    box-shadow: 0 1px 2px rgba(60, 64, 67, 0.3), 0 1px 3px 1px rgba(60, 64, 67, 0.15);\n",
              "    fill: var(--button-hover-fill-color);\n",
              "  }\n",
              "\n",
              "  .colab-df-quickchart-complete:disabled,\n",
              "  .colab-df-quickchart-complete:disabled:hover {\n",
              "    background-color: var(--disabled-bg-color);\n",
              "    fill: var(--disabled-fill-color);\n",
              "    box-shadow: none;\n",
              "  }\n",
              "\n",
              "  .colab-df-spinner {\n",
              "    border: 2px solid var(--fill-color);\n",
              "    border-color: transparent;\n",
              "    border-bottom-color: var(--fill-color);\n",
              "    animation:\n",
              "      spin 1s steps(1) infinite;\n",
              "  }\n",
              "\n",
              "  @keyframes spin {\n",
              "    0% {\n",
              "      border-color: transparent;\n",
              "      border-bottom-color: var(--fill-color);\n",
              "      border-left-color: var(--fill-color);\n",
              "    }\n",
              "    20% {\n",
              "      border-color: transparent;\n",
              "      border-left-color: var(--fill-color);\n",
              "      border-top-color: var(--fill-color);\n",
              "    }\n",
              "    30% {\n",
              "      border-color: transparent;\n",
              "      border-left-color: var(--fill-color);\n",
              "      border-top-color: var(--fill-color);\n",
              "      border-right-color: var(--fill-color);\n",
              "    }\n",
              "    40% {\n",
              "      border-color: transparent;\n",
              "      border-right-color: var(--fill-color);\n",
              "      border-top-color: var(--fill-color);\n",
              "    }\n",
              "    60% {\n",
              "      border-color: transparent;\n",
              "      border-right-color: var(--fill-color);\n",
              "    }\n",
              "    80% {\n",
              "      border-color: transparent;\n",
              "      border-right-color: var(--fill-color);\n",
              "      border-bottom-color: var(--fill-color);\n",
              "    }\n",
              "    90% {\n",
              "      border-color: transparent;\n",
              "      border-bottom-color: var(--fill-color);\n",
              "    }\n",
              "  }\n",
              "</style>\n",
              "\n",
              "  <script>\n",
              "    async function quickchart(key) {\n",
              "      const quickchartButtonEl =\n",
              "        document.querySelector('#' + key + ' button');\n",
              "      quickchartButtonEl.disabled = true;  // To prevent multiple clicks.\n",
              "      quickchartButtonEl.classList.add('colab-df-spinner');\n",
              "      try {\n",
              "        const charts = await google.colab.kernel.invokeFunction(\n",
              "            'suggestCharts', [key], {});\n",
              "      } catch (error) {\n",
              "        console.error('Error during call to suggestCharts:', error);\n",
              "      }\n",
              "      quickchartButtonEl.classList.remove('colab-df-spinner');\n",
              "      quickchartButtonEl.classList.add('colab-df-quickchart-complete');\n",
              "    }\n",
              "    (() => {\n",
              "      let quickchartButtonEl =\n",
              "        document.querySelector('#df-f7b35d3e-88c6-4f6a-ba00-0d60da0a7566 button');\n",
              "      quickchartButtonEl.style.display =\n",
              "        google.colab.kernel.accessAllowed ? 'block' : 'none';\n",
              "    })();\n",
              "  </script>\n",
              "</div>\n",
              "    </div>\n",
              "  </div>\n"
            ],
            "application/vnd.google.colaboratory.intrinsic+json": {
              "type": "dataframe",
              "variable_name": "df_total",
              "summary": "{\n  \"name\": \"df_total\",\n  \"rows\": 7791,\n  \"fields\": [\n    {\n      \"column\": \"Fecha_publicacion\",\n      \"properties\": {\n        \"dtype\": \"category\",\n        \"num_unique_values\": 84,\n        \"samples\": [\n          \"16/05/2024\",\n          \"12/07/2022\",\n          \"02/06/2022\"\n        ],\n        \"semantic_type\": \"\",\n        \"description\": \"\"\n      }\n    },\n    {\n      \"column\": \"Titulo\",\n      \"properties\": {\n        \"dtype\": \"string\",\n        \"num_unique_values\": 6450,\n        \"samples\": [\n          \"SALESFORCE DEVELOPER\",\n          \"Consultor Junior Gest\\u00ed\\u00f3n del Cambio\",\n          \"Ingeniero/a Especialista de Producto\"\n        ],\n        \"semantic_type\": \"\",\n        \"description\": \"\"\n      }\n    },\n    {\n      \"column\": \"Nombre_empresa\",\n      \"properties\": {\n        \"dtype\": \"category\",\n        \"num_unique_values\": 2350,\n        \"samples\": [\n          \"CBRE Global Workplace Solutions\",\n          \"ACCIONA - SERVICE\",\n          \"Moffatt & Nichol\"\n        ],\n        \"semantic_type\": \"\",\n        \"description\": \"\"\n      }\n    },\n    {\n      \"column\": \"Ciudad\",\n      \"properties\": {\n        \"dtype\": \"category\",\n        \"num_unique_values\": 601,\n        \"samples\": [\n          \"Toledo\",\n          \"Torrecillas de la Tiesa\",\n          \"Viladecavalls, Catalonia, Spain\"\n        ],\n        \"semantic_type\": \"\",\n        \"description\": \"\"\n      }\n    },\n    {\n      \"column\": \"Tipo de trabajo\",\n      \"properties\": {\n        \"dtype\": \"category\",\n        \"num_unique_values\": 7,\n        \"samples\": [\n          \"H\\u00edbrido\",\n          \"Teletrabajo\",\n          \"Hybrid\"\n        ],\n        \"semantic_type\": \"\",\n        \"description\": \"\"\n      }\n    },\n    {\n      \"column\": \"Tipo de contrato\",\n      \"properties\": {\n        \"dtype\": \"category\",\n        \"num_unique_values\": 8,\n        \"samples\": [\n          \"Contrato otros contratos\",\n          \"Contrato a tiempo parcial\",\n          \"Contrato indefinido\"\n        ],\n        \"semantic_type\": \"\",\n        \"description\": \"\"\n      }\n    },\n    {\n      \"column\": \"Descripcion\",\n      \"properties\": {\n        \"dtype\": \"string\",\n        \"num_unique_values\": 6892,\n        \"samples\": [\n          \"NTT Data somos todas las personas que la formamos. Un equipo de m\\u00e1s de 139.000 profesionales, tan diverso c\\u00f3mo diversos son los 50 pa\\u00edses en los que estamos presentes y los diferentes sectores en los que desarrollamos nuestra actividad; telecomunicaciones, entidades financieras, industria, utilities, energ\\u00eda, administraci\\u00f3n p\\u00fablica y sanidad. \\u00bfNuestra misi\\u00f3n? Ofrecer soluciones tecnol\\u00f3gicas, de negocio, estrategia, desarrollo y mantenimiento de aplicaciones, siendo un referente en consultoria. Todo gracias a la colaboraci\\u00f3n entre equipos, la calidad humana de nuestra gente y a que no nos conformamos con lo establecido, buscamos siempre la innovaci\\u00f3n que nos acerca al futuro. Nuestra esencia nos ha llevado a la vanguardia de la tecnolog\\u00eda, a romper paradigmas y a brindar las soluciones que realmente se corresponden a las necesidades de cada cliente. Nuestro talento nos ha hecho poder decir con orgullo que somos una de las 6 empresas TOP de tecnolog\\u00edas en el mundo. Porque #Greattech, needs #GreatPeople, like you.\\n\\nSi te unes a nuestro equipo tendr\\u00e1s la oportunidad de trabajar con profesionales expertos de la tecnolog\\u00eda en un mundo en constante movimiento, con clientes multinacionales e internacionales, con tecnolog\\u00edas emergentes e innovadoras, en un ambiente lleno de creatividad y vitalidad, con equipos imparables, din\\u00e1micos y donde aportar\\u00e1s un gran valor.\\n\\nTendr\\u00e1s la oportunidad de empezar a poner en pr\\u00e1ctica tu pasi\\u00f3n por la tecnolog\\u00eda y tus habilidades como consultor incorpor\\u00e1ndote a proyectos retadores e incluso colaborando en proyectos de innovaci\\u00f3n fuera de tu asignaci\\u00f3n. Contar\\u00e1s con herramientas que ponemos a tu disposici\\u00f3n para acompa\\u00f1arte y acelerar tu desarrollo, de la mano de referentes de la tecnolog\\u00eda y consultor\\u00eda. Adem\\u00e1s, practicamos una cultura de conversaciones y feedback continuo para ayudarte a conseguir todos los retos que te propongas.\\n\\nLas primeras 6 semanas te formar\\u00e1s en nuestra Talent Boost Academy, aprendiendo tecnolog\\u00edas de microservicios, angular, JAVA, etc.\\n\\nSi te apetece conocernos, inscr\\u00edbete en la oferta y comienza un proceso de selecci\\u00f3n en donde te ampliaremos informaci\\u00f3n.\\n\\n\\u00a1Gracias por tu inter\\u00e9s!\",\n          \"About the job Descripci\\u00f3n RDT Engineers is an innovative company whose field of activity is the development of advanced engineering projects. We are looking for a Data Scientist with at least 3 years of experience in Azure solutions. The main function is to provide insights of turbine's technical performance across the business (through KPIs reporting) for the right decision-making. The KPIs analysis is based on Reliability, Availability and Maintainability metrics covering worldwide turbines under SGRE maintenance contract.The analysis requires extracting data from multiple sources (Azure SQL Database, Azure Data Explorer, Azure Data Lake Storage\\u2026), transforming and processing enormous volumes of data, using big data technologies like Azure Databricks and Apache Spark. It involves full data management skills and proven Experience in Azure Solution, requiring the ability to: Design, implement, and maintain data pipelines for data ingestion, processing, and transformation in Azure from various sources (Azure SQL Database, Azure Data Lake Storage, Azure Data Explorer). Utilizing Azure Data Factory or comparable technologies, create and maintain ETL (Extract, Transform, Load) operations. Handling and analyzing enormous volumes of data, designing and implementing cloud and hybrid data solutions in big data technologies like Azure Databricks and Apache Spark. \\\"> RDT Engineers is an innovative company whose field of activity is the development of advanced engineering projects. We are looking for a Data Scientist with at least 3 years of experience in Azure solutions. The main function is to provide insights of turbine's technical performance across the business (through KPIs reporting) for the right decision-making. The KPIs analysis is based on Reliability, Availability and Maintainability metrics covering worldwide turbines under SGRE maintenance contract.The analysis requires extracting data from multiple sources (Azure SQL Database, Azure Data Explorer, Azure Data Lake Storage\\u2026), transforming and processing enormous volumes of data, using big data technologies like Azure Databricks and Apache Spark. It involves full data management skills and proven Experience in Azure Solution, requiring the ability to: Design, implement, and maintain data pipelines for data ingestion, processing, and transformation in Azure from various sources (Azure SQL Database, Azure Data Lake Storage, Azure Data Explorer). Utilizing Azure Data Factory or comparable technologies, create and maintain ETL (Extract, Transform, Load) operations. Handling and analyzing enormous volumes of data, designing and implementing cloud and hybrid data solutions in big data technologies like Azure Databricks and Apache Spark. Requisitos m\\u00ednimos It Requires Technical Capabilities With: ADVANCE knowledge in Phyton and Spark Programming.Experience in developing Spark applications using Spark-SQL in Databricks for data extraction and transformation. Data ingestion from Azure services (Azure Data Lake, Azure Data Explorer, Azure SQL\\u2026) and processing data in Azure Databricks. Hands on in Spark Architecture with Databricks: Manage clusters in Databricks, Databrick Administration and ETL process. It Requires Soft Skills In: Highly developed attention to detail. Analytical mind with a problem-solving aptitude. High Communication skills in verbal and written English. \\\"> It Requires Soft Skills In: Highly developed attention to detail. Analytical mind with a problem-solving aptitude. High Communication skills in verbal and written English. See less Set alert for similar jobs Data Scientist, Pamplona, Chartered Community of Navarre, Spain Set alert About the company RDT ENGINEERS 81,091 followers Follow IT Services and IT Consulting 1,001-5,000 employees 1,007 on LinkedIn RDT Engineering Group is an innovative company whose field of activity is the development of advanced engineering projects, participating in projects with a high technological component. With projects in the sectors of Aeronautics, Aerospace, Automotive, Energy, Industry, Petrochemicals, Capital Goods, Rail Industry, ICT, Finance and Insurances, Consumer Goods and many more, in its 18 years of existence we have become one of the fastest growing and leading engineering companies in Spain and Europe, being involved in the main national and international projects. We enable our customers to have a competitive advantage in efficiency, flexibility and cost. RDT is located in Spain, United Kingdom, France, Denmark, Morocco, Mexico and Portugal. Our identity and business cannot be understood without people and without our values: trust, proximity, motivation, commitment, and quality.  We understand our values as a virtuous circle that revolves around people, we want them to feel inspired to give the best of themselves every day and to grow with us. The purpose of RDT is to help people enjoy engineering. That's why at RDT we offer a wide range of opportunities that allow our professionals to get involved and evolve in different projects throughout their career, in different clients, sectors and technologies. We encourage our professionals to enhance their skills and experience. In addition, our presence in the world offers our team the opportunity to work on cutting-edge projects, living an international professional experience. https://jobs.rdtengineers.com/ \\u2026 show more Interested in working with us in the future? Privately share your profile with our recruiters \\u2013 you\\u2019ll be noted as expressing interest for up to a year. Learn more Learn more about Interested in working for our company I\\u2019m interested Trending employee content Previous Next Show more More jobs Job Title Software Engineer Software Engineer Ommatidia LIDAR Madrid, Community of Madrid, Spain (Hybrid) Your profile matches this job 1 month ago Easy Apply Job Title Programador/a Full- Stack PHP Programador/a Full- Stack PHP FACTOR ENERGIA Barcelona, Catalonia, Spain (On-site) Actively recruiting 2 weeks ago Easy Apply Job Title Software Engineer (C/C++) Software Engineer (C/C++) Vinculo Barcelona, Catalonia, Spain (On-site) Your profile matches this job 2 days ago Easy Apply Job Title Embedded Software Engineer Embedded Software Engineer DUMA ENGINEERING GROUP M\\u00f3stoles, Community of Madrid, Spain (On-site) 1 week ago Easy Apply Job Title DevOps Engineer DevOps Engineer EOLOS Floating Lidar Solutions Montcada i Reixac, Catalonia, Spain (Hybrid) Actively recruiting 4 weeks ago Easy Apply Job Title Software Engineer Software Engineer Braingaze Greater Matar\\u00f3 Metropolitan Area (Hybrid) Your profile matches this job 3 weeks ago Easy Apply Job Title Desarrollador FullStack Desarrollador FullStack with verification Elecnor Deimos Valladolid, Castilla and Leon, Spain (On-site) Actively recruiting 3 weeks ago Easy Apply Job Title Desarrollador de front-end Desarrollador de front-end SKUDONET Mairena del Aljarafe, Andalusia, Spain (Hybrid) 6 days ago Easy Apply Job Title Software Engineer Software Engineer Vallum Associates Madrid, Community of Madrid, Spain (Hybrid) Your profile matches this job 5 days ago Easy Apply Job Title Security Engineer Security Engineer Kudelski Security Madrid, Community of Madrid, Spain (Hybrid) Actively recruiting 3 weeks ago Easy Apply Job Title Web QA Engineer Web QA Engineer Ryanair - Europe's Favourite Airline Madrid, Community of Madrid, Spain (On-site) Actively recruiting 1 week ago Easy Apply Job Title Software developer Software developer with verification Kantar Media Sant Cugat del Vall\\u00e8s, Catalonia, Spain (Hybrid) Actively recruiting 2 weeks ago Easy Apply See more jobs like this Get ahead with Premium Career Contact recruiters directly, see who's viewed your profile, stand out as a top applicant, and more. Millions of members use Premium Try Premium for \\u20ac0 1-month free trial. We\\u2019ll send you a reminder 7 days before your trial ends. Looking for talent? Post a job About Accessibility Talent Solutions Community Guidelines Careers Marketing Solutions Privacy & Terms Ad Choices Advertising Sales Solutions Mobile Small Business Safety Center Questions? Visit our Help Center. Manage your account and privacy Go to your Settings. Recommendation transparency Learn more about Recommended Content. Select Language \\u0627\\u0644\\u0639\\u0631\\u0628\\u064a\\u0629 (Arabic) \\u010ce\\u0161tina (Czech) Dansk (Danish) Deutsch (German) English (English) Espa\\u00f1ol (Spanish) Fran\\u00e7ais (French) \\u0939\\u093f\\u0902\\u0926\\u0940 (Hindi) Bahasa Indonesia (Indonesian) Italiano (Italian) \\u65e5\\u672c\\u8a9e (Japanese) \\ud55c\\uad6d\\uc5b4 (Korean) Bahasa Malaysia (Malay) Nederlands (Dutch) Norsk (Norwegian) Polski (Polish) Portugu\\u00eas (Portuguese) Rom\\u00e2n\\u0103 (Romanian) \\u0420\\u0443\\u0441\\u0441\\u043a\\u0438\\u0439 (Russian) Svenska (Swedish) \\u0e20\\u0e32\\u0e29\\u0e32\\u0e44\\u0e17\\u0e22 (Thai) Tagalog (Tagalog) T\\u00fcrk\\u00e7e (Turkish) \\u0423\\u043a\\u0440\\u0430\\u0457\\u043d\\u0441\\u044c\\u043a\\u0430 (Ukrainian) \\u7b80\\u4f53\\u4e2d\\u6587 (Chinese (Simplified)) \\u6b63\\u9ad4\\u4e2d\\u6587 (Chinese (Traditional)) LinkedIn Corporation \\u00a9 2024 Status is online Messaging You are on the messaging overlay. Press enter to open the list of conversations. Compose message You are on the messaging overlay. Press enter to open the list of conversations. urn:li:page:d_flagship3_job_details;8cbfe3e9-057f-4bdb-a9c6-f34596866c86\",\n          \"Cada vez que comemos y bebemos, elegimos el mundo en el que queremos vivir. Creemos que la salud de las personas y del planeta est\\u00e1n 100% interconectadas Esto es lo que transmite nuestra visi\\u00f3n One Planet One Health. Os invitamos a uniros a nuestra revoluci\\u00f3n alimentaria con el objetivo de crear un mundo m\\u00e1s saludable.\\n\\n\\u00bfTe apasiona el \\u00e1rea de Mantenimiento ? \\u00a1\\u00danete a nuestro Programa BTheOne y comienza tu andadura!\\n\\nEn estas pr\\u00e1cticas tendr\\u00e1s la oportunidad de colaborar con la c\\u00e9lula en diferentes proyectos, apoyando en la reorganizaci\\u00f3n del almac\\u00e9n de mantenimiento, clasificaci\\u00f3n de repuestos (+6.000), sistema de trazabilidad, etc., as\\u00ed como en la definici\\u00f3n y redacci\\u00f3n de los procedimientos LOTO (prevenci\\u00f3n de riesgos) para las \\u00e1reas tanto de proceso como de energ\\u00edas.\\n\\nSi est\\u00e1s interesado/a, \\u00a1contin\\u00faa leyendo!\\n\\nNo dudes en aplicar si...\\n\\n- Has estudiado ingenieria industrial o alguna ingenieria t\\u00e9cnica  o/y un M\\u00e1ster relacionado\\n- Tienes buenas habilidades de comunicaci\\u00f3n, de control y orientaci\\u00f3n al detalle.\\n- Eres una persona met\\u00f3dica y proactiva. \\n- Dominas el ingl\\u00e9s (m\\u00ednimo B2)\\n- Tienes conocimientos de Excel \\n- Y sobre todo... tienes muchas ganas de aprender en una multinacional como Danone &#128578;\"\n        ],\n        \"semantic_type\": \"\",\n        \"description\": \"\"\n      }\n    },\n    {\n      \"column\": \"Resumen de lo que piden\",\n      \"properties\": {\n        \"dtype\": \"string\",\n        \"num_unique_values\": 7308,\n        \"samples\": [\n          \"Senior level data analyst with expertise in SQL, Python, data visualization, leadership experience, strong communication skills, process-oriented mindset, and quality assurance knowledge.\",\n          \"Bachelor/Undergraduate or master\\u2019s degree in business, Entry level knowledge in project management, Strong organizational and communication skills, Flexibility to work across geographies, Strong sense of creativity and storytelling, Good networking skills, MS office suite proficiency, Strong Excel / Smartsheet skills, Video edition software skills\",\n          \"Experiencia en el sector bancario, conocimientos en PlanView, habilidades organizativas, atenci\\u00f3n al detalle, proficiencia en Microsoft Office y herramientas de gesti\\u00f3n de proyectos, habilidades de comunicaci\\u00f3n en ingl\\u00e9s y espa\\u00f1ol, comprensi\\u00f3n de conceptos y metodolog\\u00edas de gesti\\u00f3n de proyectos, habilidades para resolver problemas, capacidad para trabajar en equipo, gesti\\u00f3n del tiempo.\"\n        ],\n        \"semantic_type\": \"\",\n        \"description\": \"\"\n      }\n    },\n    {\n      \"column\": \"Idioma_aviso\",\n      \"properties\": {\n        \"dtype\": \"category\",\n        \"num_unique_values\": 33,\n        \"samples\": [\n          \"Bilingual\",\n          \"Spagnolo\",\n          \"El idioma utilizado en la oferta es Espa\\u00f1ol.\"\n        ],\n        \"semantic_type\": \"\",\n        \"description\": \"\"\n      }\n    },\n    {\n      \"column\": \"Experiencia\",\n      \"properties\": {\n        \"dtype\": \"category\",\n        \"num_unique_values\": 1866,\n        \"samples\": [\n          \"Junior level, 1 year of experience in program/project management\",\n          \"Senior and lead level developer experience required, minimum 8 years of experience as a Frontend Web Developer\",\n          \"Experiencia m\\u00ednima de m\\u00e1s de tres a\\u00f1os en la administraci\\u00f3n de sistemas virtualizados con VMWare\"\n        ],\n        \"semantic_type\": \"\",\n        \"description\": \"\"\n      }\n    },\n    {\n      \"column\": \"Idiomas\",\n      \"properties\": {\n        \"dtype\": \"category\",\n        \"num_unique_values\": 726,\n        \"samples\": [\n          \"['Franc\\u00e9s']\",\n          \"['Ingl\\u00e9s (a nivel conversaci\\u00f3n b\\u00e1sico)']\",\n          \"English (minimum C1)\"\n        ],\n        \"semantic_type\": \"\",\n        \"description\": \"\"\n      }\n    },\n    {\n      \"column\": \"Tech_skills\",\n      \"properties\": {\n        \"dtype\": \"string\",\n        \"num_unique_values\": 6906,\n        \"samples\": [\n          \"Conocimientos de soldadura y v\\u00e1lvulas.\",\n          \"Desarrollo de nuevas funcionalidades, mantenimiento y resoluci\\u00f3n de incidencias en las diferentes aplicaciones del cliente\",\n          \"Knowledge of salon software\"\n        ],\n        \"semantic_type\": \"\",\n        \"description\": \"\"\n      }\n    },\n    {\n      \"column\": \"Agile\",\n      \"properties\": {\n        \"dtype\": \"category\",\n        \"num_unique_values\": 473,\n        \"samples\": [\n          \"No se menciona espec\\u00edficamente, pero se pueden inferir pr\\u00e1cticas \\u00e1giles en el ambiente de trabajo din\\u00e1mico\",\n          \"No se menciona que sea requerido el uso de Agile\",\n          \"No se menciona si Agile es requerido en la oferta\"\n        ],\n        \"semantic_type\": \"\",\n        \"description\": \"\"\n      }\n    },\n    {\n      \"column\": \"Herramientas_software\",\n      \"properties\": {\n        \"dtype\": \"category\",\n        \"num_unique_values\": 967,\n        \"samples\": [\n          \"Herramientas de monitorizaci\\u00f3n, herramientas de ticketing, herramientas de gesti\\u00f3n\",\n          \"Entornos web para registro y reporte de informaci\\u00f3n diaria, App en entorno Android, Paquete Office y conocimientos de software GMAO.\",\n          \"Real-time analytics tool\"\n        ],\n        \"semantic_type\": \"\",\n        \"description\": \"\"\n      }\n    },\n    {\n      \"column\": \"Lenguajes de programaci\\u00f3n\",\n      \"properties\": {\n        \"dtype\": \"number\",\n        \"std\": null,\n        \"min\": null,\n        \"max\": null,\n        \"num_unique_values\": 0,\n        \"samples\": [],\n        \"semantic_type\": \"\",\n        \"description\": \"\"\n      }\n    },\n    {\n      \"column\": \"Salario_minimo\",\n      \"properties\": {\n        \"dtype\": \"number\",\n        \"std\": 10396.270860209946,\n        \"min\": 12.0,\n        \"max\": 70000.0,\n        \"num_unique_values\": 54,\n        \"samples\": [],\n        \"semantic_type\": \"\",\n        \"description\": \"\"\n      }\n    },\n    {\n      \"column\": \"Salario_maximo\",\n      \"properties\": {\n        \"dtype\": \"number\",\n        \"std\": 13289.049584349968,\n        \"min\": 12.0,\n        \"max\": 100000.0,\n        \"num_unique_values\": 63,\n        \"samples\": [],\n        \"semantic_type\": \"\",\n        \"description\": \"\"\n      }\n    },\n    {\n      \"column\": \"Periodo salarial\",\n      \"properties\": {\n        \"dtype\": \"category\",\n        \"num_unique_values\": 3,\n        \"samples\": [],\n        \"semantic_type\": \"\",\n        \"description\": \"\"\n      }\n    },\n    {\n      \"column\": \"Jornada\",\n      \"properties\": {\n        \"dtype\": \"category\",\n        \"num_unique_values\": 9,\n        \"samples\": [],\n        \"semantic_type\": \"\",\n        \"description\": \"\"\n      }\n    }\n  ]\n}"
            }
          },
          "metadata": {},
          "execution_count": 235
        }
      ]
    },
    {
      "cell_type": "code",
      "source": [
        "df_total.to_csv('DataFrameCompleto_10JUN.csv',sep=',', index=False, encoding='utf-8')"
      ],
      "metadata": {
        "id": "n4UO94fqN_8W"
      },
      "execution_count": null,
      "outputs": []
    },
    {
      "cell_type": "markdown",
      "source": [
        "#Hasta aqui llegué"
      ],
      "metadata": {
        "id": "7PRfCJs6VEh7"
      }
    },
    {
      "cell_type": "markdown",
      "source": [
        "#OTRAS COSAS\n"
      ],
      "metadata": {
        "id": "P2cvEvnKHCkd"
      }
    },
    {
      "cell_type": "markdown",
      "source": [
        "FILTRAR COLUMNAS"
      ],
      "metadata": {
        "id": "811XwDghS4BN"
      }
    },
    {
      "cell_type": "code",
      "source": [
        "#df1 = df.loc[(df.Marca.isin(['VOLKSWAGEN', 'BMW']))&(df.Modelo.isin(['Golf', 'Serie 3']))]\n",
        "#df1['Marca_Modelo'] = df['Marca'] + '_' + df['Modelo']"
      ],
      "metadata": {
        "id": "nrjrhWZyQ-z7"
      },
      "execution_count": null,
      "outputs": []
    },
    {
      "cell_type": "markdown",
      "source": [
        "#ANALIZAR CONTENIDO\n"
      ],
      "metadata": {
        "id": "I9tYtgeHXnUV"
      }
    },
    {
      "cell_type": "markdown",
      "source": [
        "##VALORES UNICOS Y NULOS"
      ],
      "metadata": {
        "id": "Nhqux3mqD8-x"
      }
    },
    {
      "cell_type": "markdown",
      "source": [
        "VALORES UNICOS- UNIQUE"
      ],
      "metadata": {
        "id": "DOQdDdMsUWyZ"
      }
    },
    {
      "cell_type": "code",
      "source": [
        "df[\"title\"].unique()\n",
        "#df_employee[\"employee_residence\"].unique()"
      ],
      "metadata": {
        "id": "Zy2WpiRHTkKA"
      },
      "execution_count": null,
      "outputs": []
    },
    {
      "cell_type": "markdown",
      "source": [
        "VALORES NULOS"
      ],
      "metadata": {
        "id": "4r7I8cL9CXej"
      }
    },
    {
      "cell_type": "code",
      "source": [
        "# Count the number of null values in the entire DataFrame\n",
        "null_count = df.isnull().sum().sum()\n",
        "\n",
        "print(\"Number of null values in the DataFrame:\", null_count)"
      ],
      "metadata": {
        "id": "2jU6Wj4CSiuB"
      },
      "execution_count": null,
      "outputs": []
    },
    {
      "cell_type": "code",
      "source": [
        "# Count the number of null values in column 'A'\n",
        "null_count_A = df['A'].isnull().sum()\n",
        "\n",
        "print(\"Number of null values in column 'A':\", null_count_A)"
      ],
      "metadata": {
        "id": "3Vq9fv15Siri"
      },
      "execution_count": null,
      "outputs": []
    },
    {
      "cell_type": "code",
      "source": [
        "# Count the number of null values in the entire DataFrame\n",
        "null_count = df.isnull().sum().sum()"
      ],
      "metadata": {
        "id": "pH8ZZ9ERSiox"
      },
      "execution_count": null,
      "outputs": []
    },
    {
      "cell_type": "markdown",
      "source": [
        "SOLUCIONES PARA NULOS\n"
      ],
      "metadata": {
        "id": "k8-ItXMpR5KT"
      }
    },
    {
      "cell_type": "code",
      "source": [
        "#df.fillna(0).head()"
      ],
      "metadata": {
        "id": "keGoWpMwQ_A7"
      },
      "execution_count": null,
      "outputs": []
    },
    {
      "cell_type": "code",
      "source": [
        "#df = df[df['selling_price'].notna()]\n",
        "#df.head()"
      ],
      "metadata": {
        "id": "Kp0-XkpwQ-96"
      },
      "execution_count": null,
      "outputs": []
    },
    {
      "cell_type": "markdown",
      "source": [
        "REEMPLAZAR VALORES:\n",
        "**to_replace** : str, regex, list, dict, Series, int, float, or None\n",
        "\n",
        "**value** : scalar, dict, list, str, regex, default None\n",
        "Value to replace any values matching to_replace with. For a DataFrame, each column can be specified separately.\n",
        "\n",
        "**inplace** : bool, default False\n",
        "If True, in place. Note: this will modify any other views on this object (e.g. a column from a DataFrame).\n",
        "\n",
        "**limit** : int, default None\n",
        "Maximum number of replacements."
      ],
      "metadata": {
        "id": "uPDCucXdSo3Y"
      }
    },
    {
      "cell_type": "code",
      "source": [
        "DataFrame.replace(to_replace=None, value=None, inplace=False, limit=None, regex=False, method='pad')"
      ],
      "metadata": {
        "id": "ejvKG72wSxMS"
      },
      "execution_count": null,
      "outputs": []
    },
    {
      "cell_type": "markdown",
      "source": [
        "FILAS DUPLICADAS"
      ],
      "metadata": {
        "id": "P5KINXoZgCQi"
      }
    },
    {
      "cell_type": "code",
      "source": [
        "df.duplicated() #returns a boolean mask indicating whether each row is a duplicate of a previous row."
      ],
      "metadata": {
        "id": "lqhGMdgcgEdQ"
      },
      "execution_count": null,
      "outputs": []
    },
    {
      "cell_type": "code",
      "source": [
        "df_reordenado[df_reordenado.duplicated()] #filters the DataFrame to show only the duplicate rows."
      ],
      "metadata": {
        "id": "KojZjVeFgMWd"
      },
      "execution_count": null,
      "outputs": []
    },
    {
      "cell_type": "code",
      "source": [
        "df.drop_duplicates() #removes duplicate rows from the DataFrame.df[df.duplicated()]"
      ],
      "metadata": {
        "id": "8QNopyl_gMNz"
      },
      "execution_count": null,
      "outputs": []
    },
    {
      "cell_type": "markdown",
      "source": [
        "FECHAS"
      ],
      "metadata": {
        "id": "G8EAtw6CVUDF"
      }
    },
    {
      "cell_type": "markdown",
      "source": [
        "# GROUP BY"
      ],
      "metadata": {
        "id": "mM3eeCFtSKUV"
      }
    },
    {
      "cell_type": "code",
      "source": [
        "# groupby & agg\n",
        "  ## reset_index + sort_values\n",
        "  ## rename column\n",
        "\n",
        "#df.groupby('year').agg({'selling_price':['mean','max']}).reset_index().sort_values(by = 'year' , ascending = False).rename(columns = {'selling_price':'average_selling_price'}).head()\n",
        "# count\n",
        "#mean\n",
        "#max\n",
        "#min\n",
        "#nunique\n",
        "\n",
        "#df.groupby('name').agg({'selling_price':'max', 'year':'max'}).reset_index().rename(columns = {'selling_price':'precio_venta'}).head()\n",
        "\n",
        "#df.groupby(\"Gender\").agg({\"User ID\": \"nunique\" , \"Purchased\" : \"sum\"}).reset_index()\n"
      ],
      "metadata": {
        "id": "0HeGHUV5Q-7S"
      },
      "execution_count": null,
      "outputs": []
    },
    {
      "cell_type": "markdown",
      "source": [
        "# FORMATO TEXTO"
      ],
      "metadata": {
        "id": "tI4ns0-kFaau"
      }
    },
    {
      "cell_type": "markdown",
      "source": [
        "https://docs.python.org/3/library/string.html#module-string"
      ],
      "metadata": {
        "id": "Py5CoXxwG0XY"
      }
    },
    {
      "cell_type": "markdown",
      "source": [
        "Mayúsculas, minúsculas y primera letra en mayúscula"
      ],
      "metadata": {
        "id": "N2b-aI_TIfHl"
      }
    },
    {
      "cell_type": "code",
      "source": [
        "mayusculas = texto.upper()\n",
        "minusculas = texto.lower()\n",
        "capitalizacion = texto.capitalize()"
      ],
      "metadata": {
        "id": "hBVG7UPnFeC1"
      },
      "execution_count": null,
      "outputs": []
    },
    {
      "cell_type": "markdown",
      "source": [
        "Sacar espacios delante y detrás de la palabra"
      ],
      "metadata": {
        "id": "OSMjpZ8II2qS"
      }
    },
    {
      "cell_type": "code",
      "source": [
        "sin_espacios = texto.strip()"
      ],
      "metadata": {
        "id": "Rxk4MFJzI7jJ"
      },
      "execution_count": null,
      "outputs": []
    },
    {
      "cell_type": "markdown",
      "source": [
        "Reemplazar palabras y/o signos de puntuación"
      ],
      "metadata": {
        "id": "3cW29TooJCrn"
      }
    },
    {
      "cell_type": "code",
      "source": [
        "#texto.replace(old, new[, count]) <-- count: El número de veces que se debe reemplazar old por new. Si no se proporciona, se reemplazan todas las ocurrencias.\n",
        "reemplazar_palabra = texto.replace(\"mundo\", \"Python\")"
      ],
      "metadata": {
        "id": "Lxo0qXG9JGaj"
      },
      "execution_count": null,
      "outputs": []
    },
    {
      "cell_type": "code",
      "source": [
        "reemplazar_puntuacion = texto.replace(\",\", \"\").replace(\"!\", \"\")"
      ],
      "metadata": {
        "id": "L1axGxYeJMaF"
      },
      "execution_count": null,
      "outputs": []
    },
    {
      "cell_type": "code",
      "source": [
        "#Partir una cadena en una lista (split)\n",
        "texto.split(sep=None, maxsplit=-1) #<--maxsplit (optional): Maximum number of splits to do. -1 means no limit."
      ],
      "metadata": {
        "id": "L1YmFP0LQ1mb"
      },
      "execution_count": null,
      "outputs": []
    },
    {
      "cell_type": "markdown",
      "source": [
        "Encontrar el índice de una subcadena (find)"
      ],
      "metadata": {
        "id": "ggHiSVwkPxPl"
      }
    },
    {
      "cell_type": "code",
      "source": [
        "texto.find(sub[, start[, end]])"
      ],
      "metadata": {
        "id": "JkSQq6olPxsR"
      },
      "execution_count": null,
      "outputs": []
    },
    {
      "cell_type": "markdown",
      "source": [
        "Verificar prefijo y sufijo"
      ],
      "metadata": {
        "id": "7-qCuMxFQGnd"
      }
    },
    {
      "cell_type": "code",
      "source": [
        "Verificar prefijo (startswith)"
      ],
      "metadata": {
        "id": "7TkoglV9QHJd"
      },
      "execution_count": null,
      "outputs": []
    },
    {
      "cell_type": "code",
      "source": [
        "#Verificar prefijo (startswith)\n",
        "texto.startswith(prefix[, start[, end]])"
      ],
      "metadata": {
        "id": "X7s8NlTKQNzg"
      },
      "execution_count": null,
      "outputs": []
    },
    {
      "cell_type": "code",
      "source": [
        "#Verificar sufijo (endswith)\n",
        "texto.endswith(suffix[, start[, end]])"
      ],
      "metadata": {
        "id": "lxkz_ABeQiEp"
      },
      "execution_count": null,
      "outputs": []
    },
    {
      "cell_type": "markdown",
      "source": [
        "# GRAFICOS"
      ],
      "metadata": {
        "id": "Ph6HCurPEAMF"
      }
    },
    {
      "cell_type": "markdown",
      "source": [
        "HISTOGRAMA"
      ],
      "metadata": {
        "id": "BeYvYh6aWDMb"
      }
    },
    {
      "cell_type": "code",
      "source": [
        "df.hist(figsize = (10,5))"
      ],
      "metadata": {
        "id": "D44k8yQjQ_Qu"
      },
      "execution_count": null,
      "outputs": []
    },
    {
      "cell_type": "code",
      "source": [
        "#chequeo nulos\n",
        "df.isnull().sum()"
      ],
      "metadata": {
        "id": "QloaEfxLQ_Nl"
      },
      "execution_count": null,
      "outputs": []
    },
    {
      "cell_type": "code",
      "source": [
        "#añadimos fake nulos\n",
        "#df.selling_price.iloc[1] = np.nan"
      ],
      "metadata": {
        "id": "oPzmQZd7Q_KR"
      },
      "execution_count": null,
      "outputs": []
    },
    {
      "cell_type": "code",
      "source": [
        "#comprobamos de nuevo nulos\n",
        "df.isnull().sum()"
      ],
      "metadata": {
        "id": "l_GDJ84bQ_Dk"
      },
      "execution_count": null,
      "outputs": []
    },
    {
      "cell_type": "markdown",
      "source": [
        "PARA MODIFICAR FEHACIENTEMENTE EL DF\n"
      ],
      "metadata": {
        "id": "HVej1zDgX6Uy"
      }
    },
    {
      "cell_type": "code",
      "source": [
        "#({:}, inplace=True)"
      ],
      "metadata": {
        "id": "TPRqieCZX-vB"
      },
      "execution_count": null,
      "outputs": []
    },
    {
      "cell_type": "markdown",
      "source": [
        "# JUNTAR VARIOS DF"
      ],
      "metadata": {
        "id": "5KA5BrLJClLb"
      }
    },
    {
      "cell_type": "markdown",
      "source": [
        "Combining Data in pandas With merge(), .join(), and concat()\n",
        "\n",
        "merge() for combining data on common columns or indices\n",
        "\n",
        ".join() for combining data on a key column or an index\n",
        "\n",
        "concat() for combining DataFrames across rows or columns"
      ],
      "metadata": {
        "id": "kON7JZAJWjh3"
      }
    },
    {
      "cell_type": "code",
      "source": [
        "# Concatenate the two DataFrames vertically\n",
        "result = pd.concat([df1, df2], ignore_index=True)\n",
        "\n",
        "# Reorder columns\n",
        "result = result[['A', 'B']]"
      ],
      "metadata": {
        "id": "AbzK8uXNSi61"
      },
      "execution_count": null,
      "outputs": []
    },
    {
      "cell_type": "code",
      "source": [
        "# Get the unique values of column 'A'\n",
        "unique_values = df['A'].unique()"
      ],
      "metadata": {
        "id": "0V8zeeezSi4M"
      },
      "execution_count": null,
      "outputs": []
    },
    {
      "cell_type": "code",
      "source": [
        "value_counts = df['A'].value_counts()"
      ],
      "metadata": {
        "id": "SrlA8OiUSi1h"
      },
      "execution_count": null,
      "outputs": []
    },
    {
      "cell_type": "code",
      "source": [
        "# Get the unique values for all columns\n",
        "unique_values = df.apply(pd.Series.unique)"
      ],
      "metadata": {
        "id": "iGf56D9nSizA"
      },
      "execution_count": null,
      "outputs": []
    },
    {
      "cell_type": "code",
      "source": [
        "# Get the unique values for specific columns\n",
        "unique_values_subset = df[['A', 'B']].apply(pd.Series.unique)"
      ],
      "metadata": {
        "id": "6UbDHcBtnE6R"
      },
      "execution_count": null,
      "outputs": []
    },
    {
      "cell_type": "code",
      "source": [
        "value_counts = df['A'].value_counts()\n",
        "\n",
        "print(value_counts)"
      ],
      "metadata": {
        "id": "KEX7rDX2Siwp"
      },
      "execution_count": null,
      "outputs": []
    },
    {
      "cell_type": "markdown",
      "source": [
        "# GUARDARLO EN CSV"
      ],
      "metadata": {
        "id": "lTj8WpUGUruS"
      }
    },
    {
      "cell_type": "code",
      "source": [
        "#df.to_csv('employee.csv',sep=',', index=False, encoding='utf-8')"
      ],
      "metadata": {
        "id": "2uEwT7mrSi9B"
      },
      "execution_count": null,
      "outputs": []
    }
  ]
}